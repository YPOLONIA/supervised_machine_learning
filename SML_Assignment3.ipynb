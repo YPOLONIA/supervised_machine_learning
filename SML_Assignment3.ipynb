{
 "cells": [
  {
   "cell_type": "markdown",
   "id": "f71789a3-f550-4d20-913b-498b3ae04c47",
   "metadata": {},
   "source": [
    "# **Assignment 3**\n",
    "* Yanna Polonia"
   ]
  },
  {
   "cell_type": "markdown",
   "id": "b3567ecc-f7b0-4148-bdbc-6aa3680301fe",
   "metadata": {},
   "source": [
    "## **Problem Statement**\n",
    "\n",
    "### This data represents the condition of an electrical mini-substation based on readings from voltage, current and temperature sensor readings. A condition of ‘0’ represents a properly functioning device, while a condition of ‘1’ represents failure. The model is to be used to alert maintenance staff of when a device has failed so that they can repair the mini-substation as soon as possible."
   ]
  },
  {
   "cell_type": "markdown",
   "id": "793ca62b-3ca3-46fb-bb3f-bab97a3c62e1",
   "metadata": {},
   "source": [
    "## **Question 1:**\n",
    "\n",
    "### **Which is worse for this use case, a false positive or a false negative?**\n",
    "\n",
    "### <span style='color:blue'>**On a balanced situation being this mini-substation used to maintain critical activities going on and representing their repair cost (personnel to be deployed to fix it, parts and so on), a false negative will be worse because picturing the mini-substation is used for a hospital or an airport, its failure can end up in human damage.**</span>\n",
    "\n",
    "### **What value of β would be suitable for an Fβ score?**\n",
    "\n",
    "### <span style='color:blue'>**β should be higher than 1 to avoid false negative (so it could be 2 in this case), a high recall model is required**</span>"
   ]
  },
  {
   "cell_type": "code",
   "execution_count": 1,
   "id": "cc4e01f1-e0e8-45ff-9477-61e7025b9f01",
   "metadata": {},
   "outputs": [],
   "source": [
    "# Importing packages\n",
    "from matplotlib import pyplot as plt\n",
    "import numpy as np\n",
    "import random\n",
    "random.seed(0)\n",
    "import turicreate as tc\n",
    "import utils"
   ]
  },
  {
   "cell_type": "markdown",
   "id": "d3ef1999-a799-4e27-b007-9d646d7cc193",
   "metadata": {
    "tags": []
   },
   "source": [
    "## **Question 2:**\n",
    "\n",
    "### **Loading the CSV file generated using SMLCode into an SFrame named data and displaying is content afterwards**"
   ]
  },
  {
   "cell_type": "code",
   "execution_count": 2,
   "id": "5c46f59a-c930-4d32-9f7e-b23f0fe3dfdf",
   "metadata": {},
   "outputs": [
    {
     "data": {
      "text/html": [
       "<pre>Finished parsing file /home/ypolonia/SupervisedML/Assignment3/398791_data.csv</pre>"
      ],
      "text/plain": [
       "Finished parsing file /home/ypolonia/SupervisedML/Assignment3/398791_data.csv"
      ]
     },
     "metadata": {},
     "output_type": "display_data"
    },
    {
     "name": "stdout",
     "output_type": "stream",
     "text": [
      "------------------------------------------------------\n",
      "Inferred types from first 100 line(s) of file as \n",
      "column_type_hints=[int,float,float,float]\n",
      "If parsing fails due to incorrect types, you can correct\n",
      "the inferred type list above and pass it to read_csv in\n",
      "the column_type_hints argument\n",
      "------------------------------------------------------\n"
     ]
    },
    {
     "data": {
      "text/html": [
       "<pre>Parsing completed. Parsed 100 lines in 0.025964 secs.</pre>"
      ],
      "text/plain": [
       "Parsing completed. Parsed 100 lines in 0.025964 secs."
      ]
     },
     "metadata": {},
     "output_type": "display_data"
    },
    {
     "data": {
      "text/html": [
       "<pre>Finished parsing file /home/ypolonia/SupervisedML/Assignment3/398791_data.csv</pre>"
      ],
      "text/plain": [
       "Finished parsing file /home/ypolonia/SupervisedML/Assignment3/398791_data.csv"
      ]
     },
     "metadata": {},
     "output_type": "display_data"
    },
    {
     "data": {
      "text/html": [
       "<pre>Parsing completed. Parsed 1000 lines in 0.026694 secs.</pre>"
      ],
      "text/plain": [
       "Parsing completed. Parsed 1000 lines in 0.026694 secs."
      ]
     },
     "metadata": {},
     "output_type": "display_data"
    },
    {
     "data": {
      "text/html": [
       "<div style=\"max-height:1000px;max-width:1500px;overflow:auto;\"><table frame=\"box\" rules=\"cols\">\n",
       "    <tr>\n",
       "        <th style=\"padding-left: 1em; padding-right: 1em; text-align: center\">Condition</th>\n",
       "        <th style=\"padding-left: 1em; padding-right: 1em; text-align: center\">Voltage</th>\n",
       "        <th style=\"padding-left: 1em; padding-right: 1em; text-align: center\">Current</th>\n",
       "        <th style=\"padding-left: 1em; padding-right: 1em; text-align: center\">Temperature</th>\n",
       "    </tr>\n",
       "    <tr>\n",
       "        <td style=\"padding-left: 1em; padding-right: 1em; text-align: center; vertical-align: top\">1</td>\n",
       "        <td style=\"padding-left: 1em; padding-right: 1em; text-align: center; vertical-align: top\">66.41917850435287</td>\n",
       "        <td style=\"padding-left: 1em; padding-right: 1em; text-align: center; vertical-align: top\">410.76481898475686</td>\n",
       "        <td style=\"padding-left: 1em; padding-right: 1em; text-align: center; vertical-align: top\">62.64437488331776</td>\n",
       "    </tr>\n",
       "    <tr>\n",
       "        <td style=\"padding-left: 1em; padding-right: 1em; text-align: center; vertical-align: top\">1</td>\n",
       "        <td style=\"padding-left: 1em; padding-right: 1em; text-align: center; vertical-align: top\">66.01044424541274</td>\n",
       "        <td style=\"padding-left: 1em; padding-right: 1em; text-align: center; vertical-align: top\">412.0386278949937</td>\n",
       "        <td style=\"padding-left: 1em; padding-right: 1em; text-align: center; vertical-align: top\">31.590241857753487</td>\n",
       "    </tr>\n",
       "    <tr>\n",
       "        <td style=\"padding-left: 1em; padding-right: 1em; text-align: center; vertical-align: top\">1</td>\n",
       "        <td style=\"padding-left: 1em; padding-right: 1em; text-align: center; vertical-align: top\">66.72709296483444</td>\n",
       "        <td style=\"padding-left: 1em; padding-right: 1em; text-align: center; vertical-align: top\">411.6973882499786</td>\n",
       "        <td style=\"padding-left: 1em; padding-right: 1em; text-align: center; vertical-align: top\">63.931543113699966</td>\n",
       "    </tr>\n",
       "    <tr>\n",
       "        <td style=\"padding-left: 1em; padding-right: 1em; text-align: center; vertical-align: top\">1</td>\n",
       "        <td style=\"padding-left: 1em; padding-right: 1em; text-align: center; vertical-align: top\">66.74640459720754</td>\n",
       "        <td style=\"padding-left: 1em; padding-right: 1em; text-align: center; vertical-align: top\">413.5890653412429</td>\n",
       "        <td style=\"padding-left: 1em; padding-right: 1em; text-align: center; vertical-align: top\">54.1037712609902</td>\n",
       "    </tr>\n",
       "    <tr>\n",
       "        <td style=\"padding-left: 1em; padding-right: 1em; text-align: center; vertical-align: top\">1</td>\n",
       "        <td style=\"padding-left: 1em; padding-right: 1em; text-align: center; vertical-align: top\">67.03588659792423</td>\n",
       "        <td style=\"padding-left: 1em; padding-right: 1em; text-align: center; vertical-align: top\">411.3148941632079</td>\n",
       "        <td style=\"padding-left: 1em; padding-right: 1em; text-align: center; vertical-align: top\">35.49446439679747</td>\n",
       "    </tr>\n",
       "    <tr>\n",
       "        <td style=\"padding-left: 1em; padding-right: 1em; text-align: center; vertical-align: top\">1</td>\n",
       "        <td style=\"padding-left: 1em; padding-right: 1em; text-align: center; vertical-align: top\">64.96468623549002</td>\n",
       "        <td style=\"padding-left: 1em; padding-right: 1em; text-align: center; vertical-align: top\">413.86353032923665</td>\n",
       "        <td style=\"padding-left: 1em; padding-right: 1em; text-align: center; vertical-align: top\">52.50231143693807</td>\n",
       "    </tr>\n",
       "    <tr>\n",
       "        <td style=\"padding-left: 1em; padding-right: 1em; text-align: center; vertical-align: top\">1</td>\n",
       "        <td style=\"padding-left: 1em; padding-right: 1em; text-align: center; vertical-align: top\">65.01176068470157</td>\n",
       "        <td style=\"padding-left: 1em; padding-right: 1em; text-align: center; vertical-align: top\">409.9774492898164</td>\n",
       "        <td style=\"padding-left: 1em; padding-right: 1em; text-align: center; vertical-align: top\">35.4313846937502</td>\n",
       "    </tr>\n",
       "    <tr>\n",
       "        <td style=\"padding-left: 1em; padding-right: 1em; text-align: center; vertical-align: top\">1</td>\n",
       "        <td style=\"padding-left: 1em; padding-right: 1em; text-align: center; vertical-align: top\">65.35061040853004</td>\n",
       "        <td style=\"padding-left: 1em; padding-right: 1em; text-align: center; vertical-align: top\">411.3017302653269</td>\n",
       "        <td style=\"padding-left: 1em; padding-right: 1em; text-align: center; vertical-align: top\">55.49484739838955</td>\n",
       "    </tr>\n",
       "    <tr>\n",
       "        <td style=\"padding-left: 1em; padding-right: 1em; text-align: center; vertical-align: top\">1</td>\n",
       "        <td style=\"padding-left: 1em; padding-right: 1em; text-align: center; vertical-align: top\">65.91739768885215</td>\n",
       "        <td style=\"padding-left: 1em; padding-right: 1em; text-align: center; vertical-align: top\">412.7694787785817</td>\n",
       "        <td style=\"padding-left: 1em; padding-right: 1em; text-align: center; vertical-align: top\">59.77051701062758</td>\n",
       "    </tr>\n",
       "    <tr>\n",
       "        <td style=\"padding-left: 1em; padding-right: 1em; text-align: center; vertical-align: top\">1</td>\n",
       "        <td style=\"padding-left: 1em; padding-right: 1em; text-align: center; vertical-align: top\">66.11552269048278</td>\n",
       "        <td style=\"padding-left: 1em; padding-right: 1em; text-align: center; vertical-align: top\">412.4099489437384</td>\n",
       "        <td style=\"padding-left: 1em; padding-right: 1em; text-align: center; vertical-align: top\">64.67590391182634</td>\n",
       "    </tr>\n",
       "</table>\n",
       "[1000 rows x 4 columns]<br/>Note: Only the head of the SFrame is printed.<br/>You can use print_rows(num_rows=m, num_columns=n) to print more rows and columns.\n",
       "</div>"
      ],
      "text/plain": [
       "Columns:\n",
       "\tCondition\tint\n",
       "\tVoltage\tfloat\n",
       "\tCurrent\tfloat\n",
       "\tTemperature\tfloat\n",
       "\n",
       "Rows: 1000\n",
       "\n",
       "Data:\n",
       "+-----------+-------------------+--------------------+--------------------+\n",
       "| Condition |      Voltage      |      Current       |    Temperature     |\n",
       "+-----------+-------------------+--------------------+--------------------+\n",
       "|     1     | 66.41917850435287 | 410.76481898475686 | 62.64437488331776  |\n",
       "|     1     | 66.01044424541274 | 412.0386278949937  | 31.590241857753487 |\n",
       "|     1     | 66.72709296483444 | 411.6973882499786  | 63.931543113699966 |\n",
       "|     1     | 66.74640459720754 | 413.5890653412429  |  54.1037712609902  |\n",
       "|     1     | 67.03588659792423 | 411.3148941632079  | 35.49446439679747  |\n",
       "|     1     | 64.96468623549002 | 413.86353032923665 | 52.50231143693807  |\n",
       "|     1     | 65.01176068470157 | 409.9774492898164  |  35.4313846937502  |\n",
       "|     1     | 65.35061040853004 | 411.3017302653269  | 55.49484739838955  |\n",
       "|     1     | 65.91739768885215 | 412.7694787785817  | 59.77051701062758  |\n",
       "|     1     | 66.11552269048278 | 412.4099489437384  | 64.67590391182634  |\n",
       "+-----------+-------------------+--------------------+--------------------+\n",
       "[1000 rows x 4 columns]\n",
       "Note: Only the head of the SFrame is printed.\n",
       "You can use print_rows(num_rows=m, num_columns=n) to print more rows and columns."
      ]
     },
     "execution_count": 2,
     "metadata": {},
     "output_type": "execute_result"
    }
   ],
   "source": [
    "data = tc.SFrame.read_csv('398791_data.csv')\n",
    "data"
   ]
  },
  {
   "cell_type": "markdown",
   "id": "25ea197a-5808-4f12-8e53-97a1aaadd03b",
   "metadata": {},
   "source": [
    "### **Splitting the data into training/validation/testing sets using 80% / 10% / 10% respectively**\n",
    "* Storing 80% of the data in the train dataset, the remain is divided 50/50 to store 10% of it for both: validation and test dataset"
   ]
  },
  {
   "cell_type": "code",
   "execution_count": 3,
   "id": "3c1d717f-f792-4abb-8702-70022f0cce8b",
   "metadata": {},
   "outputs": [],
   "source": [
    "train, remain = data.random_split(.8, seed=0)"
   ]
  },
  {
   "cell_type": "code",
   "execution_count": 4,
   "id": "36af14c0-fd68-4d7d-8d97-ac5c4ff51fec",
   "metadata": {},
   "outputs": [],
   "source": [
    "validation, test = remain.random_split(.5, seed=0)"
   ]
  },
  {
   "cell_type": "code",
   "execution_count": 5,
   "id": "280d8fe3-5810-4790-a841-b22d2357b62c",
   "metadata": {},
   "outputs": [
    {
     "name": "stdout",
     "output_type": "stream",
     "text": [
      "Datasets length obtained after splitting data:\n",
      "\n",
      "Training: 797 \n",
      "Validation: 100 \n",
      "Test: 103\n"
     ]
    }
   ],
   "source": [
    "# Verifying datasets proportions obtained\n",
    "print('Datasets length obtained after splitting data:\\n')\n",
    "print(f\"Training: {len(train)} \\nValidation: {len(validation)} \\nTest: {len(test)}\")"
   ]
  },
  {
   "cell_type": "markdown",
   "id": "f71697cf-43a2-49df-9d49-69969e6f5995",
   "metadata": {},
   "source": [
    "## **Question 3:**\n",
    "\n",
    "### **Is feature rescaling turned on by default for the function turicreate.logistic_classifier.create?**\n",
    "\n",
    "### <span style='color:blue'>**Feature rescaling is by default set to \"True\" but this is an optional parameter in this function, the documentation states that: an l2-norm rescaling is performed to make sure that all features are of the same norm. Categorical features are also rescaled by rescaling the dummy variables that are used to represent them.  Previous explanation is focused on L2 as the function was designed to follow the ridge regression by deafult).**</span>\n",
    "\n",
    "### **What scale (original or rescaled) are the coefficients given in?**\n",
    "\n",
    "### <span style='color:blue'>**The coefficients are returned in original scale of the problem.**</span>"
   ]
  },
  {
   "cell_type": "markdown",
   "id": "9ab08714-efd7-485e-908a-1082524bac0c",
   "metadata": {},
   "source": [
    "## **Question 4:**\n",
    "\n",
    "### **Creating perceptrons using Turicreate to classify data with ‘Condition’ as the target. Experimenting with different values of hyperparameters to develop two different models**"
   ]
  },
  {
   "cell_type": "code",
   "execution_count": 11,
   "id": "9c58eca9-ec0c-45be-94ff-00f1fc0cb7bc",
   "metadata": {},
   "outputs": [],
   "source": [
    "value = 0.01    # Stores default value (reference), using 0.01 as it is the default one for L2 for the logistic_classifier\n",
    "grid_search = []   # To store different values for L1 and L2 to create models based on them\n",
    "\n",
    "for num in range (0 , 60, 10):\n",
    "    if num * value == 0:         # This if allows two pair of values of L1 and L2, being one of them 0.01 and the other 0 and viceversa.\n",
    "        grid_search.append({'L1': num * value, 'L2': value, 'feature_rescaling': random.randint(0, 1)})  \n",
    "        grid_search.append({'L1': value, 'L2': num * value, 'feature_rescaling': random.randint(0, 1)})\n",
    "    elif num * value != 0:      # Setting same value for L1 and L2 (values used are less than 1 - keeping 0.01 as reference value to get new values) \n",
    "        grid_search.append({'L1': num * value, 'L2': num * value, 'feature_rescaling': random.randint(0, 1)})\n",
    "        \n",
    "#tc.evaluation.confusion_matrix("
   ]
  },
  {
   "cell_type": "code",
   "execution_count": 12,
   "id": "53a69f63-efcf-44ff-ac03-d10a890c9c2b",
   "metadata": {},
   "outputs": [
    {
     "data": {
      "text/html": [
       "<pre>Logistic regression:</pre>"
      ],
      "text/plain": [
       "Logistic regression:"
      ]
     },
     "metadata": {},
     "output_type": "display_data"
    },
    {
     "data": {
      "text/html": [
       "<pre>--------------------------------------------------------</pre>"
      ],
      "text/plain": [
       "--------------------------------------------------------"
      ]
     },
     "metadata": {},
     "output_type": "display_data"
    },
    {
     "data": {
      "text/html": [
       "<pre>Number of examples          : 797</pre>"
      ],
      "text/plain": [
       "Number of examples          : 797"
      ]
     },
     "metadata": {},
     "output_type": "display_data"
    },
    {
     "data": {
      "text/html": [
       "<pre>Number of classes           : 2</pre>"
      ],
      "text/plain": [
       "Number of classes           : 2"
      ]
     },
     "metadata": {},
     "output_type": "display_data"
    },
    {
     "data": {
      "text/html": [
       "<pre>Number of feature columns   : 3</pre>"
      ],
      "text/plain": [
       "Number of feature columns   : 3"
      ]
     },
     "metadata": {},
     "output_type": "display_data"
    },
    {
     "data": {
      "text/html": [
       "<pre>Number of unpacked features : 3</pre>"
      ],
      "text/plain": [
       "Number of unpacked features : 3"
      ]
     },
     "metadata": {},
     "output_type": "display_data"
    },
    {
     "data": {
      "text/html": [
       "<pre>Number of coefficients      : 4</pre>"
      ],
      "text/plain": [
       "Number of coefficients      : 4"
      ]
     },
     "metadata": {},
     "output_type": "display_data"
    },
    {
     "data": {
      "text/html": [
       "<pre>Starting Newton Method</pre>"
      ],
      "text/plain": [
       "Starting Newton Method"
      ]
     },
     "metadata": {},
     "output_type": "display_data"
    },
    {
     "data": {
      "text/html": [
       "<pre>--------------------------------------------------------</pre>"
      ],
      "text/plain": [
       "--------------------------------------------------------"
      ]
     },
     "metadata": {},
     "output_type": "display_data"
    },
    {
     "data": {
      "text/html": [
       "<pre>+-----------+----------+--------------+-------------------+---------------------+</pre>"
      ],
      "text/plain": [
       "+-----------+----------+--------------+-------------------+---------------------+"
      ]
     },
     "metadata": {},
     "output_type": "display_data"
    },
    {
     "data": {
      "text/html": [
       "<pre>| Iteration | Passes   | Elapsed Time | Training Accuracy | Validation Accuracy |</pre>"
      ],
      "text/plain": [
       "| Iteration | Passes   | Elapsed Time | Training Accuracy | Validation Accuracy |"
      ]
     },
     "metadata": {},
     "output_type": "display_data"
    },
    {
     "data": {
      "text/html": [
       "<pre>+-----------+----------+--------------+-------------------+---------------------+</pre>"
      ],
      "text/plain": [
       "+-----------+----------+--------------+-------------------+---------------------+"
      ]
     },
     "metadata": {},
     "output_type": "display_data"
    },
    {
     "data": {
      "text/html": [
       "<pre>| 1         | 2        | 0.001411     | 0.912171          | 0.830000            |</pre>"
      ],
      "text/plain": [
       "| 1         | 2        | 0.001411     | 0.912171          | 0.830000            |"
      ]
     },
     "metadata": {},
     "output_type": "display_data"
    },
    {
     "data": {
      "text/html": [
       "<pre>| 2         | 3        | 0.003886     | 0.912171          | 0.830000            |</pre>"
      ],
      "text/plain": [
       "| 2         | 3        | 0.003886     | 0.912171          | 0.830000            |"
      ]
     },
     "metadata": {},
     "output_type": "display_data"
    },
    {
     "data": {
      "text/html": [
       "<pre>| 3         | 4        | 0.006229     | 0.912171          | 0.830000            |</pre>"
      ],
      "text/plain": [
       "| 3         | 4        | 0.006229     | 0.912171          | 0.830000            |"
      ]
     },
     "metadata": {},
     "output_type": "display_data"
    },
    {
     "data": {
      "text/html": [
       "<pre>| 4         | 5        | 0.008567     | 0.912171          | 0.830000            |</pre>"
      ],
      "text/plain": [
       "| 4         | 5        | 0.008567     | 0.912171          | 0.830000            |"
      ]
     },
     "metadata": {},
     "output_type": "display_data"
    },
    {
     "data": {
      "text/html": [
       "<pre>+-----------+----------+--------------+-------------------+---------------------+</pre>"
      ],
      "text/plain": [
       "+-----------+----------+--------------+-------------------+---------------------+"
      ]
     },
     "metadata": {},
     "output_type": "display_data"
    },
    {
     "data": {
      "text/html": [
       "<pre>SUCCESS: Optimal solution found.</pre>"
      ],
      "text/plain": [
       "SUCCESS: Optimal solution found."
      ]
     },
     "metadata": {},
     "output_type": "display_data"
    },
    {
     "data": {
      "text/html": [
       "<pre></pre>"
      ],
      "text/plain": []
     },
     "metadata": {},
     "output_type": "display_data"
    },
    {
     "data": {
      "text/html": [
       "<pre>Logistic regression:</pre>"
      ],
      "text/plain": [
       "Logistic regression:"
      ]
     },
     "metadata": {},
     "output_type": "display_data"
    },
    {
     "data": {
      "text/html": [
       "<pre>--------------------------------------------------------</pre>"
      ],
      "text/plain": [
       "--------------------------------------------------------"
      ]
     },
     "metadata": {},
     "output_type": "display_data"
    },
    {
     "data": {
      "text/html": [
       "<pre>Number of examples          : 797</pre>"
      ],
      "text/plain": [
       "Number of examples          : 797"
      ]
     },
     "metadata": {},
     "output_type": "display_data"
    },
    {
     "data": {
      "text/html": [
       "<pre>Number of classes           : 2</pre>"
      ],
      "text/plain": [
       "Number of classes           : 2"
      ]
     },
     "metadata": {},
     "output_type": "display_data"
    },
    {
     "data": {
      "text/html": [
       "<pre>Number of feature columns   : 3</pre>"
      ],
      "text/plain": [
       "Number of feature columns   : 3"
      ]
     },
     "metadata": {},
     "output_type": "display_data"
    },
    {
     "data": {
      "text/html": [
       "<pre>Number of unpacked features : 3</pre>"
      ],
      "text/plain": [
       "Number of unpacked features : 3"
      ]
     },
     "metadata": {},
     "output_type": "display_data"
    },
    {
     "data": {
      "text/html": [
       "<pre>Number of coefficients      : 4</pre>"
      ],
      "text/plain": [
       "Number of coefficients      : 4"
      ]
     },
     "metadata": {},
     "output_type": "display_data"
    },
    {
     "data": {
      "text/html": [
       "<pre>Starting Accelerated Gradient (FISTA)</pre>"
      ],
      "text/plain": [
       "Starting Accelerated Gradient (FISTA)"
      ]
     },
     "metadata": {},
     "output_type": "display_data"
    },
    {
     "data": {
      "text/html": [
       "<pre>--------------------------------------------------------</pre>"
      ],
      "text/plain": [
       "--------------------------------------------------------"
      ]
     },
     "metadata": {},
     "output_type": "display_data"
    },
    {
     "data": {
      "text/html": [
       "<pre>Tuning step size. First iteration could take longer than subsequent iterations.</pre>"
      ],
      "text/plain": [
       "Tuning step size. First iteration could take longer than subsequent iterations."
      ]
     },
     "metadata": {},
     "output_type": "display_data"
    },
    {
     "data": {
      "text/html": [
       "<pre>+-----------+----------+-----------+--------------+-------------------+---------------------+</pre>"
      ],
      "text/plain": [
       "+-----------+----------+-----------+--------------+-------------------+---------------------+"
      ]
     },
     "metadata": {},
     "output_type": "display_data"
    },
    {
     "data": {
      "text/html": [
       "<pre>| Iteration | Passes   | Step size | Elapsed Time | Training Accuracy | Validation Accuracy |</pre>"
      ],
      "text/plain": [
       "| Iteration | Passes   | Step size | Elapsed Time | Training Accuracy | Validation Accuracy |"
      ]
     },
     "metadata": {},
     "output_type": "display_data"
    },
    {
     "data": {
      "text/html": [
       "<pre>+-----------+----------+-----------+--------------+-------------------+---------------------+</pre>"
      ],
      "text/plain": [
       "+-----------+----------+-----------+--------------+-------------------+---------------------+"
      ]
     },
     "metadata": {},
     "output_type": "display_data"
    },
    {
     "data": {
      "text/html": [
       "<pre>| 0         | 1        | 1.000000  | 0.001078     | 0.498118          | 0.510000            |</pre>"
      ],
      "text/plain": [
       "| 0         | 1        | 1.000000  | 0.001078     | 0.498118          | 0.510000            |"
      ]
     },
     "metadata": {},
     "output_type": "display_data"
    },
    {
     "data": {
      "text/html": [
       "<pre>| 1         | 2        | 0.005138  | 0.012385     | 0.912171          | 0.830000            |</pre>"
      ],
      "text/plain": [
       "| 1         | 2        | 0.005138  | 0.012385     | 0.912171          | 0.830000            |"
      ]
     },
     "metadata": {},
     "output_type": "display_data"
    },
    {
     "data": {
      "text/html": [
       "<pre>| 2         | 3        | 0.003425  | 0.015741     | 0.912171          | 0.830000            |</pre>"
      ],
      "text/plain": [
       "| 2         | 3        | 0.003425  | 0.015741     | 0.912171          | 0.830000            |"
      ]
     },
     "metadata": {},
     "output_type": "display_data"
    },
    {
     "data": {
      "text/html": [
       "<pre>| 3         | 4        | 0.003425  | 0.017896     | 0.912171          | 0.830000            |</pre>"
      ],
      "text/plain": [
       "| 3         | 4        | 0.003425  | 0.017896     | 0.912171          | 0.830000            |"
      ]
     },
     "metadata": {},
     "output_type": "display_data"
    },
    {
     "data": {
      "text/html": [
       "<pre>| 4         | 5        | 0.003425  | 0.020819     | 0.912171          | 0.830000            |</pre>"
      ],
      "text/plain": [
       "| 4         | 5        | 0.003425  | 0.020819     | 0.912171          | 0.830000            |"
      ]
     },
     "metadata": {},
     "output_type": "display_data"
    },
    {
     "data": {
      "text/html": [
       "<pre>| 5         | 6        | 0.003425  | 0.023011     | 0.912171          | 0.830000            |</pre>"
      ],
      "text/plain": [
       "| 5         | 6        | 0.003425  | 0.023011     | 0.912171          | 0.830000            |"
      ]
     },
     "metadata": {},
     "output_type": "display_data"
    },
    {
     "data": {
      "text/html": [
       "<pre>| 10        | 11       | 0.003425  | 0.035396     | 0.912171          | 0.830000            |</pre>"
      ],
      "text/plain": [
       "| 10        | 11       | 0.003425  | 0.035396     | 0.912171          | 0.830000            |"
      ]
     },
     "metadata": {},
     "output_type": "display_data"
    },
    {
     "data": {
      "text/html": [
       "<pre>| 50        | 51       | 0.003425  | 0.134722     | 0.912171          | 0.830000            |</pre>"
      ],
      "text/plain": [
       "| 50        | 51       | 0.003425  | 0.134722     | 0.912171          | 0.830000            |"
      ]
     },
     "metadata": {},
     "output_type": "display_data"
    },
    {
     "data": {
      "text/html": [
       "<pre>+-----------+----------+-----------+--------------+-------------------+---------------------+</pre>"
      ],
      "text/plain": [
       "+-----------+----------+-----------+--------------+-------------------+---------------------+"
      ]
     },
     "metadata": {},
     "output_type": "display_data"
    },
    {
     "data": {
      "text/html": [
       "<pre>Completed (Iteration limit reached).</pre>"
      ],
      "text/plain": [
       "Completed (Iteration limit reached)."
      ]
     },
     "metadata": {},
     "output_type": "display_data"
    },
    {
     "data": {
      "text/html": [
       "<pre>This model may not be optimal. To improve it, consider increasing `max_iterations`.</pre>"
      ],
      "text/plain": [
       "This model may not be optimal. To improve it, consider increasing `max_iterations`."
      ]
     },
     "metadata": {},
     "output_type": "display_data"
    },
    {
     "data": {
      "text/html": [
       "<pre>Logistic regression:</pre>"
      ],
      "text/plain": [
       "Logistic regression:"
      ]
     },
     "metadata": {},
     "output_type": "display_data"
    },
    {
     "data": {
      "text/html": [
       "<pre>--------------------------------------------------------</pre>"
      ],
      "text/plain": [
       "--------------------------------------------------------"
      ]
     },
     "metadata": {},
     "output_type": "display_data"
    },
    {
     "data": {
      "text/html": [
       "<pre>Number of examples          : 797</pre>"
      ],
      "text/plain": [
       "Number of examples          : 797"
      ]
     },
     "metadata": {},
     "output_type": "display_data"
    },
    {
     "data": {
      "text/html": [
       "<pre>Number of classes           : 2</pre>"
      ],
      "text/plain": [
       "Number of classes           : 2"
      ]
     },
     "metadata": {},
     "output_type": "display_data"
    },
    {
     "data": {
      "text/html": [
       "<pre>Number of feature columns   : 3</pre>"
      ],
      "text/plain": [
       "Number of feature columns   : 3"
      ]
     },
     "metadata": {},
     "output_type": "display_data"
    },
    {
     "data": {
      "text/html": [
       "<pre>Number of unpacked features : 3</pre>"
      ],
      "text/plain": [
       "Number of unpacked features : 3"
      ]
     },
     "metadata": {},
     "output_type": "display_data"
    },
    {
     "data": {
      "text/html": [
       "<pre>Number of coefficients      : 4</pre>"
      ],
      "text/plain": [
       "Number of coefficients      : 4"
      ]
     },
     "metadata": {},
     "output_type": "display_data"
    },
    {
     "data": {
      "text/html": [
       "<pre>Starting Accelerated Gradient (FISTA)</pre>"
      ],
      "text/plain": [
       "Starting Accelerated Gradient (FISTA)"
      ]
     },
     "metadata": {},
     "output_type": "display_data"
    },
    {
     "data": {
      "text/html": [
       "<pre>--------------------------------------------------------</pre>"
      ],
      "text/plain": [
       "--------------------------------------------------------"
      ]
     },
     "metadata": {},
     "output_type": "display_data"
    },
    {
     "data": {
      "text/html": [
       "<pre>Tuning step size. First iteration could take longer than subsequent iterations.</pre>"
      ],
      "text/plain": [
       "Tuning step size. First iteration could take longer than subsequent iterations."
      ]
     },
     "metadata": {},
     "output_type": "display_data"
    },
    {
     "data": {
      "text/html": [
       "<pre>+-----------+----------+-----------+--------------+-------------------+---------------------+</pre>"
      ],
      "text/plain": [
       "+-----------+----------+-----------+--------------+-------------------+---------------------+"
      ]
     },
     "metadata": {},
     "output_type": "display_data"
    },
    {
     "data": {
      "text/html": [
       "<pre>| Iteration | Passes   | Step size | Elapsed Time | Training Accuracy | Validation Accuracy |</pre>"
      ],
      "text/plain": [
       "| Iteration | Passes   | Step size | Elapsed Time | Training Accuracy | Validation Accuracy |"
      ]
     },
     "metadata": {},
     "output_type": "display_data"
    },
    {
     "data": {
      "text/html": [
       "<pre>+-----------+----------+-----------+--------------+-------------------+---------------------+</pre>"
      ],
      "text/plain": [
       "+-----------+----------+-----------+--------------+-------------------+---------------------+"
      ]
     },
     "metadata": {},
     "output_type": "display_data"
    },
    {
     "data": {
      "text/html": [
       "<pre>| 0         | 1        | 1.000000  | 0.000561     | 0.498118          | 0.510000            |</pre>"
      ],
      "text/plain": [
       "| 0         | 1        | 1.000000  | 0.000561     | 0.498118          | 0.510000            |"
      ]
     },
     "metadata": {},
     "output_type": "display_data"
    },
    {
     "data": {
      "text/html": [
       "<pre>| 1         | 2        | 0.000000  | 0.034913     | 0.501882          | 0.490000            |</pre>"
      ],
      "text/plain": [
       "| 1         | 2        | 0.000000  | 0.034913     | 0.501882          | 0.490000            |"
      ]
     },
     "metadata": {},
     "output_type": "display_data"
    },
    {
     "data": {
      "text/html": [
       "<pre>+-----------+----------+-----------+--------------+-------------------+---------------------+</pre>"
      ],
      "text/plain": [
       "+-----------+----------+-----------+--------------+-------------------+---------------------+"
      ]
     },
     "metadata": {},
     "output_type": "display_data"
    },
    {
     "data": {
      "text/html": [
       "<pre>SUCCESS: Optimal solution found.</pre>"
      ],
      "text/plain": [
       "SUCCESS: Optimal solution found."
      ]
     },
     "metadata": {},
     "output_type": "display_data"
    },
    {
     "data": {
      "text/html": [
       "<pre></pre>"
      ],
      "text/plain": []
     },
     "metadata": {},
     "output_type": "display_data"
    },
    {
     "data": {
      "text/html": [
       "<pre>Logistic regression:</pre>"
      ],
      "text/plain": [
       "Logistic regression:"
      ]
     },
     "metadata": {},
     "output_type": "display_data"
    },
    {
     "data": {
      "text/html": [
       "<pre>--------------------------------------------------------</pre>"
      ],
      "text/plain": [
       "--------------------------------------------------------"
      ]
     },
     "metadata": {},
     "output_type": "display_data"
    },
    {
     "data": {
      "text/html": [
       "<pre>Number of examples          : 797</pre>"
      ],
      "text/plain": [
       "Number of examples          : 797"
      ]
     },
     "metadata": {},
     "output_type": "display_data"
    },
    {
     "data": {
      "text/html": [
       "<pre>Number of classes           : 2</pre>"
      ],
      "text/plain": [
       "Number of classes           : 2"
      ]
     },
     "metadata": {},
     "output_type": "display_data"
    },
    {
     "data": {
      "text/html": [
       "<pre>Number of feature columns   : 3</pre>"
      ],
      "text/plain": [
       "Number of feature columns   : 3"
      ]
     },
     "metadata": {},
     "output_type": "display_data"
    },
    {
     "data": {
      "text/html": [
       "<pre>Number of unpacked features : 3</pre>"
      ],
      "text/plain": [
       "Number of unpacked features : 3"
      ]
     },
     "metadata": {},
     "output_type": "display_data"
    },
    {
     "data": {
      "text/html": [
       "<pre>Number of coefficients      : 4</pre>"
      ],
      "text/plain": [
       "Number of coefficients      : 4"
      ]
     },
     "metadata": {},
     "output_type": "display_data"
    },
    {
     "data": {
      "text/html": [
       "<pre>Starting Accelerated Gradient (FISTA)</pre>"
      ],
      "text/plain": [
       "Starting Accelerated Gradient (FISTA)"
      ]
     },
     "metadata": {},
     "output_type": "display_data"
    },
    {
     "data": {
      "text/html": [
       "<pre>--------------------------------------------------------</pre>"
      ],
      "text/plain": [
       "--------------------------------------------------------"
      ]
     },
     "metadata": {},
     "output_type": "display_data"
    },
    {
     "data": {
      "text/html": [
       "<pre>Tuning step size. First iteration could take longer than subsequent iterations.</pre>"
      ],
      "text/plain": [
       "Tuning step size. First iteration could take longer than subsequent iterations."
      ]
     },
     "metadata": {},
     "output_type": "display_data"
    },
    {
     "data": {
      "text/html": [
       "<pre>+-----------+----------+-----------+--------------+-------------------+---------------------+</pre>"
      ],
      "text/plain": [
       "+-----------+----------+-----------+--------------+-------------------+---------------------+"
      ]
     },
     "metadata": {},
     "output_type": "display_data"
    },
    {
     "data": {
      "text/html": [
       "<pre>| Iteration | Passes   | Step size | Elapsed Time | Training Accuracy | Validation Accuracy |</pre>"
      ],
      "text/plain": [
       "| Iteration | Passes   | Step size | Elapsed Time | Training Accuracy | Validation Accuracy |"
      ]
     },
     "metadata": {},
     "output_type": "display_data"
    },
    {
     "data": {
      "text/html": [
       "<pre>+-----------+----------+-----------+--------------+-------------------+---------------------+</pre>"
      ],
      "text/plain": [
       "+-----------+----------+-----------+--------------+-------------------+---------------------+"
      ]
     },
     "metadata": {},
     "output_type": "display_data"
    },
    {
     "data": {
      "text/html": [
       "<pre>| 0         | 1        | 1.000000  | 0.001290     | 0.498118          | 0.510000            |</pre>"
      ],
      "text/plain": [
       "| 0         | 1        | 1.000000  | 0.001290     | 0.498118          | 0.510000            |"
      ]
     },
     "metadata": {},
     "output_type": "display_data"
    },
    {
     "data": {
      "text/html": [
       "<pre>| 1         | 2        | 0.000000  | 0.032518     | 0.501882          | 0.490000            |</pre>"
      ],
      "text/plain": [
       "| 1         | 2        | 0.000000  | 0.032518     | 0.501882          | 0.490000            |"
      ]
     },
     "metadata": {},
     "output_type": "display_data"
    },
    {
     "data": {
      "text/html": [
       "<pre>+-----------+----------+-----------+--------------+-------------------+---------------------+</pre>"
      ],
      "text/plain": [
       "+-----------+----------+-----------+--------------+-------------------+---------------------+"
      ]
     },
     "metadata": {},
     "output_type": "display_data"
    },
    {
     "data": {
      "text/html": [
       "<pre>SUCCESS: Optimal solution found.</pre>"
      ],
      "text/plain": [
       "SUCCESS: Optimal solution found."
      ]
     },
     "metadata": {},
     "output_type": "display_data"
    },
    {
     "data": {
      "text/html": [
       "<pre></pre>"
      ],
      "text/plain": []
     },
     "metadata": {},
     "output_type": "display_data"
    },
    {
     "data": {
      "text/html": [
       "<pre>Logistic regression:</pre>"
      ],
      "text/plain": [
       "Logistic regression:"
      ]
     },
     "metadata": {},
     "output_type": "display_data"
    },
    {
     "data": {
      "text/html": [
       "<pre>--------------------------------------------------------</pre>"
      ],
      "text/plain": [
       "--------------------------------------------------------"
      ]
     },
     "metadata": {},
     "output_type": "display_data"
    },
    {
     "data": {
      "text/html": [
       "<pre>Number of examples          : 797</pre>"
      ],
      "text/plain": [
       "Number of examples          : 797"
      ]
     },
     "metadata": {},
     "output_type": "display_data"
    },
    {
     "data": {
      "text/html": [
       "<pre>Number of classes           : 2</pre>"
      ],
      "text/plain": [
       "Number of classes           : 2"
      ]
     },
     "metadata": {},
     "output_type": "display_data"
    },
    {
     "data": {
      "text/html": [
       "<pre>Number of feature columns   : 3</pre>"
      ],
      "text/plain": [
       "Number of feature columns   : 3"
      ]
     },
     "metadata": {},
     "output_type": "display_data"
    },
    {
     "data": {
      "text/html": [
       "<pre>Number of unpacked features : 3</pre>"
      ],
      "text/plain": [
       "Number of unpacked features : 3"
      ]
     },
     "metadata": {},
     "output_type": "display_data"
    },
    {
     "data": {
      "text/html": [
       "<pre>Number of coefficients      : 4</pre>"
      ],
      "text/plain": [
       "Number of coefficients      : 4"
      ]
     },
     "metadata": {},
     "output_type": "display_data"
    },
    {
     "data": {
      "text/html": [
       "<pre>Starting Accelerated Gradient (FISTA)</pre>"
      ],
      "text/plain": [
       "Starting Accelerated Gradient (FISTA)"
      ]
     },
     "metadata": {},
     "output_type": "display_data"
    },
    {
     "data": {
      "text/html": [
       "<pre>--------------------------------------------------------</pre>"
      ],
      "text/plain": [
       "--------------------------------------------------------"
      ]
     },
     "metadata": {},
     "output_type": "display_data"
    },
    {
     "data": {
      "text/html": [
       "<pre>Tuning step size. First iteration could take longer than subsequent iterations.</pre>"
      ],
      "text/plain": [
       "Tuning step size. First iteration could take longer than subsequent iterations."
      ]
     },
     "metadata": {},
     "output_type": "display_data"
    },
    {
     "data": {
      "text/html": [
       "<pre>+-----------+----------+-----------+--------------+-------------------+---------------------+</pre>"
      ],
      "text/plain": [
       "+-----------+----------+-----------+--------------+-------------------+---------------------+"
      ]
     },
     "metadata": {},
     "output_type": "display_data"
    },
    {
     "data": {
      "text/html": [
       "<pre>| Iteration | Passes   | Step size | Elapsed Time | Training Accuracy | Validation Accuracy |</pre>"
      ],
      "text/plain": [
       "| Iteration | Passes   | Step size | Elapsed Time | Training Accuracy | Validation Accuracy |"
      ]
     },
     "metadata": {},
     "output_type": "display_data"
    },
    {
     "data": {
      "text/html": [
       "<pre>+-----------+----------+-----------+--------------+-------------------+---------------------+</pre>"
      ],
      "text/plain": [
       "+-----------+----------+-----------+--------------+-------------------+---------------------+"
      ]
     },
     "metadata": {},
     "output_type": "display_data"
    },
    {
     "data": {
      "text/html": [
       "<pre>| 0         | 1        | 1.000000  | 0.000617     | 0.498118          | 0.510000            |</pre>"
      ],
      "text/plain": [
       "| 0         | 1        | 1.000000  | 0.000617     | 0.498118          | 0.510000            |"
      ]
     },
     "metadata": {},
     "output_type": "display_data"
    },
    {
     "data": {
      "text/html": [
       "<pre>| 1         | 2        | 0.005138  | 0.013148     | 0.912171          | 0.830000            |</pre>"
      ],
      "text/plain": [
       "| 1         | 2        | 0.005138  | 0.013148     | 0.912171          | 0.830000            |"
      ]
     },
     "metadata": {},
     "output_type": "display_data"
    },
    {
     "data": {
      "text/html": [
       "<pre>| 2         | 3        | 0.003425  | 0.016668     | 0.912171          | 0.830000            |</pre>"
      ],
      "text/plain": [
       "| 2         | 3        | 0.003425  | 0.016668     | 0.912171          | 0.830000            |"
      ]
     },
     "metadata": {},
     "output_type": "display_data"
    },
    {
     "data": {
      "text/html": [
       "<pre>| 3         | 4        | 0.003425  | 0.019322     | 0.912171          | 0.830000            |</pre>"
      ],
      "text/plain": [
       "| 3         | 4        | 0.003425  | 0.019322     | 0.912171          | 0.830000            |"
      ]
     },
     "metadata": {},
     "output_type": "display_data"
    },
    {
     "data": {
      "text/html": [
       "<pre>| 4         | 5        | 0.003425  | 0.021953     | 0.912171          | 0.830000            |</pre>"
      ],
      "text/plain": [
       "| 4         | 5        | 0.003425  | 0.021953     | 0.912171          | 0.830000            |"
      ]
     },
     "metadata": {},
     "output_type": "display_data"
    },
    {
     "data": {
      "text/html": [
       "<pre>| 5         | 6        | 0.003425  | 0.024726     | 0.912171          | 0.830000            |</pre>"
      ],
      "text/plain": [
       "| 5         | 6        | 0.003425  | 0.024726     | 0.912171          | 0.830000            |"
      ]
     },
     "metadata": {},
     "output_type": "display_data"
    },
    {
     "data": {
      "text/html": [
       "<pre>| 10        | 11       | 0.003425  | 0.036650     | 0.912171          | 0.830000            |</pre>"
      ],
      "text/plain": [
       "| 10        | 11       | 0.003425  | 0.036650     | 0.912171          | 0.830000            |"
      ]
     },
     "metadata": {},
     "output_type": "display_data"
    },
    {
     "data": {
      "text/html": [
       "<pre>| 46        | 47       | 0.003425  | 0.123738     | 0.912171          | 0.830000            |</pre>"
      ],
      "text/plain": [
       "| 46        | 47       | 0.003425  | 0.123738     | 0.912171          | 0.830000            |"
      ]
     },
     "metadata": {},
     "output_type": "display_data"
    },
    {
     "data": {
      "text/html": [
       "<pre>+-----------+----------+-----------+--------------+-------------------+---------------------+</pre>"
      ],
      "text/plain": [
       "+-----------+----------+-----------+--------------+-------------------+---------------------+"
      ]
     },
     "metadata": {},
     "output_type": "display_data"
    },
    {
     "data": {
      "text/html": [
       "<pre>SUCCESS: Optimal solution found.</pre>"
      ],
      "text/plain": [
       "SUCCESS: Optimal solution found."
      ]
     },
     "metadata": {},
     "output_type": "display_data"
    },
    {
     "data": {
      "text/html": [
       "<pre></pre>"
      ],
      "text/plain": []
     },
     "metadata": {},
     "output_type": "display_data"
    },
    {
     "data": {
      "text/html": [
       "<pre>Logistic regression:</pre>"
      ],
      "text/plain": [
       "Logistic regression:"
      ]
     },
     "metadata": {},
     "output_type": "display_data"
    },
    {
     "data": {
      "text/html": [
       "<pre>--------------------------------------------------------</pre>"
      ],
      "text/plain": [
       "--------------------------------------------------------"
      ]
     },
     "metadata": {},
     "output_type": "display_data"
    },
    {
     "data": {
      "text/html": [
       "<pre>Number of examples          : 797</pre>"
      ],
      "text/plain": [
       "Number of examples          : 797"
      ]
     },
     "metadata": {},
     "output_type": "display_data"
    },
    {
     "data": {
      "text/html": [
       "<pre>Number of classes           : 2</pre>"
      ],
      "text/plain": [
       "Number of classes           : 2"
      ]
     },
     "metadata": {},
     "output_type": "display_data"
    },
    {
     "data": {
      "text/html": [
       "<pre>Number of feature columns   : 3</pre>"
      ],
      "text/plain": [
       "Number of feature columns   : 3"
      ]
     },
     "metadata": {},
     "output_type": "display_data"
    },
    {
     "data": {
      "text/html": [
       "<pre>Number of unpacked features : 3</pre>"
      ],
      "text/plain": [
       "Number of unpacked features : 3"
      ]
     },
     "metadata": {},
     "output_type": "display_data"
    },
    {
     "data": {
      "text/html": [
       "<pre>Number of coefficients      : 4</pre>"
      ],
      "text/plain": [
       "Number of coefficients      : 4"
      ]
     },
     "metadata": {},
     "output_type": "display_data"
    },
    {
     "data": {
      "text/html": [
       "<pre>Starting Accelerated Gradient (FISTA)</pre>"
      ],
      "text/plain": [
       "Starting Accelerated Gradient (FISTA)"
      ]
     },
     "metadata": {},
     "output_type": "display_data"
    },
    {
     "data": {
      "text/html": [
       "<pre>--------------------------------------------------------</pre>"
      ],
      "text/plain": [
       "--------------------------------------------------------"
      ]
     },
     "metadata": {},
     "output_type": "display_data"
    },
    {
     "data": {
      "text/html": [
       "<pre>Tuning step size. First iteration could take longer than subsequent iterations.</pre>"
      ],
      "text/plain": [
       "Tuning step size. First iteration could take longer than subsequent iterations."
      ]
     },
     "metadata": {},
     "output_type": "display_data"
    },
    {
     "data": {
      "text/html": [
       "<pre>+-----------+----------+-----------+--------------+-------------------+---------------------+</pre>"
      ],
      "text/plain": [
       "+-----------+----------+-----------+--------------+-------------------+---------------------+"
      ]
     },
     "metadata": {},
     "output_type": "display_data"
    },
    {
     "data": {
      "text/html": [
       "<pre>| Iteration | Passes   | Step size | Elapsed Time | Training Accuracy | Validation Accuracy |</pre>"
      ],
      "text/plain": [
       "| Iteration | Passes   | Step size | Elapsed Time | Training Accuracy | Validation Accuracy |"
      ]
     },
     "metadata": {},
     "output_type": "display_data"
    },
    {
     "data": {
      "text/html": [
       "<pre>+-----------+----------+-----------+--------------+-------------------+---------------------+</pre>"
      ],
      "text/plain": [
       "+-----------+----------+-----------+--------------+-------------------+---------------------+"
      ]
     },
     "metadata": {},
     "output_type": "display_data"
    },
    {
     "data": {
      "text/html": [
       "<pre>| 0         | 1        | 1.000000  | 0.000830     | 0.498118          | 0.510000            |</pre>"
      ],
      "text/plain": [
       "| 0         | 1        | 1.000000  | 0.000830     | 0.498118          | 0.510000            |"
      ]
     },
     "metadata": {},
     "output_type": "display_data"
    },
    {
     "data": {
      "text/html": [
       "<pre>| 1         | 2        | 0.000000  | 0.034322     | 0.501882          | 0.490000            |</pre>"
      ],
      "text/plain": [
       "| 1         | 2        | 0.000000  | 0.034322     | 0.501882          | 0.490000            |"
      ]
     },
     "metadata": {},
     "output_type": "display_data"
    },
    {
     "data": {
      "text/html": [
       "<pre>+-----------+----------+-----------+--------------+-------------------+---------------------+</pre>"
      ],
      "text/plain": [
       "+-----------+----------+-----------+--------------+-------------------+---------------------+"
      ]
     },
     "metadata": {},
     "output_type": "display_data"
    },
    {
     "data": {
      "text/html": [
       "<pre>SUCCESS: Optimal solution found.</pre>"
      ],
      "text/plain": [
       "SUCCESS: Optimal solution found."
      ]
     },
     "metadata": {},
     "output_type": "display_data"
    },
    {
     "data": {
      "text/html": [
       "<pre></pre>"
      ],
      "text/plain": []
     },
     "metadata": {},
     "output_type": "display_data"
    },
    {
     "data": {
      "text/html": [
       "<pre>Logistic regression:</pre>"
      ],
      "text/plain": [
       "Logistic regression:"
      ]
     },
     "metadata": {},
     "output_type": "display_data"
    },
    {
     "data": {
      "text/html": [
       "<pre>--------------------------------------------------------</pre>"
      ],
      "text/plain": [
       "--------------------------------------------------------"
      ]
     },
     "metadata": {},
     "output_type": "display_data"
    },
    {
     "data": {
      "text/html": [
       "<pre>Number of examples          : 797</pre>"
      ],
      "text/plain": [
       "Number of examples          : 797"
      ]
     },
     "metadata": {},
     "output_type": "display_data"
    },
    {
     "data": {
      "text/html": [
       "<pre>Number of classes           : 2</pre>"
      ],
      "text/plain": [
       "Number of classes           : 2"
      ]
     },
     "metadata": {},
     "output_type": "display_data"
    },
    {
     "data": {
      "text/html": [
       "<pre>Number of feature columns   : 3</pre>"
      ],
      "text/plain": [
       "Number of feature columns   : 3"
      ]
     },
     "metadata": {},
     "output_type": "display_data"
    },
    {
     "data": {
      "text/html": [
       "<pre>Number of unpacked features : 3</pre>"
      ],
      "text/plain": [
       "Number of unpacked features : 3"
      ]
     },
     "metadata": {},
     "output_type": "display_data"
    },
    {
     "data": {
      "text/html": [
       "<pre>Number of coefficients      : 4</pre>"
      ],
      "text/plain": [
       "Number of coefficients      : 4"
      ]
     },
     "metadata": {},
     "output_type": "display_data"
    },
    {
     "data": {
      "text/html": [
       "<pre>Starting Accelerated Gradient (FISTA)</pre>"
      ],
      "text/plain": [
       "Starting Accelerated Gradient (FISTA)"
      ]
     },
     "metadata": {},
     "output_type": "display_data"
    },
    {
     "data": {
      "text/html": [
       "<pre>--------------------------------------------------------</pre>"
      ],
      "text/plain": [
       "--------------------------------------------------------"
      ]
     },
     "metadata": {},
     "output_type": "display_data"
    },
    {
     "data": {
      "text/html": [
       "<pre>Tuning step size. First iteration could take longer than subsequent iterations.</pre>"
      ],
      "text/plain": [
       "Tuning step size. First iteration could take longer than subsequent iterations."
      ]
     },
     "metadata": {},
     "output_type": "display_data"
    },
    {
     "data": {
      "text/html": [
       "<pre>+-----------+----------+-----------+--------------+-------------------+---------------------+</pre>"
      ],
      "text/plain": [
       "+-----------+----------+-----------+--------------+-------------------+---------------------+"
      ]
     },
     "metadata": {},
     "output_type": "display_data"
    },
    {
     "data": {
      "text/html": [
       "<pre>| Iteration | Passes   | Step size | Elapsed Time | Training Accuracy | Validation Accuracy |</pre>"
      ],
      "text/plain": [
       "| Iteration | Passes   | Step size | Elapsed Time | Training Accuracy | Validation Accuracy |"
      ]
     },
     "metadata": {},
     "output_type": "display_data"
    },
    {
     "data": {
      "text/html": [
       "<pre>+-----------+----------+-----------+--------------+-------------------+---------------------+</pre>"
      ],
      "text/plain": [
       "+-----------+----------+-----------+--------------+-------------------+---------------------+"
      ]
     },
     "metadata": {},
     "output_type": "display_data"
    },
    {
     "data": {
      "text/html": [
       "<pre>| 0         | 1        | 1.000000  | 0.001286     | 0.498118          | 0.510000            |</pre>"
      ],
      "text/plain": [
       "| 0         | 1        | 1.000000  | 0.001286     | 0.498118          | 0.510000            |"
      ]
     },
     "metadata": {},
     "output_type": "display_data"
    },
    {
     "data": {
      "text/html": [
       "<pre>| 1         | 2        | 0.000000  | 0.033953     | 0.501882          | 0.490000            |</pre>"
      ],
      "text/plain": [
       "| 1         | 2        | 0.000000  | 0.033953     | 0.501882          | 0.490000            |"
      ]
     },
     "metadata": {},
     "output_type": "display_data"
    },
    {
     "data": {
      "text/html": [
       "<pre>+-----------+----------+-----------+--------------+-------------------+---------------------+</pre>"
      ],
      "text/plain": [
       "+-----------+----------+-----------+--------------+-------------------+---------------------+"
      ]
     },
     "metadata": {},
     "output_type": "display_data"
    },
    {
     "data": {
      "text/html": [
       "<pre>SUCCESS: Optimal solution found.</pre>"
      ],
      "text/plain": [
       "SUCCESS: Optimal solution found."
      ]
     },
     "metadata": {},
     "output_type": "display_data"
    },
    {
     "data": {
      "text/html": [
       "<pre></pre>"
      ],
      "text/plain": []
     },
     "metadata": {},
     "output_type": "display_data"
    }
   ],
   "source": [
    "f_beta_scores = []       # To store f beta score of training predictions obtained\n",
    "perceptrons = []         # To store each perceptron to create using the logistic classifier and training dataset \n",
    "precision_values = []    # To store precision values based on training predictions obtained and training dataset \n",
    "train_predictions = []   # To store training predictions based on each perceptron using the training dataset\n",
    "validation_predictions = [] # To store training predictions based on each perceptron using the training dataset\n",
    "train_confusion_matrix = [] # To store the training confusion matrix\n",
    "\n",
    "# Looping to create a perceptron of each combination of L1/L2 generated before, using fixed values for parameters included below except for the mentioned ones.\n",
    "for i in range(0, len(grid_search)):\n",
    "    perceptrons.append(\n",
    "        tc.logistic_classifier.create(  # \n",
    "        train, \n",
    "        target = 'Condition',\n",
    "        features = ['Voltage', 'Current', 'Temperature'], \n",
    "        l2_penalty = grid_search[i]['L2'],\n",
    "        l1_penalty = grid_search[i]['L1'],\n",
    "        feature_rescaling = bool(grid_search[i]['feature_rescaling']),  \n",
    "        max_iterations = 50,    # Set to 50 to see how many iterations of this amount each model needs to get better\n",
    "        validation_set = validation,))\n",
    "    \n",
    "    train_predictions.append(perceptrons[i].predict(train))    # Adding training predictions generated to its list\n",
    "    validation_predictions.append(perceptrons[i].predict(validation))    # Adding validation predictions generated to its list\n",
    "\n",
    "    precision_values.append(tc.evaluation.precision(train['Condition'], train_predictions[i]))  # Adding precision values obtained to its list\n",
    "    f_beta_scores.append(tc.evaluation.fbeta_score(train['Condition'], train_predictions[i], beta = 2.0)) # Adding f beta score values obtained to its list\n",
    "    train_confusion_matrix.append(tc.evaluation.confusion_matrix(train['Condition'], train_predictions[i]))"
   ]
  },
  {
   "cell_type": "markdown",
   "id": "568906ce-7cd3-4c4a-a793-a7baa0967343",
   "metadata": {
    "tags": []
   },
   "source": [
    "## **Question 5:**\n",
    "\n",
    "### **Displaying required values of each created model**"
   ]
  },
  {
   "cell_type": "code",
   "execution_count": 13,
   "id": "6ea7a68f-1f02-468e-a307-db52799018c0",
   "metadata": {
    "tags": []
   },
   "outputs": [
    {
     "name": "stdout",
     "output_type": "stream",
     "text": [
      "Model 1 \n",
      "\n",
      "Hyperparameters: {'L1': 0.0, 'L2': 0.01, 'feature_rescaling': 1}\n",
      "\n",
      "Training Accuracy: 0.9121706398996235 \n",
      "Validation Accuracy: 0.83\n",
      "Recall: 0.9093198992443325 \n",
      "Precision: 0.9139240506329114 \n",
      "Fβ score : 0.9102370146243067 \n",
      "+-----------+--------+--------------+-------------------+---------------------+\n",
      "| Iteration | Passes | Elapsed Time | Training Accuracy | Validation Accuracy |\n",
      "+-----------+--------+--------------+-------------------+---------------------+\n",
      "|     1     |   2    |   0.001411   |      0.912171     |       0.830000      |\n",
      "|     2     |   3    |   0.003886   |      0.912171     |       0.830000      |\n",
      "|     3     |   4    |   0.006229   |      0.912171     |       0.830000      |\n",
      "|     4     |   5    |   0.008567   |      0.912171     |       0.830000      |\n",
      "+-----------+--------+--------------+-------------------+---------------------+\n",
      "[4 rows x 5 columns]\n",
      "\n",
      "Training Time: 0.009823 \n",
      "Training Log Loss: 0.29667578372782805 \n",
      "Model Status: SUCCESS: Optimal solution found.\n",
      "\n",
      "Validation Set Confusion Matrix:\n",
      "+-------+-----------------+-------+\n",
      "| class | predicted_class | count |\n",
      "+-------+-----------------+-------+\n",
      "|   0   |        0        |   39  |\n",
      "|   0   |        1        |   10  |\n",
      "|   1   |        0        |   7   |\n",
      "|   1   |        1        |   44  |\n",
      "+-------+-----------------+-------+\n",
      "[4 rows x 3 columns]\n",
      " \n",
      "Training Confusion Matrix:\n",
      "+--------------+-----------------+-------+\n",
      "| target_label | predicted_label | count |\n",
      "+--------------+-----------------+-------+\n",
      "|      1       |        1        |  361  |\n",
      "|      0       |        1        |   34  |\n",
      "|      0       |        0        |  366  |\n",
      "|      1       |        0        |   36  |\n",
      "+--------------+-----------------+-------+\n",
      "[4 rows x 3 columns]\n",
      "\n",
      "Model 2 \n",
      "\n",
      "Hyperparameters: {'L1': 0.01, 'L2': 0.0, 'feature_rescaling': 1}\n",
      "\n",
      "Training Accuracy: 0.9121706398996235 \n",
      "Validation Accuracy: 0.83\n",
      "Recall: 0.9093198992443325 \n",
      "Precision: 0.9139240506329114 \n",
      "Fβ score : 0.9102370146243067 \n",
      "+-----------+--------+-----------+--------------+-------------------+---------------------+\n",
      "| Iteration | Passes | Step size | Elapsed Time | Training Accuracy | Validation Accuracy |\n",
      "+-----------+--------+-----------+--------------+-------------------+---------------------+\n",
      "|     0     |   1    |  1.000000 |   0.001078   |      0.498118     |       0.510000      |\n",
      "|     1     |   2    |  0.005138 |   0.012385   |      0.912171     |       0.830000      |\n",
      "|     2     |   3    |  0.003425 |   0.015741   |      0.912171     |       0.830000      |\n",
      "|     3     |   4    |  0.003425 |   0.017896   |      0.912171     |       0.830000      |\n",
      "|     4     |   5    |  0.003425 |   0.020819   |      0.912171     |       0.830000      |\n",
      "|     5     |   6    |  0.003425 |   0.023011   |      0.912171     |       0.830000      |\n",
      "|     6     |   7    |  0.003425 |   0.025496   |      0.912171     |       0.830000      |\n",
      "|     7     |   8    |  0.003425 |   0.027868   |      0.912171     |       0.830000      |\n",
      "|     8     |   9    |  0.003425 |   0.030195   |      0.912171     |       0.830000      |\n",
      "|     9     |   10   |  0.003425 |   0.032544   |      0.912171     |       0.830000      |\n",
      "+-----------+--------+-----------+--------------+-------------------+---------------------+\n",
      "[51 rows x 6 columns]\n",
      "Note: Only the head of the SFrame is printed.\n",
      "You can use print_rows(num_rows=m, num_columns=n) to print more rows and columns.\n",
      "Training Time: 0.135963 \n",
      "Training Log Loss: 0.29698922579977505 \n",
      "Model Status: Completed (Iteration limit reached).\n",
      "\n",
      "Validation Set Confusion Matrix:\n",
      "+-------+-----------------+-------+\n",
      "| class | predicted_class | count |\n",
      "+-------+-----------------+-------+\n",
      "|   0   |        0        |   39  |\n",
      "|   0   |        1        |   10  |\n",
      "|   1   |        0        |   7   |\n",
      "|   1   |        1        |   44  |\n",
      "+-------+-----------------+-------+\n",
      "[4 rows x 3 columns]\n",
      " \n",
      "Training Confusion Matrix:\n",
      "+--------------+-----------------+-------+\n",
      "| target_label | predicted_label | count |\n",
      "+--------------+-----------------+-------+\n",
      "|      1       |        1        |  361  |\n",
      "|      0       |        1        |   34  |\n",
      "|      0       |        0        |  366  |\n",
      "|      1       |        0        |   36  |\n",
      "+--------------+-----------------+-------+\n",
      "[4 rows x 3 columns]\n",
      "\n",
      "Model 3 \n",
      "\n",
      "Hyperparameters: {'L1': 0.1, 'L2': 0.1, 'feature_rescaling': 0}\n",
      "\n",
      "Training Accuracy: 0.5018820577164367 \n",
      "Validation Accuracy: 0.49\n",
      "Recall: 0.0 \n",
      "Precision: None \n",
      "Fβ score : 0.0 \n",
      "+-----------+--------+-----------+--------------+-------------------+---------------------+\n",
      "| Iteration | Passes | Step size | Elapsed Time | Training Accuracy | Validation Accuracy |\n",
      "+-----------+--------+-----------+--------------+-------------------+---------------------+\n",
      "|     0     |   1    |  1.000000 |   0.000561   |      0.498118     |       0.510000      |\n",
      "|     1     |   2    |  0.000000 |   0.034913   |      0.501882     |       0.490000      |\n",
      "+-----------+--------+-----------+--------------+-------------------+---------------------+\n",
      "[2 rows x 6 columns]\n",
      "\n",
      "Training Time: 0.036135999999999946 \n",
      "Training Log Loss: 0.5558348160145742 \n",
      "Model Status: SUCCESS: Optimal solution found.\n",
      "\n",
      "Validation Set Confusion Matrix:\n",
      "+-------+-----------------+-------+\n",
      "| class | predicted_class | count |\n",
      "+-------+-----------------+-------+\n",
      "|   0   |        0        |   49  |\n",
      "|   1   |        0        |   51  |\n",
      "+-------+-----------------+-------+\n",
      "[2 rows x 3 columns]\n",
      " \n",
      "Training Confusion Matrix:\n",
      "+--------------+-----------------+-------+\n",
      "| target_label | predicted_label | count |\n",
      "+--------------+-----------------+-------+\n",
      "|      1       |        0        |  397  |\n",
      "|      0       |        0        |  400  |\n",
      "+--------------+-----------------+-------+\n",
      "[2 rows x 3 columns]\n",
      "\n",
      "Model 4 \n",
      "\n",
      "Hyperparameters: {'L1': 0.2, 'L2': 0.2, 'feature_rescaling': 0}\n",
      "\n",
      "Training Accuracy: 0.5018820577164367 \n",
      "Validation Accuracy: 0.49\n",
      "Recall: 0.0 \n",
      "Precision: None \n",
      "Fβ score : 0.0 \n",
      "+-----------+--------+-----------+--------------+-------------------+---------------------+\n",
      "| Iteration | Passes | Step size | Elapsed Time | Training Accuracy | Validation Accuracy |\n",
      "+-----------+--------+-----------+--------------+-------------------+---------------------+\n",
      "|     0     |   1    |  1.000000 |   0.001290   |      0.498118     |       0.510000      |\n",
      "|     1     |   2    |  0.000000 |   0.032518   |      0.501882     |       0.490000      |\n",
      "+-----------+--------+-----------+--------------+-------------------+---------------------+\n",
      "[2 rows x 6 columns]\n",
      "\n",
      "Training Time: 0.03389 \n",
      "Training Log Loss: 0.5558348010778139 \n",
      "Model Status: SUCCESS: Optimal solution found.\n",
      "\n",
      "Validation Set Confusion Matrix:\n",
      "+-------+-----------------+-------+\n",
      "| class | predicted_class | count |\n",
      "+-------+-----------------+-------+\n",
      "|   0   |        0        |   49  |\n",
      "|   1   |        0        |   51  |\n",
      "+-------+-----------------+-------+\n",
      "[2 rows x 3 columns]\n",
      " \n",
      "Training Confusion Matrix:\n",
      "+--------------+-----------------+-------+\n",
      "| target_label | predicted_label | count |\n",
      "+--------------+-----------------+-------+\n",
      "|      1       |        0        |  397  |\n",
      "|      0       |        0        |  400  |\n",
      "+--------------+-----------------+-------+\n",
      "[2 rows x 3 columns]\n",
      "\n",
      "Model 5 \n",
      "\n",
      "Hyperparameters: {'L1': 0.3, 'L2': 0.3, 'feature_rescaling': 1}\n",
      "\n",
      "Training Accuracy: 0.9121706398996235 \n",
      "Validation Accuracy: 0.83\n",
      "Recall: 0.9093198992443325 \n",
      "Precision: 0.9139240506329114 \n",
      "Fβ score : 0.9102370146243067 \n",
      "+-----------+--------+-----------+--------------+-------------------+---------------------+\n",
      "| Iteration | Passes | Step size | Elapsed Time | Training Accuracy | Validation Accuracy |\n",
      "+-----------+--------+-----------+--------------+-------------------+---------------------+\n",
      "|     0     |   1    |  1.000000 |   0.000617   |      0.498118     |       0.510000      |\n",
      "|     1     |   2    |  0.005138 |   0.013148   |      0.912171     |       0.830000      |\n",
      "|     2     |   3    |  0.003425 |   0.016668   |      0.912171     |       0.830000      |\n",
      "|     3     |   4    |  0.003425 |   0.019322   |      0.912171     |       0.830000      |\n",
      "|     4     |   5    |  0.003425 |   0.021953   |      0.912171     |       0.830000      |\n",
      "|     5     |   6    |  0.003425 |   0.024726   |      0.912171     |       0.830000      |\n",
      "|     6     |   7    |  0.003425 |   0.027582   |      0.912171     |       0.830000      |\n",
      "|     7     |   8    |  0.003425 |   0.029905   |      0.912171     |       0.830000      |\n",
      "|     8     |   9    |  0.003425 |   0.032053   |      0.912171     |       0.830000      |\n",
      "|     9     |   10   |  0.003425 |   0.034033   |      0.912171     |       0.830000      |\n",
      "+-----------+--------+-----------+--------------+-------------------+---------------------+\n",
      "[47 rows x 6 columns]\n",
      "Note: Only the head of the SFrame is printed.\n",
      "You can use print_rows(num_rows=m, num_columns=n) to print more rows and columns.\n",
      "Training Time: 0.126267 \n",
      "Training Log Loss: 0.2973402403528749 \n",
      "Model Status: SUCCESS: Optimal solution found.\n",
      "\n",
      "Validation Set Confusion Matrix:\n",
      "+-------+-----------------+-------+\n",
      "| class | predicted_class | count |\n",
      "+-------+-----------------+-------+\n",
      "|   0   |        0        |   39  |\n",
      "|   0   |        1        |   10  |\n",
      "|   1   |        0        |   7   |\n",
      "|   1   |        1        |   44  |\n",
      "+-------+-----------------+-------+\n",
      "[4 rows x 3 columns]\n",
      " \n",
      "Training Confusion Matrix:\n",
      "+--------------+-----------------+-------+\n",
      "| target_label | predicted_label | count |\n",
      "+--------------+-----------------+-------+\n",
      "|      1       |        1        |  361  |\n",
      "|      0       |        1        |   34  |\n",
      "|      0       |        0        |  366  |\n",
      "|      1       |        0        |   36  |\n",
      "+--------------+-----------------+-------+\n",
      "[4 rows x 3 columns]\n",
      "\n",
      "Model 6 \n",
      "\n",
      "Hyperparameters: {'L1': 0.4, 'L2': 0.4, 'feature_rescaling': 0}\n",
      "\n",
      "Training Accuracy: 0.5018820577164367 \n",
      "Validation Accuracy: 0.49\n",
      "Recall: 0.0 \n",
      "Precision: None \n",
      "Fβ score : 0.0 \n",
      "+-----------+--------+-----------+--------------+-------------------+---------------------+\n",
      "| Iteration | Passes | Step size | Elapsed Time | Training Accuracy | Validation Accuracy |\n",
      "+-----------+--------+-----------+--------------+-------------------+---------------------+\n",
      "|     0     |   1    |  1.000000 |   0.000830   |      0.498118     |       0.510000      |\n",
      "|     1     |   2    |  0.000000 |   0.034322   |      0.501882     |       0.490000      |\n",
      "+-----------+--------+-----------+--------------+-------------------+---------------------+\n",
      "[2 rows x 6 columns]\n",
      "\n",
      "Training Time: 0.035601 \n",
      "Training Log Loss: 0.5558347712043121 \n",
      "Model Status: SUCCESS: Optimal solution found.\n",
      "\n",
      "Validation Set Confusion Matrix:\n",
      "+-------+-----------------+-------+\n",
      "| class | predicted_class | count |\n",
      "+-------+-----------------+-------+\n",
      "|   0   |        0        |   49  |\n",
      "|   1   |        0        |   51  |\n",
      "+-------+-----------------+-------+\n",
      "[2 rows x 3 columns]\n",
      " \n",
      "Training Confusion Matrix:\n",
      "+--------------+-----------------+-------+\n",
      "| target_label | predicted_label | count |\n",
      "+--------------+-----------------+-------+\n",
      "|      1       |        0        |  397  |\n",
      "|      0       |        0        |  400  |\n",
      "+--------------+-----------------+-------+\n",
      "[2 rows x 3 columns]\n",
      "\n",
      "Model 7 \n",
      "\n",
      "Hyperparameters: {'L1': 0.5, 'L2': 0.5, 'feature_rescaling': 0}\n",
      "\n",
      "Training Accuracy: 0.5018820577164367 \n",
      "Validation Accuracy: 0.49\n",
      "Recall: 0.0 \n",
      "Precision: None \n",
      "Fβ score : 0.0 \n",
      "+-----------+--------+-----------+--------------+-------------------+---------------------+\n",
      "| Iteration | Passes | Step size | Elapsed Time | Training Accuracy | Validation Accuracy |\n",
      "+-----------+--------+-----------+--------------+-------------------+---------------------+\n",
      "|     0     |   1    |  1.000000 |   0.001286   |      0.498118     |       0.510000      |\n",
      "|     1     |   2    |  0.000000 |   0.033953   |      0.501882     |       0.490000      |\n",
      "+-----------+--------+-----------+--------------+-------------------+---------------------+\n",
      "[2 rows x 6 columns]\n",
      "\n",
      "Training Time: 0.035573 \n",
      "Training Log Loss: 0.5558347562675716 \n",
      "Model Status: SUCCESS: Optimal solution found.\n",
      "\n",
      "Validation Set Confusion Matrix:\n",
      "+-------+-----------------+-------+\n",
      "| class | predicted_class | count |\n",
      "+-------+-----------------+-------+\n",
      "|   0   |        0        |   49  |\n",
      "|   1   |        0        |   51  |\n",
      "+-------+-----------------+-------+\n",
      "[2 rows x 3 columns]\n",
      " \n",
      "Training Confusion Matrix:\n",
      "+--------------+-----------------+-------+\n",
      "| target_label | predicted_label | count |\n",
      "+--------------+-----------------+-------+\n",
      "|      1       |        0        |  397  |\n",
      "|      0       |        0        |  400  |\n",
      "+--------------+-----------------+-------+\n",
      "[2 rows x 3 columns]\n",
      "\n"
     ]
    }
   ],
   "source": [
    "# Using logistic classifier object: training / validation accuracy, training recall / time /  log loss / solver status and validation confusion matrix (values) to display below\n",
    "for i in range(0, len(grid_search)):\n",
    "    print(f'Model {i + 1} \\n\\nHyperparameters: {grid_search[i]}') \n",
    "    print(f'\\nTraining Accuracy: {perceptrons[i].training_accuracy} \\nValidation Accuracy: {perceptrons[i].validation_accuracy}')\n",
    "    print(f'Recall: {perceptrons[i].training_recall} \\nPrecision: {precision_values[i]} \\nFβ score : {f_beta_scores[i]} \\n{perceptrons[i].progress}') \n",
    "    print(f'Training Time: {perceptrons[i].training_time} \\nTraining Log Loss: {perceptrons[i].training_log_loss} \\nModel Status: {perceptrons[i].training_solver_status}')\n",
    "    print(f'\\nValidation Set Confusion Matrix:\\n{perceptrons[i].validation_confusion_matrix} \\nTraining Confusion Matrix:\\n{train_confusion_matrix[i]}') "
   ]
  },
  {
   "cell_type": "markdown",
   "id": "a887aab8-dcfb-45c9-bd15-ffec7c7566b8",
   "metadata": {},
   "source": [
    "## **Question 6:**\n",
    "\n",
    "### <span style='color:blue'>**Model 1 is the most optimal model considering it took less iterations (4) compared to the rest of models evaluated with feature_rescaling = True (1) to find an optimal solution. The rest of values displayed : precision, recall, Fβ score (2.0), training / validation accuracy have the same values for all the models. Besides, Model 1 exhibits the lower value of training log loss (this last one is an indicative of how close the prediction probability is to the corresponding actual/true value (0 or 1 in case of binary classification), penalizing inaccurate predictions with higher values. Lower log-loss indicates better model performance,being the most important classification metric based on probabilities).</span>**\n",
    "\n",
    "**Notes**: \n",
    ">**Models with feature_rescaling = False (0) were discarded because the recall and f beta score (2.0) is equal to 0 and the precision is None (undetermine value), having just true negative and false negative values in their confusion matrix.**\n",
    "\n",
    ">**For feature_rescaling hyperparameter we have a random value assigned so this answer may not match the results each time the cells are run**"
   ]
  },
  {
   "cell_type": "markdown",
   "id": "743ff982-8685-4693-b3b4-9cf080ae9403",
   "metadata": {},
   "source": [
    "## **Question 7:**"
   ]
  },
  {
   "cell_type": "code",
   "execution_count": 9,
   "id": "8b7249fe-c5e3-49ba-9e6d-b2d6af9edf94",
   "metadata": {},
   "outputs": [],
   "source": [
    "test_predictions = perceptrons[0].predict(test)"
   ]
  },
  {
   "cell_type": "code",
   "execution_count": 10,
   "id": "6fda0172-e48e-48e4-a827-102458d32028",
   "metadata": {},
   "outputs": [
    {
     "name": "stdout",
     "output_type": "stream",
     "text": [
      "Model 1:\n",
      "\n",
      "Test Predictions:  [1, 1, 1, 1, 1, 1, 1, 1, 1, 1, 1, 1, 1, 1, 1, 1, 1, 1, 1, 1, 1, 1, 1, 1, 1, 1, 1, 1, 1, 1, 1, 1, 1, 1, 1, 1, 1, 1, 1, 1, 1, 1, 1, 1, 1, 1, 1, 1, 1, 1, 1, 0, 0, 0, 0, 0, 0, 0, 0, 0, 0, 0, 0, 0, 0, 0, 0, 0, 0, 0, 0, 0, 0, 0, 0, 0, 0, 0, 0, 0, 0, 0, 0, 0, 0, 0, 0, 0, 0, 0, 0, 0, 0, 0, 0, 0, 0, 0, 0, 0, ... ]\n",
      "\n",
      "Confusion Matrix:\n",
      " +--------------+-----------------+-------+\n",
      "| target_label | predicted_label | count |\n",
      "+--------------+-----------------+-------+\n",
      "|      1       |        1        |   47  |\n",
      "|      0       |        1        |   4   |\n",
      "|      0       |        0        |   47  |\n",
      "|      1       |        0        |   5   |\n",
      "+--------------+-----------------+-------+\n",
      "[4 rows x 3 columns]\n",
      "\n",
      "Test accuracy:  0.912621359223301\n",
      "Precision: 0.9215686274509803\n",
      "Recall: 0.9038461538461539\n",
      "F-beta score (2.0): 0.9073359073359073\n"
     ]
    }
   ],
   "source": [
    "print('Model 1:')\n",
    "print('\\nTest Predictions: ',perceptrons[0].predict(test))\n",
    "print('\\nConfusion Matrix:\\n', tc.evaluation.confusion_matrix(test['Condition'], test_predictions))\n",
    "print('Test accuracy: ', tc.evaluation.accuracy(test['Condition'], test_predictions))\n",
    "print('Precision:', tc.evaluation.precision(test['Condition'], test_predictions))\n",
    "print('Recall:', tc.evaluation.recall(test['Condition'], test_predictions))\n",
    "print('F-beta score (2.0):', tc.evaluation.fbeta_score(test['Condition'], test_predictions, beta = 2))"
   ]
  },
  {
   "cell_type": "code",
   "execution_count": null,
   "id": "d7fe8348-0892-4649-8551-eead4231ebd2",
   "metadata": {},
   "outputs": [],
   "source": []
  }
 ],
 "metadata": {
  "kernelspec": {
   "display_name": "Python 3 (ipykernel)",
   "language": "python",
   "name": "python3"
  },
  "language_info": {
   "codemirror_mode": {
    "name": "ipython",
    "version": 3
   },
   "file_extension": ".py",
   "mimetype": "text/x-python",
   "name": "python",
   "nbconvert_exporter": "python",
   "pygments_lexer": "ipython3",
   "version": "3.11.5"
  }
 },
 "nbformat": 4,
 "nbformat_minor": 5
}
