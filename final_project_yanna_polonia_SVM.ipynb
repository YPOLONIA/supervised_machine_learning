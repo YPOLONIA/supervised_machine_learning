{
 "cells": [
  {
   "cell_type": "markdown",
   "id": "7e70c258-0047-4b49-80fa-a97087f0b8a4",
   "metadata": {},
   "source": [
    "# **Supervised Machine Learning Final Project**\n",
    "## **Credit Score Classification**\n",
    "### **By Yanna Polonia**"
   ]
  },
  {
   "cell_type": "markdown",
   "id": "90c91259-38af-4966-9cd8-7e25256af7db",
   "metadata": {},
   "source": [
    "![Credit Score](https://img.freepik.com/free-vector/hand-drawn-credit-score-concept_23-2149164575.jpg?t=st=1711765280~exp=1711768880~hmac=86bc45abeb6d2e55bc42ec151fef950c0888b86164f2e20449efbc1d55feed00&w=1800)\n",
    "<div style=\"text-align: right\">Image Designed by <a href=\"https://www.freepik.com/\">Freepik</a></div>                                                             \n",
    "\n",
    "# **Business Case**\n",
    "\n",
    "#### <div align='justify'>**Financial institutions evaluate their prospects based on a range of key information. Most of them conduct credit analysis using the five Cs of credit—character, capacity, capital, collateral, and conditions—to predict the probability of applicants defaulting on their debts. Digging down on the five Cs method we found:**</div>\n",
    "\n",
    " * **<span style='color:blue'>Character</span>, often referred to as credit history, denotes a borrower's reputation or history of fulfilling debt obligations.**\n",
    " * **<span style='color:blue'>Capacity</span>, considering other existing credits and expenses when assessing the ability to repay.**\n",
    " * **<span style='color:blue'>Capital</span>, The larger the capital the borrower might have, the lower the chance of default.**\n",
    " * **<span style='color:blue'>Collateral</span>, serves as the lender's assurance in case the borrower defaults on the credit.**\n",
    " * **<span style='color:blue'>Conditions</span>, the terms of the credit itself as well as any economic conditions that might affect the borrower.**\n",
    "\n",
    "#### <div align='justify'>**In this business case, our attention will be directed towards the first C (character), particularly with regard to the credit score, which is derived from the data within the credit history. Considering that credit score predictions serve as a valuable tool for individuals, lenders, and businesses alike, helping them make more informed financial decisions and manage risk more effectively, we will focus on credit score classification, whether it be Poor, Standard, or Good**</div>\n",
    "\n",
    "### **Getting Familiar with the Business Case**\n",
    "\n",
    "#### **What is a Credit Score?**\n",
    "\n",
    "#### <div align='justify'>According to [Equifax](https://www.equifax.com/personal/education/credit/score/articles/-/learn/credit-score-ranges/), credit scores are three-digit numbers that usually range from 300 to 850, which are asociated to a person's creditworthiness (the likelihood people will pay their bills on time).  There are several credit scoring models available (Fico Model, VantageScore Model, Equifax Model, among others) each one having their own way to categorize score ranges, for this specific use case and its analysis the categories or possible classifications that are going to be considered are: Poor, Standard, Good.</div>\n",
    "\n",
    "#### **How are credit scores calculated?**\n",
    "\n",
    "#### <div align='justify'>Based on [Equifax](https://www.equifax.com/personal/education/credit/score/articles/-/learn/credit-score-ranges/), the credit score is calculated using the information found on people's credit report. There are several factors that are considered which may vary from model to model, being the most popular ones for the calculation itself: payment history, capacity use, the mix of credit accounts a person might have, the length of the credit history, the credit utilization rate (the percentage of available credit limits an individual might be using) and even past credit applications. This importance (weight) of each credit factor considered varies from model to model and therefore the score rating itself.</div>\n",
    "\n",
    "### <span style='color:blue'>**The datasets (train and test ones) used for this business case were uploaded by Rohan Paris in Kaggel, in case more details about them are needed refer to [Dataset Source Link](https://www.kaggle.com/datasets/parisrohan/credit-score-classification/).**</span>"
   ]
  },
  {
   "cell_type": "markdown",
   "id": "64063538-2148-49ac-8898-fbc8b297853a",
   "metadata": {},
   "source": [
    "### **Features Description**"
   ]
  },
  {
   "cell_type": "markdown",
   "id": "23fd349b-04c1-4e1f-870c-40edc6a0a4f1",
   "metadata": {},
   "source": [
    "<table>\n",
    "<tr><tr><th><th>Feature<th>Description<th><th>Comments<tr><tr>\n",
    "<tr><td><td>ID<td>Represents a unique identification of each entry<td><td>Not relevant for the score calculation/classification, just an entry sequence<td>\n",
    "<tr><td><td>Customer_ID<td>Represents a unique identification of a person<td><td>Not relevant for the score calculation/classification<td>\n",
    "<tr><td><td>Month<td>Represents the month of the year<td><td>Not relevant for the score calculation/classification<td>\n",
    "<tr><tr><tr><td><td>Name<td>Represents the name of a person<td><td>Not relevant for the score calculation/classification<td>\n",
    "<tr><td><td>Age<td>Represents the age of the person<td><td>Some credit scoring models use the age as a factor based on statistical analysis related to payment behaviour of age groups, could be weighted or not. Age must be over 18 and less than 75 years old<td>\n",
    "<tr><tr><tr><td><td>SSN<td>Represents the social security number of a person<td><td>Not relevant for the score calculation/classification. Considering SSN (Social Security Number) is used in United States, it can be inferred that this data is from a financial institution in USA<td>\n",
    "<tr><td><td>Occupation<td>Represents the occupation of the person<td><td>Some credit scoring models use the occupation as a factor based on statistical analysis related to payment behaviour by occupation, could be weighted or not<td>\n",
    "<tr><tr><tr><td><td>Annual_Income<td>Represents the annual income of the person<td><td>Must be greater or equal than 0<td>\n",
    "<tr><td><td>Monthly_Inhand_Salary<td>Represents the monthly base salary of a person<td><td>Must be greater or equal than 0<td>\n",
    "<tr><tr><tr><td><td>Num_Bank_Accounts<td>Represents the number of bank accounts a person holds<td><td>Must be greater or equal than 0, there isn't a limit related to holding an specific amount of bank accounts in USA.<td>\n",
    "<tr><td><td>Num_Credit_Card<td>Represents the number of other credit cards held by a person<td><td>Must be greater or equal than 0. In theory, people can get as many credit cards as they want but based on what is stated in <a href='https://www.forbes.com/advisor/credit-cards/credit-card-statistics/'>The Forbes Advisor</a>, the number of credit cards varies slightly among generations and tends to go up for older ones stating that as 2022 baby boomers had 4.6 credit cards (peak on stats regarding this topic). In fact, according to <a href='https://www.guinnessworldrecords.com/world-records/68577-largest-collection-of-valid-credit-cards'>Guiness World Records</a>, the largest collection of valid credit cards was set in 2021, for an amount of 1638.<td>  \n",
    "<tr><tr><tr><td><td>Interest_Rate<td>Represents the interest rate on credit card<td><td>The highest mortgage interest rate registered in USA was 20% in the 1980s, according to <a href='https://tradingeconomics.com/united-states/interest-rate'>Trading Economics. Regarding student loans based on <a href='https://studentaid.gov/understand-aid/types/loans/interest-rates'>Federal Students Aid</a>, the highest value so far is around 8%. About credit cards interest rate (APR), <a href='https://www.cnbc.com/select/retail-credit-card-interest-hits-record-high/'>CNBC's SEO Reporter Ryley Amond in January 2024</a>, stated that by 2024 APR has hit its highest value being over 30%, citing the four credit cards holding the higher APR of 33.24%. Finally, for auto interest rate in <a href='https://www.bankrate.com/loans/auto-loans/average-car-loan-interest-rates-by-credit-score/'>Bankrate</a>, it is stated that the highest APR registered is around an average of 21.55%<td> \n",
    "<tr><td><td>Num_of_Loan<td>Represents the number of loans taken from the bank<td><td>There isn't a limit set for this but this doesn't mean it's easy to access more than one loan or multiple lines of credit at once within the same bank or multiple ones, related to this <a href='https://www.forbes.com/advisor/personal-loans/personal-loan-requirements/'>The Forbes Advisor</a> states that financial institutions in USA determine if a person qualifies for a personal loan based on three aspects:  a minimum credit score of 670, consistency and steady monthly income, the debt-to-income (DTI) which is a ratio that measures the percentage of a person's monthly income that goes to debt payments (over 50% means you have limited money to save or spend as a result, you won't likely have money to handle an unforeseen event and will have limited borrowing options), although they make clear that because each lender has its own minimum requirements, it's advised to prequalify when possible and confirm with the lender what benchmarks are need to meet. Regardless what was mentioned before, something that it can be stated is that this value cannot be negative.<td>\n",
    "<tr><tr><tr><td><td>Type_of_Loan<td>Represents the types of loan taken by a person<td><td><td> \n",
    "<tr><td><td>Delay_from_due_date<td>Represents the average number of days delayed from the payment date<td><td>A value of 0 or more expected<td>\n",
    "<tr><tr><tr><td><td>Num_of_Delayed_Payment<td>Represents the average number of payments delayed by a person<td><td>A value of 0 or more expected<td>\n",
    "<tr><td><td>Changed_Credit_Limit<td>Represents the percentage change in credit card limit<td><td><td>\n",
    "<tr><tr><tr><td><td>Num_Credit_Inquiries<td>Represents the number of credit card inquiries<td><td>A value of 0 or more expected<td>  \n",
    "<tr><td><td>Credit_Mix<td>Represents the classification of the mix of credits<td> <td><td> \n",
    "<tr><tr><tr><td><td>Outstanding_Debt<td>Represents the remaining debt to be paid (in USD)<td><td>A value of 0 or more expected<td> \n",
    "<tr><td><td>Credit_Utilization_Ratio<td>Represents the utilization ratio of credit card<td><td><td>\n",
    "<tr><tr><tr><td><td>Credit_History_Age<td>Represents the age of credit history of the person<td><td><td>\n",
    "<tr><td><td>Payment_of_Min_Amount<td>Represents whether only the minimum amount was paid by the person<td><td>Yes or No value expected<td>\n",
    "<tr><tr><tr><td><td>Total_EMI_per_month<td>Represents the monthly EMI (Equated Monthly Installment: a fixed payment amount made by a borrower to a lender at a specified date each calendar month) payments (in USD)<td><td>A value of 0 or more expected<td>\n",
    "<tr><td><td>Amount_invested_monthly<td>Represents the monthly amount invested by the customer (in USD)<td><td>A value of 0 or more expected<td>\n",
    "<tr><tr><tr><td><td>Payment_Behaviour<td>Represents the payment behavior of the customer (in USD)<td><td><td>\n",
    "<tr><td><td>Monthly_Balance<td>Represents the monthly balance amount of the customer (in USD)<td><td>A value of 0 or more expected<td>\n",
    "</table>\n",
    "\n",
    "#### <span style='color:blue'>**Notes:**</span>\n",
    "* <span style='color:blue'>**There are 27 features of which at least 5 of them can be discarded while creating the model.**</span>\n",
    "* <span style='color:blue'>**The description included for each feature contains information found in Kaggle about it, additional details were added when needed.**</span>\n",
    "* <span style='color:blue'>**The target feature (classification or label) in this case is the Credit_Score field/column, possible classifications/classes: Poor, Standard, Good.**</span>"
   ]
  },
  {
   "cell_type": "markdown",
   "id": "13541e9d-eb51-452f-ab79-b13b0f520875",
   "metadata": {},
   "source": [
    "### **Discussion of prediction errors**\n",
    "* **Are false positives or negatives for one of the classes to be avoided?**\n",
    "* **Or are all errors equally bad?**"
   ]
  },
  {
   "cell_type": "markdown",
   "id": "beab5ee5-a54a-4526-b419-2fc8916f7474",
   "metadata": {},
   "source": [
    "### <span style='color:blue'>**In my opinion, errors are equally bad in this case, because a person can be affected with an unfair denial of a product might be requesting or wrongly excluded from a lead, due to a false negative. On the other hand, false positives can affect both the finantial institution (foregone earnings, increase of its delinquency rate, collection management and credit recovery operations) and the customers (over-indebtedness plus detrimentral of their credit score) with an approval that was not suppossed to be received.**</span>"
   ]
  },
  {
   "cell_type": "markdown",
   "id": "c0034df5-d878-4c7a-b680-a0015c38ac62",
   "metadata": {},
   "source": [
    "## **Data cleaning and after it save the data as a CSV file for later use.**"
   ]
  },
  {
   "cell_type": "markdown",
   "id": "7998661d-2809-415c-ba7a-014f81d7160b",
   "metadata": {},
   "source": [
    "### **Importing modules required**"
   ]
  },
  {
   "cell_type": "code",
   "execution_count": 1,
   "id": "6bb87483-1b36-4305-8284-5d57b1c7f5f9",
   "metadata": {},
   "outputs": [],
   "source": [
    "import matplotlib.pyplot as plt\n",
    "import numpy as np\n",
    "import pandas as pd\n",
    "import seaborn as sb\n",
    "from category_encoders.binary import BinaryEncoder\n",
    "from sklearn.metrics import classification_report, confusion_matrix\n",
    "from sklearn.model_selection import train_test_split\n",
    "from sklearn.preprocessing import OneHotEncoder, StandardScaler\n",
    "from sklearn.svm import SVC"
   ]
  },
  {
   "cell_type": "markdown",
   "id": "11220714-cd74-4ff7-94d7-93920b7213eb",
   "metadata": {},
   "source": [
    "### **Reading the train.csv into a Pandas DataSet called data**"
   ]
  },
  {
   "cell_type": "code",
   "execution_count": 2,
   "id": "4de2826f-0b55-4b52-97d8-b803b2febe53",
   "metadata": {},
   "outputs": [
    {
     "data": {
      "text/html": [
       "<div>\n",
       "<style scoped>\n",
       "    .dataframe tbody tr th:only-of-type {\n",
       "        vertical-align: middle;\n",
       "    }\n",
       "\n",
       "    .dataframe tbody tr th {\n",
       "        vertical-align: top;\n",
       "    }\n",
       "\n",
       "    .dataframe thead th {\n",
       "        text-align: right;\n",
       "    }\n",
       "</style>\n",
       "<table border=\"1\" class=\"dataframe\">\n",
       "  <thead>\n",
       "    <tr style=\"text-align: right;\">\n",
       "      <th></th>\n",
       "      <th>ID</th>\n",
       "      <th>Customer_ID</th>\n",
       "      <th>Month</th>\n",
       "      <th>Name</th>\n",
       "      <th>Age</th>\n",
       "      <th>SSN</th>\n",
       "      <th>Occupation</th>\n",
       "      <th>Annual_Income</th>\n",
       "      <th>Monthly_Inhand_Salary</th>\n",
       "      <th>Num_Bank_Accounts</th>\n",
       "      <th>...</th>\n",
       "      <th>Credit_Mix</th>\n",
       "      <th>Outstanding_Debt</th>\n",
       "      <th>Credit_Utilization_Ratio</th>\n",
       "      <th>Credit_History_Age</th>\n",
       "      <th>Payment_of_Min_Amount</th>\n",
       "      <th>Total_EMI_per_month</th>\n",
       "      <th>Amount_invested_monthly</th>\n",
       "      <th>Payment_Behaviour</th>\n",
       "      <th>Monthly_Balance</th>\n",
       "      <th>Credit_Score</th>\n",
       "    </tr>\n",
       "  </thead>\n",
       "  <tbody>\n",
       "    <tr>\n",
       "      <th>0</th>\n",
       "      <td>0x1602</td>\n",
       "      <td>CUS_0xd40</td>\n",
       "      <td>January</td>\n",
       "      <td>Aaron Maashoh</td>\n",
       "      <td>23</td>\n",
       "      <td>821-00-0265</td>\n",
       "      <td>Scientist</td>\n",
       "      <td>19114.12</td>\n",
       "      <td>1824.843333</td>\n",
       "      <td>3</td>\n",
       "      <td>...</td>\n",
       "      <td>_</td>\n",
       "      <td>809.98</td>\n",
       "      <td>26.822620</td>\n",
       "      <td>22 Years and 1 Months</td>\n",
       "      <td>No</td>\n",
       "      <td>49.574949</td>\n",
       "      <td>80.41529543900253</td>\n",
       "      <td>High_spent_Small_value_payments</td>\n",
       "      <td>312.49408867943663</td>\n",
       "      <td>Good</td>\n",
       "    </tr>\n",
       "    <tr>\n",
       "      <th>1</th>\n",
       "      <td>0x1603</td>\n",
       "      <td>CUS_0xd40</td>\n",
       "      <td>February</td>\n",
       "      <td>Aaron Maashoh</td>\n",
       "      <td>23</td>\n",
       "      <td>821-00-0265</td>\n",
       "      <td>Scientist</td>\n",
       "      <td>19114.12</td>\n",
       "      <td>NaN</td>\n",
       "      <td>3</td>\n",
       "      <td>...</td>\n",
       "      <td>Good</td>\n",
       "      <td>809.98</td>\n",
       "      <td>31.944960</td>\n",
       "      <td>NaN</td>\n",
       "      <td>No</td>\n",
       "      <td>49.574949</td>\n",
       "      <td>118.28022162236736</td>\n",
       "      <td>Low_spent_Large_value_payments</td>\n",
       "      <td>284.62916249607184</td>\n",
       "      <td>Good</td>\n",
       "    </tr>\n",
       "    <tr>\n",
       "      <th>2</th>\n",
       "      <td>0x1604</td>\n",
       "      <td>CUS_0xd40</td>\n",
       "      <td>March</td>\n",
       "      <td>Aaron Maashoh</td>\n",
       "      <td>-500</td>\n",
       "      <td>821-00-0265</td>\n",
       "      <td>Scientist</td>\n",
       "      <td>19114.12</td>\n",
       "      <td>NaN</td>\n",
       "      <td>3</td>\n",
       "      <td>...</td>\n",
       "      <td>Good</td>\n",
       "      <td>809.98</td>\n",
       "      <td>28.609352</td>\n",
       "      <td>22 Years and 3 Months</td>\n",
       "      <td>No</td>\n",
       "      <td>49.574949</td>\n",
       "      <td>81.699521264648</td>\n",
       "      <td>Low_spent_Medium_value_payments</td>\n",
       "      <td>331.2098628537912</td>\n",
       "      <td>Good</td>\n",
       "    </tr>\n",
       "    <tr>\n",
       "      <th>3</th>\n",
       "      <td>0x1605</td>\n",
       "      <td>CUS_0xd40</td>\n",
       "      <td>April</td>\n",
       "      <td>Aaron Maashoh</td>\n",
       "      <td>23</td>\n",
       "      <td>821-00-0265</td>\n",
       "      <td>Scientist</td>\n",
       "      <td>19114.12</td>\n",
       "      <td>NaN</td>\n",
       "      <td>3</td>\n",
       "      <td>...</td>\n",
       "      <td>Good</td>\n",
       "      <td>809.98</td>\n",
       "      <td>31.377862</td>\n",
       "      <td>22 Years and 4 Months</td>\n",
       "      <td>No</td>\n",
       "      <td>49.574949</td>\n",
       "      <td>199.4580743910713</td>\n",
       "      <td>Low_spent_Small_value_payments</td>\n",
       "      <td>223.45130972736786</td>\n",
       "      <td>Good</td>\n",
       "    </tr>\n",
       "    <tr>\n",
       "      <th>4</th>\n",
       "      <td>0x1606</td>\n",
       "      <td>CUS_0xd40</td>\n",
       "      <td>May</td>\n",
       "      <td>Aaron Maashoh</td>\n",
       "      <td>23</td>\n",
       "      <td>821-00-0265</td>\n",
       "      <td>Scientist</td>\n",
       "      <td>19114.12</td>\n",
       "      <td>1824.843333</td>\n",
       "      <td>3</td>\n",
       "      <td>...</td>\n",
       "      <td>Good</td>\n",
       "      <td>809.98</td>\n",
       "      <td>24.797347</td>\n",
       "      <td>22 Years and 5 Months</td>\n",
       "      <td>No</td>\n",
       "      <td>49.574949</td>\n",
       "      <td>41.420153086217326</td>\n",
       "      <td>High_spent_Medium_value_payments</td>\n",
       "      <td>341.48923103222177</td>\n",
       "      <td>Good</td>\n",
       "    </tr>\n",
       "    <tr>\n",
       "      <th>...</th>\n",
       "      <td>...</td>\n",
       "      <td>...</td>\n",
       "      <td>...</td>\n",
       "      <td>...</td>\n",
       "      <td>...</td>\n",
       "      <td>...</td>\n",
       "      <td>...</td>\n",
       "      <td>...</td>\n",
       "      <td>...</td>\n",
       "      <td>...</td>\n",
       "      <td>...</td>\n",
       "      <td>...</td>\n",
       "      <td>...</td>\n",
       "      <td>...</td>\n",
       "      <td>...</td>\n",
       "      <td>...</td>\n",
       "      <td>...</td>\n",
       "      <td>...</td>\n",
       "      <td>...</td>\n",
       "      <td>...</td>\n",
       "      <td>...</td>\n",
       "    </tr>\n",
       "    <tr>\n",
       "      <th>99995</th>\n",
       "      <td>0x25fe9</td>\n",
       "      <td>CUS_0x942c</td>\n",
       "      <td>April</td>\n",
       "      <td>Nicks</td>\n",
       "      <td>25</td>\n",
       "      <td>078-73-5990</td>\n",
       "      <td>Mechanic</td>\n",
       "      <td>39628.99</td>\n",
       "      <td>3359.415833</td>\n",
       "      <td>4</td>\n",
       "      <td>...</td>\n",
       "      <td>_</td>\n",
       "      <td>502.38</td>\n",
       "      <td>34.663572</td>\n",
       "      <td>31 Years and 6 Months</td>\n",
       "      <td>No</td>\n",
       "      <td>35.104023</td>\n",
       "      <td>60.97133255718485</td>\n",
       "      <td>High_spent_Large_value_payments</td>\n",
       "      <td>479.86622816574095</td>\n",
       "      <td>Poor</td>\n",
       "    </tr>\n",
       "    <tr>\n",
       "      <th>99996</th>\n",
       "      <td>0x25fea</td>\n",
       "      <td>CUS_0x942c</td>\n",
       "      <td>May</td>\n",
       "      <td>Nicks</td>\n",
       "      <td>25</td>\n",
       "      <td>078-73-5990</td>\n",
       "      <td>Mechanic</td>\n",
       "      <td>39628.99</td>\n",
       "      <td>3359.415833</td>\n",
       "      <td>4</td>\n",
       "      <td>...</td>\n",
       "      <td>_</td>\n",
       "      <td>502.38</td>\n",
       "      <td>40.565631</td>\n",
       "      <td>31 Years and 7 Months</td>\n",
       "      <td>No</td>\n",
       "      <td>35.104023</td>\n",
       "      <td>54.18595028760385</td>\n",
       "      <td>High_spent_Medium_value_payments</td>\n",
       "      <td>496.651610435322</td>\n",
       "      <td>Poor</td>\n",
       "    </tr>\n",
       "    <tr>\n",
       "      <th>99997</th>\n",
       "      <td>0x25feb</td>\n",
       "      <td>CUS_0x942c</td>\n",
       "      <td>June</td>\n",
       "      <td>Nicks</td>\n",
       "      <td>25</td>\n",
       "      <td>078-73-5990</td>\n",
       "      <td>Mechanic</td>\n",
       "      <td>39628.99</td>\n",
       "      <td>3359.415833</td>\n",
       "      <td>4</td>\n",
       "      <td>...</td>\n",
       "      <td>Good</td>\n",
       "      <td>502.38</td>\n",
       "      <td>41.255522</td>\n",
       "      <td>31 Years and 8 Months</td>\n",
       "      <td>No</td>\n",
       "      <td>35.104023</td>\n",
       "      <td>24.02847744864441</td>\n",
       "      <td>High_spent_Large_value_payments</td>\n",
       "      <td>516.8090832742814</td>\n",
       "      <td>Poor</td>\n",
       "    </tr>\n",
       "    <tr>\n",
       "      <th>99998</th>\n",
       "      <td>0x25fec</td>\n",
       "      <td>CUS_0x942c</td>\n",
       "      <td>July</td>\n",
       "      <td>Nicks</td>\n",
       "      <td>25</td>\n",
       "      <td>078-73-5990</td>\n",
       "      <td>Mechanic</td>\n",
       "      <td>39628.99</td>\n",
       "      <td>3359.415833</td>\n",
       "      <td>4</td>\n",
       "      <td>...</td>\n",
       "      <td>Good</td>\n",
       "      <td>502.38</td>\n",
       "      <td>33.638208</td>\n",
       "      <td>31 Years and 9 Months</td>\n",
       "      <td>No</td>\n",
       "      <td>35.104023</td>\n",
       "      <td>251.67258219721603</td>\n",
       "      <td>Low_spent_Large_value_payments</td>\n",
       "      <td>319.1649785257098</td>\n",
       "      <td>Standard</td>\n",
       "    </tr>\n",
       "    <tr>\n",
       "      <th>99999</th>\n",
       "      <td>0x25fed</td>\n",
       "      <td>CUS_0x942c</td>\n",
       "      <td>August</td>\n",
       "      <td>Nicks</td>\n",
       "      <td>25</td>\n",
       "      <td>078-73-5990</td>\n",
       "      <td>Mechanic</td>\n",
       "      <td>39628.99_</td>\n",
       "      <td>3359.415833</td>\n",
       "      <td>4</td>\n",
       "      <td>...</td>\n",
       "      <td>Good</td>\n",
       "      <td>502.38</td>\n",
       "      <td>34.192463</td>\n",
       "      <td>31 Years and 10 Months</td>\n",
       "      <td>No</td>\n",
       "      <td>35.104023</td>\n",
       "      <td>167.1638651610451</td>\n",
       "      <td>!@9#%8</td>\n",
       "      <td>393.6736955618808</td>\n",
       "      <td>Poor</td>\n",
       "    </tr>\n",
       "  </tbody>\n",
       "</table>\n",
       "<p>100000 rows × 28 columns</p>\n",
       "</div>"
      ],
      "text/plain": [
       "            ID Customer_ID     Month           Name   Age          SSN  \\\n",
       "0       0x1602   CUS_0xd40   January  Aaron Maashoh    23  821-00-0265   \n",
       "1       0x1603   CUS_0xd40  February  Aaron Maashoh    23  821-00-0265   \n",
       "2       0x1604   CUS_0xd40     March  Aaron Maashoh  -500  821-00-0265   \n",
       "3       0x1605   CUS_0xd40     April  Aaron Maashoh    23  821-00-0265   \n",
       "4       0x1606   CUS_0xd40       May  Aaron Maashoh    23  821-00-0265   \n",
       "...        ...         ...       ...            ...   ...          ...   \n",
       "99995  0x25fe9  CUS_0x942c     April          Nicks    25  078-73-5990   \n",
       "99996  0x25fea  CUS_0x942c       May          Nicks    25  078-73-5990   \n",
       "99997  0x25feb  CUS_0x942c      June          Nicks    25  078-73-5990   \n",
       "99998  0x25fec  CUS_0x942c      July          Nicks    25  078-73-5990   \n",
       "99999  0x25fed  CUS_0x942c    August          Nicks    25  078-73-5990   \n",
       "\n",
       "      Occupation Annual_Income  Monthly_Inhand_Salary  Num_Bank_Accounts  ...  \\\n",
       "0      Scientist      19114.12            1824.843333                  3  ...   \n",
       "1      Scientist      19114.12                    NaN                  3  ...   \n",
       "2      Scientist      19114.12                    NaN                  3  ...   \n",
       "3      Scientist      19114.12                    NaN                  3  ...   \n",
       "4      Scientist      19114.12            1824.843333                  3  ...   \n",
       "...          ...           ...                    ...                ...  ...   \n",
       "99995   Mechanic      39628.99            3359.415833                  4  ...   \n",
       "99996   Mechanic      39628.99            3359.415833                  4  ...   \n",
       "99997   Mechanic      39628.99            3359.415833                  4  ...   \n",
       "99998   Mechanic      39628.99            3359.415833                  4  ...   \n",
       "99999   Mechanic     39628.99_            3359.415833                  4  ...   \n",
       "\n",
       "       Credit_Mix  Outstanding_Debt Credit_Utilization_Ratio  \\\n",
       "0               _            809.98                26.822620   \n",
       "1            Good            809.98                31.944960   \n",
       "2            Good            809.98                28.609352   \n",
       "3            Good            809.98                31.377862   \n",
       "4            Good            809.98                24.797347   \n",
       "...           ...               ...                      ...   \n",
       "99995           _            502.38                34.663572   \n",
       "99996           _            502.38                40.565631   \n",
       "99997        Good            502.38                41.255522   \n",
       "99998        Good            502.38                33.638208   \n",
       "99999        Good            502.38                34.192463   \n",
       "\n",
       "           Credit_History_Age  Payment_of_Min_Amount Total_EMI_per_month  \\\n",
       "0       22 Years and 1 Months                     No           49.574949   \n",
       "1                         NaN                     No           49.574949   \n",
       "2       22 Years and 3 Months                     No           49.574949   \n",
       "3       22 Years and 4 Months                     No           49.574949   \n",
       "4       22 Years and 5 Months                     No           49.574949   \n",
       "...                       ...                    ...                 ...   \n",
       "99995   31 Years and 6 Months                     No           35.104023   \n",
       "99996   31 Years and 7 Months                     No           35.104023   \n",
       "99997   31 Years and 8 Months                     No           35.104023   \n",
       "99998   31 Years and 9 Months                     No           35.104023   \n",
       "99999  31 Years and 10 Months                     No           35.104023   \n",
       "\n",
       "      Amount_invested_monthly                 Payment_Behaviour  \\\n",
       "0           80.41529543900253   High_spent_Small_value_payments   \n",
       "1          118.28022162236736    Low_spent_Large_value_payments   \n",
       "2             81.699521264648   Low_spent_Medium_value_payments   \n",
       "3           199.4580743910713    Low_spent_Small_value_payments   \n",
       "4          41.420153086217326  High_spent_Medium_value_payments   \n",
       "...                       ...                               ...   \n",
       "99995       60.97133255718485   High_spent_Large_value_payments   \n",
       "99996       54.18595028760385  High_spent_Medium_value_payments   \n",
       "99997       24.02847744864441   High_spent_Large_value_payments   \n",
       "99998      251.67258219721603    Low_spent_Large_value_payments   \n",
       "99999       167.1638651610451                            !@9#%8   \n",
       "\n",
       "          Monthly_Balance Credit_Score  \n",
       "0      312.49408867943663         Good  \n",
       "1      284.62916249607184         Good  \n",
       "2       331.2098628537912         Good  \n",
       "3      223.45130972736786         Good  \n",
       "4      341.48923103222177         Good  \n",
       "...                   ...          ...  \n",
       "99995  479.86622816574095         Poor  \n",
       "99996    496.651610435322         Poor  \n",
       "99997   516.8090832742814         Poor  \n",
       "99998   319.1649785257098     Standard  \n",
       "99999   393.6736955618808         Poor  \n",
       "\n",
       "[100000 rows x 28 columns]"
      ]
     },
     "execution_count": 2,
     "metadata": {},
     "output_type": "execute_result"
    }
   ],
   "source": [
    "data = pd.read_csv('archive/train.csv', low_memory = False)\n",
    "data"
   ]
  },
  {
   "cell_type": "markdown",
   "id": "cff4aad2-5454-412d-999b-00f75eadf732",
   "metadata": {},
   "source": [
    "### **Validating representation of each class on the train dataset (percentage)**"
   ]
  },
  {
   "cell_type": "code",
   "execution_count": 3,
   "id": "89c24393-6d7b-46f1-9038-c002745f8f9a",
   "metadata": {},
   "outputs": [
    {
     "data": {
      "text/plain": [
       "Credit_Score\n",
       "Standard    0.53174\n",
       "Poor        0.28998\n",
       "Good        0.17828\n",
       "Name: count, dtype: float64"
      ]
     },
     "execution_count": 3,
     "metadata": {},
     "output_type": "execute_result"
    }
   ],
   "source": [
    "count = data['Credit_Score'].value_counts()\n",
    "count/count.sum()"
   ]
  },
  {
   "cell_type": "markdown",
   "id": "7a5c4d95-6611-4747-b296-79c311bd63e0",
   "metadata": {},
   "source": [
    "### **Confirming data type of relevant features:**"
   ]
  },
  {
   "cell_type": "code",
   "execution_count": 4,
   "id": "9d6cd5a0-5b3c-4f60-96e5-da9f4db5c88d",
   "metadata": {},
   "outputs": [
    {
     "name": "stdout",
     "output_type": "stream",
     "text": [
      "<class 'pandas.core.frame.DataFrame'>\n",
      "RangeIndex: 100000 entries, 0 to 99999\n",
      "Data columns (total 28 columns):\n",
      " #   Column                    Non-Null Count   Dtype  \n",
      "---  ------                    --------------   -----  \n",
      " 0   ID                        100000 non-null  object \n",
      " 1   Customer_ID               100000 non-null  object \n",
      " 2   Month                     100000 non-null  object \n",
      " 3   Name                      90015 non-null   object \n",
      " 4   Age                       100000 non-null  object \n",
      " 5   SSN                       100000 non-null  object \n",
      " 6   Occupation                100000 non-null  object \n",
      " 7   Annual_Income             100000 non-null  object \n",
      " 8   Monthly_Inhand_Salary     84998 non-null   float64\n",
      " 9   Num_Bank_Accounts         100000 non-null  int64  \n",
      " 10  Num_Credit_Card           100000 non-null  int64  \n",
      " 11  Interest_Rate             100000 non-null  int64  \n",
      " 12  Num_of_Loan               100000 non-null  object \n",
      " 13  Type_of_Loan              88592 non-null   object \n",
      " 14  Delay_from_due_date       100000 non-null  int64  \n",
      " 15  Num_of_Delayed_Payment    92998 non-null   object \n",
      " 16  Changed_Credit_Limit      100000 non-null  object \n",
      " 17  Num_Credit_Inquiries      98035 non-null   float64\n",
      " 18  Credit_Mix                100000 non-null  object \n",
      " 19  Outstanding_Debt          100000 non-null  object \n",
      " 20  Credit_Utilization_Ratio  100000 non-null  float64\n",
      " 21  Credit_History_Age        90970 non-null   object \n",
      " 22  Payment_of_Min_Amount     100000 non-null  object \n",
      " 23  Total_EMI_per_month       100000 non-null  float64\n",
      " 24  Amount_invested_monthly   95521 non-null   object \n",
      " 25  Payment_Behaviour         100000 non-null  object \n",
      " 26  Monthly_Balance           98800 non-null   object \n",
      " 27  Credit_Score              100000 non-null  object \n",
      "dtypes: float64(4), int64(4), object(20)\n",
      "memory usage: 21.4+ MB\n"
     ]
    }
   ],
   "source": [
    "data.info()"
   ]
  },
  {
   "cell_type": "markdown",
   "id": "8e76fc89-9ecf-4daa-aee0-2418be113ed0",
   "metadata": {},
   "source": [
    "### **Converting columns: 'Age', 'Annual_Income', 'Num_of_Loan', 'Num_of_Delayed_Payment', 'Changed_Credit_Limit', 'Outstanding_Debt', 'Amount_invested_monthly' to numeric data type**"
   ]
  },
  {
   "cell_type": "code",
   "execution_count": 5,
   "id": "07f9129e-1276-47ed-88c0-89a18ab43409",
   "metadata": {},
   "outputs": [],
   "source": [
    "# Removing '_' keeping just the digits and decimal point\n",
    "data['Age'].replace('_', '', regex = True, inplace = True)\n",
    "data['Annual_Income'].replace('_', '', regex = True, inplace = True)\n",
    "data['Num_of_Loan'].replace('_', '', regex = True, inplace = True)\n",
    "data['Num_of_Delayed_Payment'].replace('_', '', regex = True, inplace = True)\n",
    "data['Changed_Credit_Limit'].replace('_', '', regex = True, inplace = True)\n",
    "data['Outstanding_Debt'].replace('_', '', regex = True, inplace = True)\n",
    "data['Amount_invested_monthly'].replace('_', '', regex = True, inplace = True)\n",
    "data['Monthly_Balance'].replace('_', '', regex = True, inplace = True)"
   ]
  },
  {
   "cell_type": "code",
   "execution_count": 6,
   "id": "639c9036-8c09-43d0-943b-2c24e310735e",
   "metadata": {},
   "outputs": [
    {
     "name": "stdout",
     "output_type": "stream",
     "text": [
      "<class 'pandas.core.frame.DataFrame'>\n",
      "RangeIndex: 100000 entries, 0 to 99999\n",
      "Data columns (total 28 columns):\n",
      " #   Column                    Non-Null Count   Dtype  \n",
      "---  ------                    --------------   -----  \n",
      " 0   ID                        100000 non-null  object \n",
      " 1   Customer_ID               100000 non-null  object \n",
      " 2   Month                     100000 non-null  object \n",
      " 3   Name                      90015 non-null   object \n",
      " 4   Age                       100000 non-null  int64  \n",
      " 5   SSN                       100000 non-null  object \n",
      " 6   Occupation                100000 non-null  object \n",
      " 7   Annual_Income             100000 non-null  float64\n",
      " 8   Monthly_Inhand_Salary     84998 non-null   float64\n",
      " 9   Num_Bank_Accounts         100000 non-null  int64  \n",
      " 10  Num_Credit_Card           100000 non-null  int64  \n",
      " 11  Interest_Rate             100000 non-null  int64  \n",
      " 12  Num_of_Loan               100000 non-null  int64  \n",
      " 13  Type_of_Loan              88592 non-null   object \n",
      " 14  Delay_from_due_date       100000 non-null  int64  \n",
      " 15  Num_of_Delayed_Payment    92998 non-null   float64\n",
      " 16  Changed_Credit_Limit      97909 non-null   float64\n",
      " 17  Num_Credit_Inquiries      98035 non-null   float64\n",
      " 18  Credit_Mix                100000 non-null  object \n",
      " 19  Outstanding_Debt          100000 non-null  float64\n",
      " 20  Credit_Utilization_Ratio  100000 non-null  float64\n",
      " 21  Credit_History_Age        90970 non-null   object \n",
      " 22  Payment_of_Min_Amount     100000 non-null  object \n",
      " 23  Total_EMI_per_month       100000 non-null  float64\n",
      " 24  Amount_invested_monthly   95521 non-null   float64\n",
      " 25  Payment_Behaviour         100000 non-null  object \n",
      " 26  Monthly_Balance           98800 non-null   object \n",
      " 27  Credit_Score              100000 non-null  object \n",
      "dtypes: float64(9), int64(6), object(13)\n",
      "memory usage: 21.4+ MB\n"
     ]
    }
   ],
   "source": [
    "# Converting to numeric data types and displaying data info to confirm what was done\n",
    "data['Age'] = data['Age'].apply(pd.to_numeric)\n",
    "data['Annual_Income'] = data['Annual_Income'].apply(pd.to_numeric)\n",
    "data['Num_of_Loan'] = data['Num_of_Loan'].apply(pd.to_numeric)\n",
    "data['Num_of_Delayed_Payment'] = data['Num_of_Delayed_Payment'].apply(pd.to_numeric)\n",
    "data['Changed_Credit_Limit'] = data['Changed_Credit_Limit'].apply(pd.to_numeric)\n",
    "data['Outstanding_Debt'] = data['Outstanding_Debt'].apply(pd.to_numeric)\n",
    "data['Amount_invested_monthly'] = data['Amount_invested_monthly'].apply(pd.to_numeric)\n",
    "data.info()"
   ]
  },
  {
   "cell_type": "markdown",
   "id": "17e88052-bdd4-4689-8829-4ffbc3058b30",
   "metadata": {
    "jp-MarkdownHeadingCollapsed": true
   },
   "source": [
    "### **Replacing each invalid age (masked) using the first valid one based on Customer_ID, considering that minimum age as 18 and the maximum 75 years old (refer to the notes below)**\n",
    "#### **Notes:**\n",
    "* **There is a not stated rule in finantial institutions regarding credit approval for people after certain age, they limit the age based on credit life insurance policies. For the sake of this exercise, 75 years old would be considered the maximum age to be able to apply for a credit.**\n",
    "* **Based on [Chase](https://www.chase.com/personal/credit-cards/education/build-credit/how-to-establish-credit-history-for-your-child#:~:text=Typically%2C%20only%20people%20over%20the,profile%20in%20the%20minor's%20name), typically, only people over the age of 18 have a credit score but it is possible for minors to have a credit report. A person under 18 can have a credit report if:**\n",
    "    * **Their identity was stolen and used to open one or more credit accounts.**\n",
    "    * **A credit agency erroneously created a credit profile in the minor's name.**\n",
    "    * **An adult added the minor as an authorized user or opened a joint account in the minor's name.**"
   ]
  },
  {
   "cell_type": "markdown",
   "id": "66b16723-4cc2-4a33-adea-7981eba594a7",
   "metadata": {},
   "source": [
    "### **Displaying data when Age < 18 and Age > 75**"
   ]
  },
  {
   "cell_type": "code",
   "execution_count": 7,
   "id": "06e7135c-6a18-49c2-809b-b8ca0316a4ae",
   "metadata": {},
   "outputs": [
    {
     "data": {
      "text/plain": [
       "2        -500\n",
       "56       7580\n",
       "113      -500\n",
       "122       181\n",
       "219       995\n",
       "         ... \n",
       "99913    2263\n",
       "99937    -500\n",
       "99950    1342\n",
       "99963    -500\n",
       "99972    1753\n",
       "Name: Age, Length: 8487, dtype: int64"
      ]
     },
     "execution_count": 7,
     "metadata": {},
     "output_type": "execute_result"
    }
   ],
   "source": [
    "data['Age'][(data.Age < 18) | (data.Age > 75)]"
   ]
  },
  {
   "cell_type": "markdown",
   "id": "dc123eab-3e15-42b7-ac1d-a26fb0484d9b",
   "metadata": {},
   "source": [
    "### **Replacing the age values under 18 or over 75 (using mask to target them) using the first valid value per each Customer_ID (if any). Relevant to mention that there are several records per each customer for differents month going through a sequence or order althought the year is not specified**"
   ]
  },
  {
   "cell_type": "code",
   "execution_count": 8,
   "id": "6e044175-3e72-459c-bed5-8724f283dfae",
   "metadata": {},
   "outputs": [
    {
     "data": {
      "text/plain": [
       "Series([], Name: Age, dtype: float64)"
      ]
     },
     "execution_count": 8,
     "metadata": {},
     "output_type": "execute_result"
    }
   ],
   "source": [
    "data['Age'] = data['Age'].mask((data.Age < 18) | (data.Age > 75)).groupby(data['Customer_ID']).transform('first')\n",
    "data['Age'][(data.Age < 18) | (data.Age > 75)] # Validating invalid values were replaced"
   ]
  },
  {
   "cell_type": "markdown",
   "id": "79ecfdca-40c8-46a8-b7bb-44c41b99a856",
   "metadata": {},
   "source": [
    "### **Validating if there are gaps within the Age values, if so droping those records**"
   ]
  },
  {
   "cell_type": "code",
   "execution_count": 9,
   "id": "3ccd9b2e-2ec2-4094-ae43-e82da09ddced",
   "metadata": {},
   "outputs": [
    {
     "data": {
      "text/plain": [
       "288     NaN\n",
       "289     NaN\n",
       "290     NaN\n",
       "291     NaN\n",
       "292     NaN\n",
       "         ..\n",
       "99803   NaN\n",
       "99804   NaN\n",
       "99805   NaN\n",
       "99806   NaN\n",
       "99807   NaN\n",
       "Name: Age, Length: 5504, dtype: float64"
      ]
     },
     "execution_count": 9,
     "metadata": {},
     "output_type": "execute_result"
    }
   ],
   "source": [
    "data['Age'][data.Age.isna()]"
   ]
  },
  {
   "cell_type": "code",
   "execution_count": 10,
   "id": "370a99fa-c1f2-49eb-96d9-aef1a6f5d44f",
   "metadata": {},
   "outputs": [
    {
     "data": {
      "text/plain": [
       "Credit_Score\n",
       "Standard    2830\n",
       "Poor        2470\n",
       "Good         204\n",
       "Name: count, dtype: int64"
      ]
     },
     "execution_count": 10,
     "metadata": {},
     "output_type": "execute_result"
    }
   ],
   "source": [
    "data['Credit_Score'][data.Age.isna()].value_counts() # Confirming Age NaN values class count"
   ]
  },
  {
   "cell_type": "code",
   "execution_count": 11,
   "id": "525141dc-2b12-4aef-bbac-a742825990ac",
   "metadata": {},
   "outputs": [
    {
     "name": "stdout",
     "output_type": "stream",
     "text": [
      "<class 'pandas.core.series.Series'>\n",
      "Index: 94496 entries, 0 to 99999\n",
      "Series name: Age\n",
      "Non-Null Count  Dtype  \n",
      "--------------  -----  \n",
      "94496 non-null  float64\n",
      "dtypes: float64(1)\n",
      "memory usage: 1.4 MB\n"
     ]
    }
   ],
   "source": [
    "data = data.drop(data[data.Age.isnull()].index)\n",
    "data['Age'].info() # Confirming just 94,496 records are remaining (removing 5504 rows out of 100,000 rows)"
   ]
  },
  {
   "cell_type": "markdown",
   "id": "4f6b1383-9129-418d-86ca-98acf4d4d16d",
   "metadata": {},
   "source": [
    "### **Confirming if Occupation values are letters from the English alphabet or not**"
   ]
  },
  {
   "cell_type": "code",
   "execution_count": 12,
   "id": "6fcb01ed-93ad-4530-bc22-2f12e57f6c8a",
   "metadata": {},
   "outputs": [
    {
     "data": {
      "text/plain": [
       "8              _______\n",
       "16             _______\n",
       "18             _______\n",
       "20             _______\n",
       "29             _______\n",
       "             ...      \n",
       "99972    Media_Manager\n",
       "99973    Media_Manager\n",
       "99974    Media_Manager\n",
       "99975    Media_Manager\n",
       "99989          _______\n",
       "Name: Occupation, Length: 12530, dtype: object"
      ]
     },
     "execution_count": 12,
     "metadata": {},
     "output_type": "execute_result"
    }
   ],
   "source": [
    "data['Occupation'][data['Occupation'].str.isalpha() == False]"
   ]
  },
  {
   "cell_type": "code",
   "execution_count": 13,
   "id": "11f91b8a-fe60-4fdd-bae6-8ae90a21210e",
   "metadata": {},
   "outputs": [
    {
     "data": {
      "text/plain": [
       "8        _______\n",
       "16       _______\n",
       "18       _______\n",
       "20       _______\n",
       "29       _______\n",
       "          ...   \n",
       "99920    _______\n",
       "99935    _______\n",
       "99937    _______\n",
       "99943    _______\n",
       "99989    _______\n",
       "Name: Occupation, Length: 6667, dtype: object"
      ]
     },
     "execution_count": 13,
     "metadata": {},
     "output_type": "execute_result"
    }
   ],
   "source": [
    "data['Occupation'][data['Occupation'].str.match('__')] # Checking how many values composed with only '_'"
   ]
  },
  {
   "cell_type": "markdown",
   "id": "f551e6f9-3117-4955-be33-3c49decdf2c9",
   "metadata": {},
   "source": [
    "### **Replacing the invalid Occupation values (using mask to target them) using the first valid value per each Customer_ID (if any)**"
   ]
  },
  {
   "cell_type": "code",
   "execution_count": 14,
   "id": "eaad971f-6e70-477b-ab1d-d160b59c6097",
   "metadata": {},
   "outputs": [
    {
     "data": {
      "text/plain": [
       "Series([], Name: Occupation, dtype: object)"
      ]
     },
     "execution_count": 14,
     "metadata": {},
     "output_type": "execute_result"
    }
   ],
   "source": [
    "data['Occupation'] = data['Occupation'].mask(data['Occupation'].str.match('__')).groupby(data['Customer_ID']).transform('first')\n",
    "data['Occupation'][data['Occupation'].str.match('__')] # Validating invalid values were effectively removed"
   ]
  },
  {
   "cell_type": "code",
   "execution_count": 15,
   "id": "39c3e753-64b5-4f6e-860a-212e6e692e43",
   "metadata": {},
   "outputs": [
    {
     "name": "stdout",
     "output_type": "stream",
     "text": [
      "<class 'pandas.core.series.Series'>\n",
      "Index: 94496 entries, 0 to 99999\n",
      "Series name: Occupation\n",
      "Non-Null Count  Dtype \n",
      "--------------  ----- \n",
      "94496 non-null  object\n",
      "dtypes: object(1)\n",
      "memory usage: 1.4+ MB\n"
     ]
    }
   ],
   "source": [
    "data['Occupation'].info() # Confirming if there are not NaN values left after replacement executed"
   ]
  },
  {
   "cell_type": "markdown",
   "id": "b96f985b-6e0e-4ef0-a227-ac5fd31eb486",
   "metadata": {},
   "source": [
    "### **Replacing Monthly_Inhand_Salary's NaN values (using mask to target them) using the first valid value per each Customer_ID (if any)**"
   ]
  },
  {
   "cell_type": "code",
   "execution_count": 16,
   "id": "f1d47916-1d4e-46af-a188-a4220d7362be",
   "metadata": {},
   "outputs": [
    {
     "name": "stdout",
     "output_type": "stream",
     "text": [
      "<class 'pandas.core.series.Series'>\n",
      "Index: 94496 entries, 0 to 99999\n",
      "Series name: Monthly_Inhand_Salary\n",
      "Non-Null Count  Dtype  \n",
      "--------------  -----  \n",
      "94496 non-null  float64\n",
      "dtypes: float64(1)\n",
      "memory usage: 1.4 MB\n"
     ]
    }
   ],
   "source": [
    "data['Monthly_Inhand_Salary'] = data['Monthly_Inhand_Salary'].mask(data['Monthly_Inhand_Salary'].isna()).groupby(data['Customer_ID']).transform('first')\n",
    "data['Monthly_Inhand_Salary'].info() # Validating if NaN values were replaced"
   ]
  },
  {
   "cell_type": "markdown",
   "id": "b31175c0-1a17-44ba-b537-4a4f3e435aa3",
   "metadata": {},
   "source": [
    "### **Validating if there are values for Num_Bank_Accounts less than or equal to 0, if so replacing them using the first valid value per each Customer_ID (if any)**"
   ]
  },
  {
   "cell_type": "code",
   "execution_count": 17,
   "id": "17f2c665-ca2b-414a-9a4d-34f355d8e493",
   "metadata": {},
   "outputs": [
    {
     "data": {
      "text/plain": [
       "30330   -1\n",
       "30331   -1\n",
       "30332   -1\n",
       "30333   -1\n",
       "30334   -1\n",
       "30335   -1\n",
       "43689   -1\n",
       "43690   -1\n",
       "43691   -1\n",
       "43692   -1\n",
       "43693   -1\n",
       "43694   -1\n",
       "43695   -1\n",
       "47212   -1\n",
       "47213   -1\n",
       "47214   -1\n",
       "47215   -1\n",
       "55636   -1\n",
       "55637   -1\n",
       "55638   -1\n",
       "55639   -1\n",
       "Name: Num_Bank_Accounts, dtype: int64"
      ]
     },
     "execution_count": 17,
     "metadata": {},
     "output_type": "execute_result"
    }
   ],
   "source": [
    "data['Num_Bank_Accounts'][data['Num_Bank_Accounts'] < 0]"
   ]
  },
  {
   "cell_type": "code",
   "execution_count": 18,
   "id": "ee026638-48e5-4ef1-a674-9168440d4ca3",
   "metadata": {},
   "outputs": [
    {
     "data": {
      "text/plain": [
       "Series([], Name: Num_Bank_Accounts, dtype: float64)"
      ]
     },
     "execution_count": 18,
     "metadata": {},
     "output_type": "execute_result"
    }
   ],
   "source": [
    "data['Num_Bank_Accounts'] = data['Num_Bank_Accounts'].mask(data['Num_Bank_Accounts'] < 0).groupby(data['Customer_ID']).transform('first')\n",
    "data['Num_Bank_Accounts'][data['Num_Bank_Accounts'] < 0] # Confirming values less than 0 were replaced."
   ]
  },
  {
   "cell_type": "code",
   "execution_count": 19,
   "id": "ed215a9a-dade-4626-b328-0604871c6117",
   "metadata": {},
   "outputs": [
    {
     "name": "stdout",
     "output_type": "stream",
     "text": [
      "<class 'pandas.core.series.Series'>\n",
      "Index: 94496 entries, 0 to 99999\n",
      "Series name: Num_Bank_Accounts\n",
      "Non-Null Count  Dtype  \n",
      "--------------  -----  \n",
      "94496 non-null  float64\n",
      "dtypes: float64(1)\n",
      "memory usage: 1.4 MB\n"
     ]
    }
   ],
   "source": [
    "data['Num_Bank_Accounts'].info() # Confirming there are not NanN values left after replacement executed"
   ]
  },
  {
   "cell_type": "markdown",
   "id": "6a289f5f-17df-49b7-9699-1a53586fa844",
   "metadata": {},
   "source": [
    "### **Validating if there are values for Num_Credit_Card less than 0 (there isn't a limit for it but based on what was stated on feature description table, a max number is not set because the largest number is less than the Guiness World Record about it and scams, identity theft, among other issues), if so replacing them using the first valid value per each Customer_ID (if any)**"
   ]
  },
  {
   "cell_type": "code",
   "execution_count": 20,
   "id": "d1e7d062-da04-407e-b9f4-77f8dda352fd",
   "metadata": {},
   "outputs": [
    {
     "data": {
      "text/plain": [
       "Series([], Name: Num_Credit_Card, dtype: int64)"
      ]
     },
     "execution_count": 20,
     "metadata": {},
     "output_type": "execute_result"
    }
   ],
   "source": [
    "data['Num_Credit_Card'][data['Num_Credit_Card'] < 0]"
   ]
  },
  {
   "cell_type": "markdown",
   "id": "377dad6a-3e00-484f-afdd-ac40c570dbfa",
   "metadata": {},
   "source": [
    "### **Validating if there are values for Interest_Rate less or equal to -1 or greater than 36 (considering on what was stated on feature description table, the range previously stated seems apropiate), if so replacing them using the first valid value per each Customer_ID (if any)**"
   ]
  },
  {
   "cell_type": "code",
   "execution_count": 21,
   "id": "f6affac1-bf8c-4b6d-b501-678adccd34bf",
   "metadata": {},
   "outputs": [
    {
     "data": {
      "text/plain": [
       "44       5318\n",
       "89        433\n",
       "167      5240\n",
       "178      4975\n",
       "229       668\n",
       "         ... \n",
       "99753    1127\n",
       "99791    4396\n",
       "99882    1947\n",
       "99914     360\n",
       "99997    5729\n",
       "Name: Interest_Rate, Length: 1926, dtype: int64"
      ]
     },
     "execution_count": 21,
     "metadata": {},
     "output_type": "execute_result"
    }
   ],
   "source": [
    "data['Interest_Rate'][(data['Interest_Rate'] < -1) | (data['Interest_Rate'] > 36)]"
   ]
  },
  {
   "cell_type": "code",
   "execution_count": 22,
   "id": "f1f746bc-e82b-475f-bfdd-c5acfa57375d",
   "metadata": {},
   "outputs": [
    {
     "data": {
      "text/plain": [
       "Series([], Name: Interest_Rate, dtype: float64)"
      ]
     },
     "execution_count": 22,
     "metadata": {},
     "output_type": "execute_result"
    }
   ],
   "source": [
    "data['Interest_Rate'] = data['Interest_Rate'].mask((data['Interest_Rate'] < -1) | (data['Interest_Rate'] > 36)).groupby(data['Customer_ID']).transform('first')\n",
    "data['Interest_Rate'][(data['Interest_Rate'] < -1) | (data['Interest_Rate'] > 36)] # Confirming values less than -1 or greater than 36 were replaced."
   ]
  },
  {
   "cell_type": "code",
   "execution_count": 23,
   "id": "8f304dd2-45e9-4bd7-a9a3-f2062368a4b6",
   "metadata": {},
   "outputs": [
    {
     "name": "stdout",
     "output_type": "stream",
     "text": [
      "<class 'pandas.core.series.Series'>\n",
      "Index: 94496 entries, 0 to 99999\n",
      "Series name: Interest_Rate\n",
      "Non-Null Count  Dtype  \n",
      "--------------  -----  \n",
      "94496 non-null  float64\n",
      "dtypes: float64(1)\n",
      "memory usage: 1.4 MB\n"
     ]
    }
   ],
   "source": [
    "data['Interest_Rate'].info() # Confirming if there are not NanN values left after replacement done"
   ]
  },
  {
   "cell_type": "code",
   "execution_count": 24,
   "id": "3d785870-cacf-4ccc-8cf2-f348f0395480",
   "metadata": {},
   "outputs": [],
   "source": [
    "data['Interest_Rate'] = data['Interest_Rate'] / 100 # Converting Interest_Rate values to percentages, storing them as float"
   ]
  },
  {
   "cell_type": "markdown",
   "id": "0cebc8ec-a298-44af-b328-5998861fc199",
   "metadata": {},
   "source": [
    "### **Validating if there are invalid values for Num_of_Loan (less than 0 - a maximum number is not set or checked considering what was stated on feature description table because more than an amount of loans, banks evaluate the DTI along with other two aspects to validate if a person qualifies or not for a loan). Invalid values are targeted using mask so based on the first valid value per each Customer_ID (if any) replace them**"
   ]
  },
  {
   "cell_type": "code",
   "execution_count": 25,
   "id": "4fee1921-9202-4a82-87eb-97b45f03d32a",
   "metadata": {},
   "outputs": [
    {
     "data": {
      "text/plain": [
       "31      -100\n",
       "34      -100\n",
       "39      -100\n",
       "53      -100\n",
       "61      -100\n",
       "        ... \n",
       "99877   -100\n",
       "99901   -100\n",
       "99902   -100\n",
       "99969   -100\n",
       "99987   -100\n",
       "Name: Num_of_Loan, Length: 3680, dtype: int64"
      ]
     },
     "execution_count": 25,
     "metadata": {},
     "output_type": "execute_result"
    }
   ],
   "source": [
    "data['Num_of_Loan'][data.Num_of_Loan < 0]"
   ]
  },
  {
   "cell_type": "code",
   "execution_count": 26,
   "id": "86ca9bca-d89c-440e-b033-0be13ebd2898",
   "metadata": {},
   "outputs": [
    {
     "name": "stdout",
     "output_type": "stream",
     "text": [
      "<class 'pandas.core.series.Series'>\n",
      "Index: 94496 entries, 0 to 99999\n",
      "Series name: Num_of_Loan\n",
      "Non-Null Count  Dtype  \n",
      "--------------  -----  \n",
      "94496 non-null  float64\n",
      "dtypes: float64(1)\n",
      "memory usage: 1.4 MB\n"
     ]
    }
   ],
   "source": [
    "data['Num_of_Loan'] = data['Num_of_Loan'].mask(data.Num_of_Loan < 0).groupby(data['Customer_ID']).transform('first')\n",
    "data['Num_of_Loan'].info() # Confirming if invalid values were replaced"
   ]
  },
  {
   "cell_type": "markdown",
   "id": "89133cf7-8b38-45a4-82b6-2b096597a383",
   "metadata": {},
   "source": [
    "### **Replacing Type_of_Loan's empty values (using mask to target them) using the first valid value per each Customer_ID (if any)**"
   ]
  },
  {
   "cell_type": "code",
   "execution_count": 27,
   "id": "96afab61-55ce-4947-95ba-b99996aba4b7",
   "metadata": {},
   "outputs": [
    {
     "name": "stdout",
     "output_type": "stream",
     "text": [
      "<class 'pandas.core.series.Series'>\n",
      "Index: 94496 entries, 0 to 99999\n",
      "Series name: Type_of_Loan\n",
      "Non-Null Count  Dtype \n",
      "--------------  ----- \n",
      "83240 non-null  object\n",
      "dtypes: object(1)\n",
      "memory usage: 1.4+ MB\n"
     ]
    }
   ],
   "source": [
    "data['Type_of_Loan'] = data['Type_of_Loan'].mask(data['Type_of_Loan'].isnull()).groupby(data['Customer_ID']).transform('first')\n",
    "data['Type_of_Loan'].info() # Confirming empty values were replaced"
   ]
  },
  {
   "cell_type": "markdown",
   "id": "443aaabd-8a13-4e00-a555-205afdc1acbe",
   "metadata": {},
   "source": [
    "### **Removing those 11,256 records that are still empty from data**"
   ]
  },
  {
   "cell_type": "code",
   "execution_count": 28,
   "id": "1d200469-0783-4fa2-aebe-ecf3223ae21a",
   "metadata": {},
   "outputs": [
    {
     "data": {
      "text/plain": [
       "Credit_Score\n",
       "Standard    6510\n",
       "Good        3429\n",
       "Poor        1317\n",
       "Name: count, dtype: int64"
      ]
     },
     "execution_count": 28,
     "metadata": {},
     "output_type": "execute_result"
    }
   ],
   "source": [
    "data['Credit_Score'][data.Type_of_Loan.isnull()].value_counts() # Confirming Type_of_Loan NaN values class count"
   ]
  },
  {
   "cell_type": "code",
   "execution_count": 29,
   "id": "ced3df3b-7ea8-493d-8ed8-86d44b1c8c45",
   "metadata": {},
   "outputs": [
    {
     "name": "stdout",
     "output_type": "stream",
     "text": [
      "<class 'pandas.core.series.Series'>\n",
      "Index: 83240 entries, 0 to 99999\n",
      "Series name: Type_of_Loan\n",
      "Non-Null Count  Dtype \n",
      "--------------  ----- \n",
      "83240 non-null  object\n",
      "dtypes: object(1)\n",
      "memory usage: 1.3+ MB\n"
     ]
    }
   ],
   "source": [
    "data = data.drop(data[data.Type_of_Loan.isnull()].index)\n",
    "data['Type_of_Loan'].info() # Confirming just 83,240 records are remaining (11,256 rows removed out of 94,496)"
   ]
  },
  {
   "cell_type": "markdown",
   "id": "d27b25e5-79b3-496f-80ab-e4c8fd95e68a",
   "metadata": {},
   "source": [
    "### **Replacing Delay_from_due_date invalid values (less than 0) using mask to target them and the first valid value per each Customer_ID (if any)**"
   ]
  },
  {
   "cell_type": "code",
   "execution_count": 30,
   "id": "508cb3db-27a8-4ec9-b540-97d083ac247a",
   "metadata": {},
   "outputs": [
    {
     "data": {
      "text/plain": [
       "1       -1\n",
       "49      -1\n",
       "74      -2\n",
       "78      -1\n",
       "79      -2\n",
       "        ..\n",
       "99198   -2\n",
       "99358   -1\n",
       "99368   -4\n",
       "99371   -5\n",
       "99667   -2\n",
       "Name: Delay_from_due_date, Length: 459, dtype: int64"
      ]
     },
     "execution_count": 30,
     "metadata": {},
     "output_type": "execute_result"
    }
   ],
   "source": [
    "data['Delay_from_due_date'][data.Delay_from_due_date < 0]"
   ]
  },
  {
   "cell_type": "code",
   "execution_count": 31,
   "id": "d5e26ce2-36e9-4331-86b1-51a5bf4910c2",
   "metadata": {},
   "outputs": [
    {
     "name": "stdout",
     "output_type": "stream",
     "text": [
      "<class 'pandas.core.series.Series'>\n",
      "Index: 83240 entries, 0 to 99999\n",
      "Series name: Delay_from_due_date\n",
      "Non-Null Count  Dtype  \n",
      "--------------  -----  \n",
      "83240 non-null  float64\n",
      "dtypes: float64(1)\n",
      "memory usage: 1.3 MB\n"
     ]
    }
   ],
   "source": [
    "data['Delay_from_due_date'] = data['Delay_from_due_date'].mask(data['Delay_from_due_date'] < 0).groupby(data['Customer_ID']).transform('first')\n",
    "data['Delay_from_due_date'].info() # Confirming empty values were replaced"
   ]
  },
  {
   "cell_type": "markdown",
   "id": "1516ff9a-32e5-4d03-86ad-c3d51ed46f0b",
   "metadata": {},
   "source": [
    "### **Validating if there are values for Num_of_Delayed_Payment less than or equal to 0, if so replacing them using the first valid value per each Customer_ID (if any)****"
   ]
  },
  {
   "cell_type": "code",
   "execution_count": 32,
   "id": "71d25ad4-f801-4183-b3bc-a3c0779709b6",
   "metadata": {},
   "outputs": [
    {
     "data": {
      "text/plain": [
       "10      -1.0\n",
       "698     -1.0\n",
       "1561    -2.0\n",
       "2167    -1.0\n",
       "2224    -1.0\n",
       "        ... \n",
       "99264   -2.0\n",
       "99266   -1.0\n",
       "99269   -2.0\n",
       "99586   -2.0\n",
       "99965   -1.0\n",
       "Name: Num_of_Delayed_Payment, Length: 509, dtype: float64"
      ]
     },
     "execution_count": 32,
     "metadata": {},
     "output_type": "execute_result"
    }
   ],
   "source": [
    "data['Num_of_Delayed_Payment'][data['Num_of_Delayed_Payment'] < 0]"
   ]
  },
  {
   "cell_type": "code",
   "execution_count": 33,
   "id": "34894b7d-1563-4eac-a175-b46c63347c10",
   "metadata": {},
   "outputs": [
    {
     "data": {
      "text/plain": [
       "Series([], Name: Num_of_Delayed_Payment, dtype: float64)"
      ]
     },
     "execution_count": 33,
     "metadata": {},
     "output_type": "execute_result"
    }
   ],
   "source": [
    "data['Num_of_Delayed_Payment'] = data['Num_of_Delayed_Payment'].mask(data['Num_of_Delayed_Payment'] < 0).groupby(data['Customer_ID']).transform('first')\n",
    "data['Num_of_Delayed_Payment'][data['Num_of_Delayed_Payment'] < 0]"
   ]
  },
  {
   "cell_type": "code",
   "execution_count": 34,
   "id": "d1f7b9fd-62a7-467b-a365-eb6d921d565d",
   "metadata": {},
   "outputs": [
    {
     "name": "stdout",
     "output_type": "stream",
     "text": [
      "<class 'pandas.core.series.Series'>\n",
      "Index: 83240 entries, 0 to 99999\n",
      "Series name: Num_of_Delayed_Payment\n",
      "Non-Null Count  Dtype  \n",
      "--------------  -----  \n",
      "83240 non-null  float64\n",
      "dtypes: float64(1)\n",
      "memory usage: 1.3 MB\n"
     ]
    }
   ],
   "source": [
    "data['Num_of_Delayed_Payment'].info() # Confirming if there are gaps after previous execution"
   ]
  },
  {
   "cell_type": "markdown",
   "id": "f85abf96-e4d8-40a4-aed6-d6f5b7fd78f3",
   "metadata": {},
   "source": [
    "### **Validating if there are gaps within the Num_of_Delayed_Payment values, if so droping those records**"
   ]
  },
  {
   "cell_type": "code",
   "execution_count": 35,
   "id": "c7e324de-23c3-445f-ae3d-eeaed2431e88",
   "metadata": {},
   "outputs": [
    {
     "data": {
      "text/plain": [
       "Series([], Name: count, dtype: int64)"
      ]
     },
     "execution_count": 35,
     "metadata": {},
     "output_type": "execute_result"
    }
   ],
   "source": [
    "data['Credit_Score'][data.Num_of_Delayed_Payment.isnull()].value_counts() # Confirming Num_of_Delayed_Payment NaN values class count"
   ]
  },
  {
   "cell_type": "code",
   "execution_count": 36,
   "id": "e2f899ec-734b-46fb-af3e-943572f79bd2",
   "metadata": {},
   "outputs": [
    {
     "name": "stdout",
     "output_type": "stream",
     "text": [
      "<class 'pandas.core.series.Series'>\n",
      "Index: 83240 entries, 0 to 99999\n",
      "Series name: Num_of_Delayed_Payment\n",
      "Non-Null Count  Dtype  \n",
      "--------------  -----  \n",
      "83240 non-null  float64\n",
      "dtypes: float64(1)\n",
      "memory usage: 1.3 MB\n"
     ]
    }
   ],
   "source": [
    "data = data.drop(data[data.Num_of_Delayed_Payment.isnull()].index)\n",
    "data['Num_of_Delayed_Payment'].info() # Confirming just 82,712 records are remaining (removing 528 rows out of 83,240 rows)"
   ]
  },
  {
   "cell_type": "markdown",
   "id": "1e7bcd60-a9ce-491e-8d65-e1044e9893df",
   "metadata": {},
   "source": [
    "### **Replacing Changed_Credit_Limit's NaN values (using mask to target them) using the first valid value per each Customer_ID (if any)**"
   ]
  },
  {
   "cell_type": "code",
   "execution_count": 37,
   "id": "9ba3ec0d-4ca6-4496-9621-d77740a4d4da",
   "metadata": {},
   "outputs": [
    {
     "name": "stdout",
     "output_type": "stream",
     "text": [
      "<class 'pandas.core.series.Series'>\n",
      "Index: 83240 entries, 0 to 99999\n",
      "Series name: Changed_Credit_Limit\n",
      "Non-Null Count  Dtype  \n",
      "--------------  -----  \n",
      "83240 non-null  float64\n",
      "dtypes: float64(1)\n",
      "memory usage: 1.3 MB\n"
     ]
    }
   ],
   "source": [
    "data['Changed_Credit_Limit'] = data['Changed_Credit_Limit'].mask(data['Changed_Credit_Limit'].isnull()).groupby(data['Customer_ID']).transform('first')\n",
    "data['Changed_Credit_Limit'].info() # Validating if there are remaining gaaps within these values"
   ]
  },
  {
   "cell_type": "markdown",
   "id": "9aa65014-c86e-45d5-993b-1893236b522d",
   "metadata": {},
   "source": [
    "### **Replacing Num_Credit_Inquiries's NaN values (using mask to target them) using the first valid value per each Customer_ID (if any)**"
   ]
  },
  {
   "cell_type": "code",
   "execution_count": 38,
   "id": "73d0aefb-4ab0-4097-aa45-366b18b0db66",
   "metadata": {},
   "outputs": [
    {
     "name": "stdout",
     "output_type": "stream",
     "text": [
      "<class 'pandas.core.series.Series'>\n",
      "Index: 83240 entries, 0 to 99999\n",
      "Series name: Num_Credit_Inquiries\n",
      "Non-Null Count  Dtype  \n",
      "--------------  -----  \n",
      "83240 non-null  float64\n",
      "dtypes: float64(1)\n",
      "memory usage: 1.3 MB\n"
     ]
    }
   ],
   "source": [
    "data['Num_Credit_Inquiries'] = data['Num_Credit_Inquiries'].mask(data['Num_Credit_Inquiries'].isnull()).groupby(data['Customer_ID']).transform('first')\n",
    "data['Num_Credit_Inquiries'].info() # Confirming if there are gaps present after replacement executed"
   ]
  },
  {
   "cell_type": "markdown",
   "id": "9dade26e-8b73-4e56-8411-a6c7353be337",
   "metadata": {},
   "source": [
    "### **Validating if there are invalid values for Credit_Mix (a string equals to: 'Good', 'Bad' or 'Standard' expected)**"
   ]
  },
  {
   "cell_type": "code",
   "execution_count": 39,
   "id": "6bcf038d-1a8b-4145-8847-62290bd69886",
   "metadata": {},
   "outputs": [
    {
     "data": {
      "text/plain": [
       "0        _\n",
       "10       _\n",
       "19       _\n",
       "29       _\n",
       "57       _\n",
       "        ..\n",
       "99988    _\n",
       "99992    _\n",
       "99994    _\n",
       "99995    _\n",
       "99996    _\n",
       "Name: Credit_Mix, Length: 16742, dtype: object"
      ]
     },
     "execution_count": 39,
     "metadata": {},
     "output_type": "execute_result"
    }
   ],
   "source": [
    "data['Credit_Mix'][data['Credit_Mix'].str.isalpha() != True]"
   ]
  },
  {
   "cell_type": "markdown",
   "id": "ee7b9129-e956-4abb-86ac-b7ffdf3af471",
   "metadata": {},
   "source": [
    "### **Replacing Credit_Mix's invalid values those that are not part of the English alphabet (using mask to target them) using the first valid value per each Customer_ID (if any)**"
   ]
  },
  {
   "cell_type": "code",
   "execution_count": 40,
   "id": "da5c62de-fd1c-4107-9167-76ba4d1b6e4f",
   "metadata": {},
   "outputs": [
    {
     "data": {
      "text/plain": [
       "0        Good\n",
       "1        Good\n",
       "2        Good\n",
       "3        Good\n",
       "4        Good\n",
       "         ... \n",
       "99995    Good\n",
       "99996    Good\n",
       "99997    Good\n",
       "99998    Good\n",
       "99999    Good\n",
       "Name: Credit_Mix, Length: 83240, dtype: object"
      ]
     },
     "execution_count": 40,
     "metadata": {},
     "output_type": "execute_result"
    }
   ],
   "source": [
    "data['Credit_Mix'] = data['Credit_Mix'].mask(data['Credit_Mix'].str.isalpha() == False).groupby(data['Customer_ID']).transform('first')\n",
    "data['Credit_Mix'][data['Credit_Mix'].str.isalpha()]"
   ]
  },
  {
   "cell_type": "code",
   "execution_count": 41,
   "id": "63132b32-a975-44aa-8ffe-a1ef4cd1c903",
   "metadata": {},
   "outputs": [
    {
     "name": "stdout",
     "output_type": "stream",
     "text": [
      "<class 'pandas.core.series.Series'>\n",
      "Index: 83240 entries, 0 to 99999\n",
      "Series name: Credit_Mix\n",
      "Non-Null Count  Dtype \n",
      "--------------  ----- \n",
      "83240 non-null  object\n",
      "dtypes: object(1)\n",
      "memory usage: 1.3+ MB\n"
     ]
    }
   ],
   "source": [
    "data['Credit_Mix'].info() # Making sure there are no gaps on these values"
   ]
  },
  {
   "cell_type": "markdown",
   "id": "aa655fab-97f2-41dd-a7b1-2e9fa5d37689",
   "metadata": {},
   "source": [
    "### **Replacing Credit_History_Age's NaN values (using mask to target them) using the first valid value per each Customer_ID (if any)**"
   ]
  },
  {
   "cell_type": "code",
   "execution_count": 42,
   "id": "6e0e929b-d9e1-4d47-966c-f16551647161",
   "metadata": {},
   "outputs": [
    {
     "name": "stdout",
     "output_type": "stream",
     "text": [
      "<class 'pandas.core.series.Series'>\n",
      "Index: 83240 entries, 0 to 99999\n",
      "Series name: Credit_History_Age\n",
      "Non-Null Count  Dtype \n",
      "--------------  ----- \n",
      "83240 non-null  object\n",
      "dtypes: object(1)\n",
      "memory usage: 1.3+ MB\n"
     ]
    }
   ],
   "source": [
    "data['Credit_History_Age'] = data['Credit_History_Age'].mask(data['Credit_History_Age'].isnull()).groupby(data['Customer_ID']).transform('first')\n",
    "data['Credit_History_Age'].info()"
   ]
  },
  {
   "cell_type": "markdown",
   "id": "807dc6b5-859b-4986-a01c-68de8e17a010",
   "metadata": {},
   "source": [
    "### **Validating if there are invalid values for Payment_of_Min_Amount (Yes/No expected)**"
   ]
  },
  {
   "cell_type": "code",
   "execution_count": 43,
   "id": "8982603b-b914-4444-81d7-3af4cfa62ebb",
   "metadata": {},
   "outputs": [
    {
     "data": {
      "text/plain": [
       "14       NM\n",
       "26       NM\n",
       "48       NM\n",
       "50       NM\n",
       "56       NM\n",
       "         ..\n",
       "99924    NM\n",
       "99949    NM\n",
       "99968    NM\n",
       "99979    NM\n",
       "99981    NM\n",
       "Name: Payment_of_Min_Amount, Length: 10058, dtype: object"
      ]
     },
     "execution_count": 43,
     "metadata": {},
     "output_type": "execute_result"
    }
   ],
   "source": [
    "data['Payment_of_Min_Amount'][(data['Payment_of_Min_Amount'] != 'Yes') & (data['Payment_of_Min_Amount'] != 'No')]"
   ]
  },
  {
   "cell_type": "markdown",
   "id": "b4a4bcc5-649c-482e-94ab-eac6b8eb3f9f",
   "metadata": {},
   "source": [
    "### **Changing the value 'NM' for 'No', considering possible typos entering the values for Payment_of_Min_Amount**"
   ]
  },
  {
   "cell_type": "code",
   "execution_count": 44,
   "id": "6d1c1321-ec63-41b0-b5c7-154da9ec12e7",
   "metadata": {},
   "outputs": [
    {
     "data": {
      "text/plain": [
       "Series([], Name: Payment_of_Min_Amount, dtype: object)"
      ]
     },
     "execution_count": 44,
     "metadata": {},
     "output_type": "execute_result"
    }
   ],
   "source": [
    "data['Payment_of_Min_Amount'].replace('NM', 'No', inplace=True) # Replacing 'NW' with 'No'\n",
    "data['Payment_of_Min_Amount'][data['Payment_of_Min_Amount'] == 'NW'] # Validating replacement done"
   ]
  },
  {
   "cell_type": "markdown",
   "id": "cbea9734-6423-4de9-a6c8-a6033d998ed4",
   "metadata": {},
   "source": [
    "### **Replacing Amount_invested_monthly's empty values (using mask to target them) using the first valid value per each Customer_ID (if any)**"
   ]
  },
  {
   "cell_type": "code",
   "execution_count": 45,
   "id": "31fa0bd9-3fe1-4d2b-9e86-89fc626f53ea",
   "metadata": {},
   "outputs": [
    {
     "name": "stdout",
     "output_type": "stream",
     "text": [
      "<class 'pandas.core.series.Series'>\n",
      "Index: 83240 entries, 0 to 99999\n",
      "Series name: Amount_invested_monthly\n",
      "Non-Null Count  Dtype  \n",
      "--------------  -----  \n",
      "83240 non-null  float64\n",
      "dtypes: float64(1)\n",
      "memory usage: 1.3 MB\n"
     ]
    }
   ],
   "source": [
    "data['Amount_invested_monthly'] = data['Amount_invested_monthly'].mask(data['Amount_invested_monthly'].isnull()).groupby(data['Customer_ID']).transform('first')\n",
    "data['Amount_invested_monthly'].info() # Confirming empty values were replaced"
   ]
  },
  {
   "cell_type": "markdown",
   "id": "430f171b-4bb7-4b41-8d5b-4427f5f888ce",
   "metadata": {},
   "source": [
    "### **Validating if there are invalid values for Payment_Behaviour (alphabet characters combined with '_' expected)**"
   ]
  },
  {
   "cell_type": "code",
   "execution_count": 46,
   "id": "ec9008d8-2802-44df-8ab8-e434cedb9b15",
   "metadata": {},
   "outputs": [
    {
     "data": {
      "text/plain": [
       "5        !@9#%8\n",
       "16       !@9#%8\n",
       "54       !@9#%8\n",
       "61       !@9#%8\n",
       "67       !@9#%8\n",
       "          ...  \n",
       "99947    !@9#%8\n",
       "99980    !@9#%8\n",
       "99982    !@9#%8\n",
       "99989    !@9#%8\n",
       "99999    !@9#%8\n",
       "Name: Payment_Behaviour, Length: 6276, dtype: object"
      ]
     },
     "execution_count": 46,
     "metadata": {},
     "output_type": "execute_result"
    }
   ],
   "source": [
    "data['Payment_Behaviour'][data['Payment_Behaviour'].str.match('[^A-Za-z_]')]"
   ]
  },
  {
   "cell_type": "markdown",
   "id": "f37a903f-6e8f-4c9e-8fa5-24a638b53d2d",
   "metadata": {},
   "source": [
    "### **Replacing invalid values of Payment_Behaviour previously detected with the first valid one per each Customer_ID, if any**"
   ]
  },
  {
   "cell_type": "code",
   "execution_count": 47,
   "id": "6065e4e5-3f0c-42f4-93aa-bd8226b73516",
   "metadata": {},
   "outputs": [
    {
     "data": {
      "text/plain": [
       "Series([], Name: Payment_Behaviour, dtype: object)"
      ]
     },
     "execution_count": 47,
     "metadata": {},
     "output_type": "execute_result"
    }
   ],
   "source": [
    "data['Payment_Behaviour'] = data['Payment_Behaviour'].mask(data['Payment_Behaviour'].str.match('[^A-Za-z_]')).groupby(data['Customer_ID']).transform('first')\n",
    "data['Payment_Behaviour'][data['Payment_Behaviour'].str.match('[^A-Za-z_]')] # Confirming empty values were replaced"
   ]
  },
  {
   "cell_type": "code",
   "execution_count": 48,
   "id": "baa2dbdc-b884-480c-aaa7-6f0ef794f28a",
   "metadata": {},
   "outputs": [
    {
     "name": "stdout",
     "output_type": "stream",
     "text": [
      "<class 'pandas.core.series.Series'>\n",
      "Index: 83240 entries, 0 to 99999\n",
      "Series name: Payment_Behaviour\n",
      "Non-Null Count  Dtype \n",
      "--------------  ----- \n",
      "83240 non-null  object\n",
      "dtypes: object(1)\n",
      "memory usage: 1.3+ MB\n"
     ]
    }
   ],
   "source": [
    "data['Payment_Behaviour'].info() # Making sure there are no remaining gaps"
   ]
  },
  {
   "cell_type": "markdown",
   "id": "d2b49a22-2f62-4365-919e-806235d1eebf",
   "metadata": {},
   "source": [
    "### **Replacing Monthly_Balance's NaN values (using mask to target them) using the first valid value per each Customer_ID (if any)**"
   ]
  },
  {
   "cell_type": "code",
   "execution_count": 49,
   "id": "ceddcc9f-8db9-4503-a63b-1eb66dd0fac0",
   "metadata": {},
   "outputs": [
    {
     "name": "stdout",
     "output_type": "stream",
     "text": [
      "<class 'pandas.core.series.Series'>\n",
      "Index: 83240 entries, 0 to 99999\n",
      "Series name: Monthly_Balance\n",
      "Non-Null Count  Dtype \n",
      "--------------  ----- \n",
      "83240 non-null  object\n",
      "dtypes: object(1)\n",
      "memory usage: 1.3+ MB\n"
     ]
    }
   ],
   "source": [
    "data['Monthly_Balance'] = data['Monthly_Balance'].mask(data['Monthly_Balance'].isnull()).groupby(data['Customer_ID']).transform('first')\n",
    "data['Monthly_Balance'].info() # Confirming if values were replace and if there are remaiing null values"
   ]
  },
  {
   "cell_type": "code",
   "execution_count": 50,
   "id": "6cd87c68-be3f-42ff-b7bd-0dd5d85378a7",
   "metadata": {},
   "outputs": [],
   "source": [
    "data['Monthly_Balance'] = data['Monthly_Balance'].apply(pd.to_numeric) # Converting to numeric after validating not having null values"
   ]
  },
  {
   "cell_type": "markdown",
   "id": "a9a1c145-1261-4a98-a0c8-b1b60de077bc",
   "metadata": {},
   "source": [
    "### **Removing:**\n",
    "* **Duplicates if any considering all the rows**\n",
    "* **Irrelevant features for the business case (columns = 'ID','Customer_ID','Month','Name','SSN'), considering the data cleaning process was done some of these could not be dropped before**"
   ]
  },
  {
   "cell_type": "code",
   "execution_count": 51,
   "id": "b4a44332-a33a-43d2-8121-e589e6fc5190",
   "metadata": {},
   "outputs": [
    {
     "data": {
      "text/html": [
       "<div>\n",
       "<style scoped>\n",
       "    .dataframe tbody tr th:only-of-type {\n",
       "        vertical-align: middle;\n",
       "    }\n",
       "\n",
       "    .dataframe tbody tr th {\n",
       "        vertical-align: top;\n",
       "    }\n",
       "\n",
       "    .dataframe thead th {\n",
       "        text-align: right;\n",
       "    }\n",
       "</style>\n",
       "<table border=\"1\" class=\"dataframe\">\n",
       "  <thead>\n",
       "    <tr style=\"text-align: right;\">\n",
       "      <th></th>\n",
       "      <th>ID</th>\n",
       "      <th>Customer_ID</th>\n",
       "      <th>Month</th>\n",
       "      <th>Name</th>\n",
       "      <th>Age</th>\n",
       "      <th>SSN</th>\n",
       "      <th>Occupation</th>\n",
       "      <th>Annual_Income</th>\n",
       "      <th>Monthly_Inhand_Salary</th>\n",
       "      <th>Num_Bank_Accounts</th>\n",
       "      <th>...</th>\n",
       "      <th>Credit_Mix</th>\n",
       "      <th>Outstanding_Debt</th>\n",
       "      <th>Credit_Utilization_Ratio</th>\n",
       "      <th>Credit_History_Age</th>\n",
       "      <th>Payment_of_Min_Amount</th>\n",
       "      <th>Total_EMI_per_month</th>\n",
       "      <th>Amount_invested_monthly</th>\n",
       "      <th>Payment_Behaviour</th>\n",
       "      <th>Monthly_Balance</th>\n",
       "      <th>Credit_Score</th>\n",
       "    </tr>\n",
       "  </thead>\n",
       "  <tbody>\n",
       "    <tr>\n",
       "      <th>0</th>\n",
       "      <td>0x1602</td>\n",
       "      <td>CUS_0xd40</td>\n",
       "      <td>January</td>\n",
       "      <td>Aaron Maashoh</td>\n",
       "      <td>23.0</td>\n",
       "      <td>821-00-0265</td>\n",
       "      <td>Scientist</td>\n",
       "      <td>19114.12</td>\n",
       "      <td>1824.843333</td>\n",
       "      <td>3.0</td>\n",
       "      <td>...</td>\n",
       "      <td>Good</td>\n",
       "      <td>809.98</td>\n",
       "      <td>26.822620</td>\n",
       "      <td>22 Years and 1 Months</td>\n",
       "      <td>No</td>\n",
       "      <td>49.574949</td>\n",
       "      <td>80.415295</td>\n",
       "      <td>High_spent_Small_value_payments</td>\n",
       "      <td>312.494089</td>\n",
       "      <td>Good</td>\n",
       "    </tr>\n",
       "    <tr>\n",
       "      <th>1</th>\n",
       "      <td>0x1603</td>\n",
       "      <td>CUS_0xd40</td>\n",
       "      <td>February</td>\n",
       "      <td>Aaron Maashoh</td>\n",
       "      <td>23.0</td>\n",
       "      <td>821-00-0265</td>\n",
       "      <td>Scientist</td>\n",
       "      <td>19114.12</td>\n",
       "      <td>1824.843333</td>\n",
       "      <td>3.0</td>\n",
       "      <td>...</td>\n",
       "      <td>Good</td>\n",
       "      <td>809.98</td>\n",
       "      <td>31.944960</td>\n",
       "      <td>22 Years and 1 Months</td>\n",
       "      <td>No</td>\n",
       "      <td>49.574949</td>\n",
       "      <td>80.415295</td>\n",
       "      <td>High_spent_Small_value_payments</td>\n",
       "      <td>312.494089</td>\n",
       "      <td>Good</td>\n",
       "    </tr>\n",
       "    <tr>\n",
       "      <th>2</th>\n",
       "      <td>0x1604</td>\n",
       "      <td>CUS_0xd40</td>\n",
       "      <td>March</td>\n",
       "      <td>Aaron Maashoh</td>\n",
       "      <td>23.0</td>\n",
       "      <td>821-00-0265</td>\n",
       "      <td>Scientist</td>\n",
       "      <td>19114.12</td>\n",
       "      <td>1824.843333</td>\n",
       "      <td>3.0</td>\n",
       "      <td>...</td>\n",
       "      <td>Good</td>\n",
       "      <td>809.98</td>\n",
       "      <td>28.609352</td>\n",
       "      <td>22 Years and 1 Months</td>\n",
       "      <td>No</td>\n",
       "      <td>49.574949</td>\n",
       "      <td>80.415295</td>\n",
       "      <td>High_spent_Small_value_payments</td>\n",
       "      <td>312.494089</td>\n",
       "      <td>Good</td>\n",
       "    </tr>\n",
       "    <tr>\n",
       "      <th>3</th>\n",
       "      <td>0x1605</td>\n",
       "      <td>CUS_0xd40</td>\n",
       "      <td>April</td>\n",
       "      <td>Aaron Maashoh</td>\n",
       "      <td>23.0</td>\n",
       "      <td>821-00-0265</td>\n",
       "      <td>Scientist</td>\n",
       "      <td>19114.12</td>\n",
       "      <td>1824.843333</td>\n",
       "      <td>3.0</td>\n",
       "      <td>...</td>\n",
       "      <td>Good</td>\n",
       "      <td>809.98</td>\n",
       "      <td>31.377862</td>\n",
       "      <td>22 Years and 1 Months</td>\n",
       "      <td>No</td>\n",
       "      <td>49.574949</td>\n",
       "      <td>80.415295</td>\n",
       "      <td>High_spent_Small_value_payments</td>\n",
       "      <td>312.494089</td>\n",
       "      <td>Good</td>\n",
       "    </tr>\n",
       "    <tr>\n",
       "      <th>4</th>\n",
       "      <td>0x1606</td>\n",
       "      <td>CUS_0xd40</td>\n",
       "      <td>May</td>\n",
       "      <td>Aaron Maashoh</td>\n",
       "      <td>23.0</td>\n",
       "      <td>821-00-0265</td>\n",
       "      <td>Scientist</td>\n",
       "      <td>19114.12</td>\n",
       "      <td>1824.843333</td>\n",
       "      <td>3.0</td>\n",
       "      <td>...</td>\n",
       "      <td>Good</td>\n",
       "      <td>809.98</td>\n",
       "      <td>24.797347</td>\n",
       "      <td>22 Years and 1 Months</td>\n",
       "      <td>No</td>\n",
       "      <td>49.574949</td>\n",
       "      <td>80.415295</td>\n",
       "      <td>High_spent_Small_value_payments</td>\n",
       "      <td>312.494089</td>\n",
       "      <td>Good</td>\n",
       "    </tr>\n",
       "    <tr>\n",
       "      <th>...</th>\n",
       "      <td>...</td>\n",
       "      <td>...</td>\n",
       "      <td>...</td>\n",
       "      <td>...</td>\n",
       "      <td>...</td>\n",
       "      <td>...</td>\n",
       "      <td>...</td>\n",
       "      <td>...</td>\n",
       "      <td>...</td>\n",
       "      <td>...</td>\n",
       "      <td>...</td>\n",
       "      <td>...</td>\n",
       "      <td>...</td>\n",
       "      <td>...</td>\n",
       "      <td>...</td>\n",
       "      <td>...</td>\n",
       "      <td>...</td>\n",
       "      <td>...</td>\n",
       "      <td>...</td>\n",
       "      <td>...</td>\n",
       "      <td>...</td>\n",
       "    </tr>\n",
       "    <tr>\n",
       "      <th>99995</th>\n",
       "      <td>0x25fe9</td>\n",
       "      <td>CUS_0x942c</td>\n",
       "      <td>April</td>\n",
       "      <td>Nicks</td>\n",
       "      <td>24.0</td>\n",
       "      <td>078-73-5990</td>\n",
       "      <td>Mechanic</td>\n",
       "      <td>39628.99</td>\n",
       "      <td>3359.415833</td>\n",
       "      <td>4.0</td>\n",
       "      <td>...</td>\n",
       "      <td>Good</td>\n",
       "      <td>502.38</td>\n",
       "      <td>34.663572</td>\n",
       "      <td>31 Years and 3 Months</td>\n",
       "      <td>No</td>\n",
       "      <td>35.104023</td>\n",
       "      <td>401.196481</td>\n",
       "      <td>Low_spent_Small_value_payments</td>\n",
       "      <td>189.641080</td>\n",
       "      <td>Poor</td>\n",
       "    </tr>\n",
       "    <tr>\n",
       "      <th>99996</th>\n",
       "      <td>0x25fea</td>\n",
       "      <td>CUS_0x942c</td>\n",
       "      <td>May</td>\n",
       "      <td>Nicks</td>\n",
       "      <td>24.0</td>\n",
       "      <td>078-73-5990</td>\n",
       "      <td>Mechanic</td>\n",
       "      <td>39628.99</td>\n",
       "      <td>3359.415833</td>\n",
       "      <td>4.0</td>\n",
       "      <td>...</td>\n",
       "      <td>Good</td>\n",
       "      <td>502.38</td>\n",
       "      <td>40.565631</td>\n",
       "      <td>31 Years and 3 Months</td>\n",
       "      <td>No</td>\n",
       "      <td>35.104023</td>\n",
       "      <td>401.196481</td>\n",
       "      <td>Low_spent_Small_value_payments</td>\n",
       "      <td>189.641080</td>\n",
       "      <td>Poor</td>\n",
       "    </tr>\n",
       "    <tr>\n",
       "      <th>99997</th>\n",
       "      <td>0x25feb</td>\n",
       "      <td>CUS_0x942c</td>\n",
       "      <td>June</td>\n",
       "      <td>Nicks</td>\n",
       "      <td>24.0</td>\n",
       "      <td>078-73-5990</td>\n",
       "      <td>Mechanic</td>\n",
       "      <td>39628.99</td>\n",
       "      <td>3359.415833</td>\n",
       "      <td>4.0</td>\n",
       "      <td>...</td>\n",
       "      <td>Good</td>\n",
       "      <td>502.38</td>\n",
       "      <td>41.255522</td>\n",
       "      <td>31 Years and 3 Months</td>\n",
       "      <td>No</td>\n",
       "      <td>35.104023</td>\n",
       "      <td>401.196481</td>\n",
       "      <td>Low_spent_Small_value_payments</td>\n",
       "      <td>189.641080</td>\n",
       "      <td>Poor</td>\n",
       "    </tr>\n",
       "    <tr>\n",
       "      <th>99998</th>\n",
       "      <td>0x25fec</td>\n",
       "      <td>CUS_0x942c</td>\n",
       "      <td>July</td>\n",
       "      <td>Nicks</td>\n",
       "      <td>24.0</td>\n",
       "      <td>078-73-5990</td>\n",
       "      <td>Mechanic</td>\n",
       "      <td>39628.99</td>\n",
       "      <td>3359.415833</td>\n",
       "      <td>4.0</td>\n",
       "      <td>...</td>\n",
       "      <td>Good</td>\n",
       "      <td>502.38</td>\n",
       "      <td>33.638208</td>\n",
       "      <td>31 Years and 3 Months</td>\n",
       "      <td>No</td>\n",
       "      <td>35.104023</td>\n",
       "      <td>401.196481</td>\n",
       "      <td>Low_spent_Small_value_payments</td>\n",
       "      <td>189.641080</td>\n",
       "      <td>Standard</td>\n",
       "    </tr>\n",
       "    <tr>\n",
       "      <th>99999</th>\n",
       "      <td>0x25fed</td>\n",
       "      <td>CUS_0x942c</td>\n",
       "      <td>August</td>\n",
       "      <td>Nicks</td>\n",
       "      <td>24.0</td>\n",
       "      <td>078-73-5990</td>\n",
       "      <td>Mechanic</td>\n",
       "      <td>39628.99</td>\n",
       "      <td>3359.415833</td>\n",
       "      <td>4.0</td>\n",
       "      <td>...</td>\n",
       "      <td>Good</td>\n",
       "      <td>502.38</td>\n",
       "      <td>34.192463</td>\n",
       "      <td>31 Years and 3 Months</td>\n",
       "      <td>No</td>\n",
       "      <td>35.104023</td>\n",
       "      <td>401.196481</td>\n",
       "      <td>Low_spent_Small_value_payments</td>\n",
       "      <td>189.641080</td>\n",
       "      <td>Poor</td>\n",
       "    </tr>\n",
       "  </tbody>\n",
       "</table>\n",
       "<p>83240 rows × 28 columns</p>\n",
       "</div>"
      ],
      "text/plain": [
       "            ID Customer_ID     Month           Name   Age          SSN  \\\n",
       "0       0x1602   CUS_0xd40   January  Aaron Maashoh  23.0  821-00-0265   \n",
       "1       0x1603   CUS_0xd40  February  Aaron Maashoh  23.0  821-00-0265   \n",
       "2       0x1604   CUS_0xd40     March  Aaron Maashoh  23.0  821-00-0265   \n",
       "3       0x1605   CUS_0xd40     April  Aaron Maashoh  23.0  821-00-0265   \n",
       "4       0x1606   CUS_0xd40       May  Aaron Maashoh  23.0  821-00-0265   \n",
       "...        ...         ...       ...            ...   ...          ...   \n",
       "99995  0x25fe9  CUS_0x942c     April          Nicks  24.0  078-73-5990   \n",
       "99996  0x25fea  CUS_0x942c       May          Nicks  24.0  078-73-5990   \n",
       "99997  0x25feb  CUS_0x942c      June          Nicks  24.0  078-73-5990   \n",
       "99998  0x25fec  CUS_0x942c      July          Nicks  24.0  078-73-5990   \n",
       "99999  0x25fed  CUS_0x942c    August          Nicks  24.0  078-73-5990   \n",
       "\n",
       "      Occupation  Annual_Income  Monthly_Inhand_Salary  Num_Bank_Accounts  \\\n",
       "0      Scientist       19114.12            1824.843333                3.0   \n",
       "1      Scientist       19114.12            1824.843333                3.0   \n",
       "2      Scientist       19114.12            1824.843333                3.0   \n",
       "3      Scientist       19114.12            1824.843333                3.0   \n",
       "4      Scientist       19114.12            1824.843333                3.0   \n",
       "...          ...            ...                    ...                ...   \n",
       "99995   Mechanic       39628.99            3359.415833                4.0   \n",
       "99996   Mechanic       39628.99            3359.415833                4.0   \n",
       "99997   Mechanic       39628.99            3359.415833                4.0   \n",
       "99998   Mechanic       39628.99            3359.415833                4.0   \n",
       "99999   Mechanic       39628.99            3359.415833                4.0   \n",
       "\n",
       "       ...  Credit_Mix  Outstanding_Debt  Credit_Utilization_Ratio  \\\n",
       "0      ...        Good            809.98                 26.822620   \n",
       "1      ...        Good            809.98                 31.944960   \n",
       "2      ...        Good            809.98                 28.609352   \n",
       "3      ...        Good            809.98                 31.377862   \n",
       "4      ...        Good            809.98                 24.797347   \n",
       "...    ...         ...               ...                       ...   \n",
       "99995  ...        Good            502.38                 34.663572   \n",
       "99996  ...        Good            502.38                 40.565631   \n",
       "99997  ...        Good            502.38                 41.255522   \n",
       "99998  ...        Good            502.38                 33.638208   \n",
       "99999  ...        Good            502.38                 34.192463   \n",
       "\n",
       "          Credit_History_Age  Payment_of_Min_Amount  Total_EMI_per_month  \\\n",
       "0      22 Years and 1 Months                     No            49.574949   \n",
       "1      22 Years and 1 Months                     No            49.574949   \n",
       "2      22 Years and 1 Months                     No            49.574949   \n",
       "3      22 Years and 1 Months                     No            49.574949   \n",
       "4      22 Years and 1 Months                     No            49.574949   \n",
       "...                      ...                    ...                  ...   \n",
       "99995  31 Years and 3 Months                     No            35.104023   \n",
       "99996  31 Years and 3 Months                     No            35.104023   \n",
       "99997  31 Years and 3 Months                     No            35.104023   \n",
       "99998  31 Years and 3 Months                     No            35.104023   \n",
       "99999  31 Years and 3 Months                     No            35.104023   \n",
       "\n",
       "       Amount_invested_monthly                Payment_Behaviour  \\\n",
       "0                    80.415295  High_spent_Small_value_payments   \n",
       "1                    80.415295  High_spent_Small_value_payments   \n",
       "2                    80.415295  High_spent_Small_value_payments   \n",
       "3                    80.415295  High_spent_Small_value_payments   \n",
       "4                    80.415295  High_spent_Small_value_payments   \n",
       "...                        ...                              ...   \n",
       "99995               401.196481   Low_spent_Small_value_payments   \n",
       "99996               401.196481   Low_spent_Small_value_payments   \n",
       "99997               401.196481   Low_spent_Small_value_payments   \n",
       "99998               401.196481   Low_spent_Small_value_payments   \n",
       "99999               401.196481   Low_spent_Small_value_payments   \n",
       "\n",
       "      Monthly_Balance  Credit_Score  \n",
       "0          312.494089          Good  \n",
       "1          312.494089          Good  \n",
       "2          312.494089          Good  \n",
       "3          312.494089          Good  \n",
       "4          312.494089          Good  \n",
       "...               ...           ...  \n",
       "99995      189.641080          Poor  \n",
       "99996      189.641080          Poor  \n",
       "99997      189.641080          Poor  \n",
       "99998      189.641080      Standard  \n",
       "99999      189.641080          Poor  \n",
       "\n",
       "[83240 rows x 28 columns]"
      ]
     },
     "execution_count": 51,
     "metadata": {},
     "output_type": "execute_result"
    }
   ],
   "source": [
    "data.drop_duplicates()\n",
    "data"
   ]
  },
  {
   "cell_type": "code",
   "execution_count": 52,
   "id": "4c7f4b81-01bb-47d0-b0c8-1353a432f5f7",
   "metadata": {},
   "outputs": [
    {
     "data": {
      "text/html": [
       "<div>\n",
       "<style scoped>\n",
       "    .dataframe tbody tr th:only-of-type {\n",
       "        vertical-align: middle;\n",
       "    }\n",
       "\n",
       "    .dataframe tbody tr th {\n",
       "        vertical-align: top;\n",
       "    }\n",
       "\n",
       "    .dataframe thead th {\n",
       "        text-align: right;\n",
       "    }\n",
       "</style>\n",
       "<table border=\"1\" class=\"dataframe\">\n",
       "  <thead>\n",
       "    <tr style=\"text-align: right;\">\n",
       "      <th></th>\n",
       "      <th>Age</th>\n",
       "      <th>Occupation</th>\n",
       "      <th>Annual_Income</th>\n",
       "      <th>Monthly_Inhand_Salary</th>\n",
       "      <th>Num_Bank_Accounts</th>\n",
       "      <th>Num_Credit_Card</th>\n",
       "      <th>Interest_Rate</th>\n",
       "      <th>Num_of_Loan</th>\n",
       "      <th>Type_of_Loan</th>\n",
       "      <th>Delay_from_due_date</th>\n",
       "      <th>...</th>\n",
       "      <th>Credit_Mix</th>\n",
       "      <th>Outstanding_Debt</th>\n",
       "      <th>Credit_Utilization_Ratio</th>\n",
       "      <th>Credit_History_Age</th>\n",
       "      <th>Payment_of_Min_Amount</th>\n",
       "      <th>Total_EMI_per_month</th>\n",
       "      <th>Amount_invested_monthly</th>\n",
       "      <th>Payment_Behaviour</th>\n",
       "      <th>Monthly_Balance</th>\n",
       "      <th>Credit_Score</th>\n",
       "    </tr>\n",
       "  </thead>\n",
       "  <tbody>\n",
       "    <tr>\n",
       "      <th>0</th>\n",
       "      <td>23.0</td>\n",
       "      <td>Scientist</td>\n",
       "      <td>19114.12</td>\n",
       "      <td>1824.843333</td>\n",
       "      <td>3.0</td>\n",
       "      <td>4</td>\n",
       "      <td>0.03</td>\n",
       "      <td>4.0</td>\n",
       "      <td>Auto Loan, Credit-Builder Loan, Personal Loan,...</td>\n",
       "      <td>3.0</td>\n",
       "      <td>...</td>\n",
       "      <td>Good</td>\n",
       "      <td>809.98</td>\n",
       "      <td>26.822620</td>\n",
       "      <td>22 Years and 1 Months</td>\n",
       "      <td>No</td>\n",
       "      <td>49.574949</td>\n",
       "      <td>80.415295</td>\n",
       "      <td>High_spent_Small_value_payments</td>\n",
       "      <td>312.494089</td>\n",
       "      <td>Good</td>\n",
       "    </tr>\n",
       "    <tr>\n",
       "      <th>1</th>\n",
       "      <td>23.0</td>\n",
       "      <td>Scientist</td>\n",
       "      <td>19114.12</td>\n",
       "      <td>1824.843333</td>\n",
       "      <td>3.0</td>\n",
       "      <td>4</td>\n",
       "      <td>0.03</td>\n",
       "      <td>4.0</td>\n",
       "      <td>Auto Loan, Credit-Builder Loan, Personal Loan,...</td>\n",
       "      <td>3.0</td>\n",
       "      <td>...</td>\n",
       "      <td>Good</td>\n",
       "      <td>809.98</td>\n",
       "      <td>31.944960</td>\n",
       "      <td>22 Years and 1 Months</td>\n",
       "      <td>No</td>\n",
       "      <td>49.574949</td>\n",
       "      <td>80.415295</td>\n",
       "      <td>High_spent_Small_value_payments</td>\n",
       "      <td>312.494089</td>\n",
       "      <td>Good</td>\n",
       "    </tr>\n",
       "    <tr>\n",
       "      <th>2</th>\n",
       "      <td>23.0</td>\n",
       "      <td>Scientist</td>\n",
       "      <td>19114.12</td>\n",
       "      <td>1824.843333</td>\n",
       "      <td>3.0</td>\n",
       "      <td>4</td>\n",
       "      <td>0.03</td>\n",
       "      <td>4.0</td>\n",
       "      <td>Auto Loan, Credit-Builder Loan, Personal Loan,...</td>\n",
       "      <td>3.0</td>\n",
       "      <td>...</td>\n",
       "      <td>Good</td>\n",
       "      <td>809.98</td>\n",
       "      <td>28.609352</td>\n",
       "      <td>22 Years and 1 Months</td>\n",
       "      <td>No</td>\n",
       "      <td>49.574949</td>\n",
       "      <td>80.415295</td>\n",
       "      <td>High_spent_Small_value_payments</td>\n",
       "      <td>312.494089</td>\n",
       "      <td>Good</td>\n",
       "    </tr>\n",
       "    <tr>\n",
       "      <th>3</th>\n",
       "      <td>23.0</td>\n",
       "      <td>Scientist</td>\n",
       "      <td>19114.12</td>\n",
       "      <td>1824.843333</td>\n",
       "      <td>3.0</td>\n",
       "      <td>4</td>\n",
       "      <td>0.03</td>\n",
       "      <td>4.0</td>\n",
       "      <td>Auto Loan, Credit-Builder Loan, Personal Loan,...</td>\n",
       "      <td>3.0</td>\n",
       "      <td>...</td>\n",
       "      <td>Good</td>\n",
       "      <td>809.98</td>\n",
       "      <td>31.377862</td>\n",
       "      <td>22 Years and 1 Months</td>\n",
       "      <td>No</td>\n",
       "      <td>49.574949</td>\n",
       "      <td>80.415295</td>\n",
       "      <td>High_spent_Small_value_payments</td>\n",
       "      <td>312.494089</td>\n",
       "      <td>Good</td>\n",
       "    </tr>\n",
       "    <tr>\n",
       "      <th>4</th>\n",
       "      <td>23.0</td>\n",
       "      <td>Scientist</td>\n",
       "      <td>19114.12</td>\n",
       "      <td>1824.843333</td>\n",
       "      <td>3.0</td>\n",
       "      <td>4</td>\n",
       "      <td>0.03</td>\n",
       "      <td>4.0</td>\n",
       "      <td>Auto Loan, Credit-Builder Loan, Personal Loan,...</td>\n",
       "      <td>3.0</td>\n",
       "      <td>...</td>\n",
       "      <td>Good</td>\n",
       "      <td>809.98</td>\n",
       "      <td>24.797347</td>\n",
       "      <td>22 Years and 1 Months</td>\n",
       "      <td>No</td>\n",
       "      <td>49.574949</td>\n",
       "      <td>80.415295</td>\n",
       "      <td>High_spent_Small_value_payments</td>\n",
       "      <td>312.494089</td>\n",
       "      <td>Good</td>\n",
       "    </tr>\n",
       "    <tr>\n",
       "      <th>...</th>\n",
       "      <td>...</td>\n",
       "      <td>...</td>\n",
       "      <td>...</td>\n",
       "      <td>...</td>\n",
       "      <td>...</td>\n",
       "      <td>...</td>\n",
       "      <td>...</td>\n",
       "      <td>...</td>\n",
       "      <td>...</td>\n",
       "      <td>...</td>\n",
       "      <td>...</td>\n",
       "      <td>...</td>\n",
       "      <td>...</td>\n",
       "      <td>...</td>\n",
       "      <td>...</td>\n",
       "      <td>...</td>\n",
       "      <td>...</td>\n",
       "      <td>...</td>\n",
       "      <td>...</td>\n",
       "      <td>...</td>\n",
       "      <td>...</td>\n",
       "    </tr>\n",
       "    <tr>\n",
       "      <th>99995</th>\n",
       "      <td>24.0</td>\n",
       "      <td>Mechanic</td>\n",
       "      <td>39628.99</td>\n",
       "      <td>3359.415833</td>\n",
       "      <td>4.0</td>\n",
       "      <td>6</td>\n",
       "      <td>0.07</td>\n",
       "      <td>2.0</td>\n",
       "      <td>Auto Loan, and Student Loan</td>\n",
       "      <td>23.0</td>\n",
       "      <td>...</td>\n",
       "      <td>Good</td>\n",
       "      <td>502.38</td>\n",
       "      <td>34.663572</td>\n",
       "      <td>31 Years and 3 Months</td>\n",
       "      <td>No</td>\n",
       "      <td>35.104023</td>\n",
       "      <td>401.196481</td>\n",
       "      <td>Low_spent_Small_value_payments</td>\n",
       "      <td>189.641080</td>\n",
       "      <td>Poor</td>\n",
       "    </tr>\n",
       "    <tr>\n",
       "      <th>99996</th>\n",
       "      <td>24.0</td>\n",
       "      <td>Mechanic</td>\n",
       "      <td>39628.99</td>\n",
       "      <td>3359.415833</td>\n",
       "      <td>4.0</td>\n",
       "      <td>6</td>\n",
       "      <td>0.07</td>\n",
       "      <td>2.0</td>\n",
       "      <td>Auto Loan, and Student Loan</td>\n",
       "      <td>23.0</td>\n",
       "      <td>...</td>\n",
       "      <td>Good</td>\n",
       "      <td>502.38</td>\n",
       "      <td>40.565631</td>\n",
       "      <td>31 Years and 3 Months</td>\n",
       "      <td>No</td>\n",
       "      <td>35.104023</td>\n",
       "      <td>401.196481</td>\n",
       "      <td>Low_spent_Small_value_payments</td>\n",
       "      <td>189.641080</td>\n",
       "      <td>Poor</td>\n",
       "    </tr>\n",
       "    <tr>\n",
       "      <th>99997</th>\n",
       "      <td>24.0</td>\n",
       "      <td>Mechanic</td>\n",
       "      <td>39628.99</td>\n",
       "      <td>3359.415833</td>\n",
       "      <td>4.0</td>\n",
       "      <td>6</td>\n",
       "      <td>0.07</td>\n",
       "      <td>2.0</td>\n",
       "      <td>Auto Loan, and Student Loan</td>\n",
       "      <td>23.0</td>\n",
       "      <td>...</td>\n",
       "      <td>Good</td>\n",
       "      <td>502.38</td>\n",
       "      <td>41.255522</td>\n",
       "      <td>31 Years and 3 Months</td>\n",
       "      <td>No</td>\n",
       "      <td>35.104023</td>\n",
       "      <td>401.196481</td>\n",
       "      <td>Low_spent_Small_value_payments</td>\n",
       "      <td>189.641080</td>\n",
       "      <td>Poor</td>\n",
       "    </tr>\n",
       "    <tr>\n",
       "      <th>99998</th>\n",
       "      <td>24.0</td>\n",
       "      <td>Mechanic</td>\n",
       "      <td>39628.99</td>\n",
       "      <td>3359.415833</td>\n",
       "      <td>4.0</td>\n",
       "      <td>6</td>\n",
       "      <td>0.07</td>\n",
       "      <td>2.0</td>\n",
       "      <td>Auto Loan, and Student Loan</td>\n",
       "      <td>23.0</td>\n",
       "      <td>...</td>\n",
       "      <td>Good</td>\n",
       "      <td>502.38</td>\n",
       "      <td>33.638208</td>\n",
       "      <td>31 Years and 3 Months</td>\n",
       "      <td>No</td>\n",
       "      <td>35.104023</td>\n",
       "      <td>401.196481</td>\n",
       "      <td>Low_spent_Small_value_payments</td>\n",
       "      <td>189.641080</td>\n",
       "      <td>Standard</td>\n",
       "    </tr>\n",
       "    <tr>\n",
       "      <th>99999</th>\n",
       "      <td>24.0</td>\n",
       "      <td>Mechanic</td>\n",
       "      <td>39628.99</td>\n",
       "      <td>3359.415833</td>\n",
       "      <td>4.0</td>\n",
       "      <td>6</td>\n",
       "      <td>0.07</td>\n",
       "      <td>2.0</td>\n",
       "      <td>Auto Loan, and Student Loan</td>\n",
       "      <td>23.0</td>\n",
       "      <td>...</td>\n",
       "      <td>Good</td>\n",
       "      <td>502.38</td>\n",
       "      <td>34.192463</td>\n",
       "      <td>31 Years and 3 Months</td>\n",
       "      <td>No</td>\n",
       "      <td>35.104023</td>\n",
       "      <td>401.196481</td>\n",
       "      <td>Low_spent_Small_value_payments</td>\n",
       "      <td>189.641080</td>\n",
       "      <td>Poor</td>\n",
       "    </tr>\n",
       "  </tbody>\n",
       "</table>\n",
       "<p>83240 rows × 23 columns</p>\n",
       "</div>"
      ],
      "text/plain": [
       "        Age Occupation  Annual_Income  Monthly_Inhand_Salary  \\\n",
       "0      23.0  Scientist       19114.12            1824.843333   \n",
       "1      23.0  Scientist       19114.12            1824.843333   \n",
       "2      23.0  Scientist       19114.12            1824.843333   \n",
       "3      23.0  Scientist       19114.12            1824.843333   \n",
       "4      23.0  Scientist       19114.12            1824.843333   \n",
       "...     ...        ...            ...                    ...   \n",
       "99995  24.0   Mechanic       39628.99            3359.415833   \n",
       "99996  24.0   Mechanic       39628.99            3359.415833   \n",
       "99997  24.0   Mechanic       39628.99            3359.415833   \n",
       "99998  24.0   Mechanic       39628.99            3359.415833   \n",
       "99999  24.0   Mechanic       39628.99            3359.415833   \n",
       "\n",
       "       Num_Bank_Accounts  Num_Credit_Card  Interest_Rate  Num_of_Loan  \\\n",
       "0                    3.0                4           0.03          4.0   \n",
       "1                    3.0                4           0.03          4.0   \n",
       "2                    3.0                4           0.03          4.0   \n",
       "3                    3.0                4           0.03          4.0   \n",
       "4                    3.0                4           0.03          4.0   \n",
       "...                  ...              ...            ...          ...   \n",
       "99995                4.0                6           0.07          2.0   \n",
       "99996                4.0                6           0.07          2.0   \n",
       "99997                4.0                6           0.07          2.0   \n",
       "99998                4.0                6           0.07          2.0   \n",
       "99999                4.0                6           0.07          2.0   \n",
       "\n",
       "                                            Type_of_Loan  Delay_from_due_date  \\\n",
       "0      Auto Loan, Credit-Builder Loan, Personal Loan,...                  3.0   \n",
       "1      Auto Loan, Credit-Builder Loan, Personal Loan,...                  3.0   \n",
       "2      Auto Loan, Credit-Builder Loan, Personal Loan,...                  3.0   \n",
       "3      Auto Loan, Credit-Builder Loan, Personal Loan,...                  3.0   \n",
       "4      Auto Loan, Credit-Builder Loan, Personal Loan,...                  3.0   \n",
       "...                                                  ...                  ...   \n",
       "99995                        Auto Loan, and Student Loan                 23.0   \n",
       "99996                        Auto Loan, and Student Loan                 23.0   \n",
       "99997                        Auto Loan, and Student Loan                 23.0   \n",
       "99998                        Auto Loan, and Student Loan                 23.0   \n",
       "99999                        Auto Loan, and Student Loan                 23.0   \n",
       "\n",
       "       ...  Credit_Mix  Outstanding_Debt  Credit_Utilization_Ratio  \\\n",
       "0      ...        Good            809.98                 26.822620   \n",
       "1      ...        Good            809.98                 31.944960   \n",
       "2      ...        Good            809.98                 28.609352   \n",
       "3      ...        Good            809.98                 31.377862   \n",
       "4      ...        Good            809.98                 24.797347   \n",
       "...    ...         ...               ...                       ...   \n",
       "99995  ...        Good            502.38                 34.663572   \n",
       "99996  ...        Good            502.38                 40.565631   \n",
       "99997  ...        Good            502.38                 41.255522   \n",
       "99998  ...        Good            502.38                 33.638208   \n",
       "99999  ...        Good            502.38                 34.192463   \n",
       "\n",
       "          Credit_History_Age  Payment_of_Min_Amount  Total_EMI_per_month  \\\n",
       "0      22 Years and 1 Months                     No            49.574949   \n",
       "1      22 Years and 1 Months                     No            49.574949   \n",
       "2      22 Years and 1 Months                     No            49.574949   \n",
       "3      22 Years and 1 Months                     No            49.574949   \n",
       "4      22 Years and 1 Months                     No            49.574949   \n",
       "...                      ...                    ...                  ...   \n",
       "99995  31 Years and 3 Months                     No            35.104023   \n",
       "99996  31 Years and 3 Months                     No            35.104023   \n",
       "99997  31 Years and 3 Months                     No            35.104023   \n",
       "99998  31 Years and 3 Months                     No            35.104023   \n",
       "99999  31 Years and 3 Months                     No            35.104023   \n",
       "\n",
       "      Amount_invested_monthly                Payment_Behaviour  \\\n",
       "0                   80.415295  High_spent_Small_value_payments   \n",
       "1                   80.415295  High_spent_Small_value_payments   \n",
       "2                   80.415295  High_spent_Small_value_payments   \n",
       "3                   80.415295  High_spent_Small_value_payments   \n",
       "4                   80.415295  High_spent_Small_value_payments   \n",
       "...                       ...                              ...   \n",
       "99995              401.196481   Low_spent_Small_value_payments   \n",
       "99996              401.196481   Low_spent_Small_value_payments   \n",
       "99997              401.196481   Low_spent_Small_value_payments   \n",
       "99998              401.196481   Low_spent_Small_value_payments   \n",
       "99999              401.196481   Low_spent_Small_value_payments   \n",
       "\n",
       "       Monthly_Balance  Credit_Score  \n",
       "0           312.494089          Good  \n",
       "1           312.494089          Good  \n",
       "2           312.494089          Good  \n",
       "3           312.494089          Good  \n",
       "4           312.494089          Good  \n",
       "...                ...           ...  \n",
       "99995       189.641080          Poor  \n",
       "99996       189.641080          Poor  \n",
       "99997       189.641080          Poor  \n",
       "99998       189.641080      Standard  \n",
       "99999       189.641080          Poor  \n",
       "\n",
       "[83240 rows x 23 columns]"
      ]
     },
     "execution_count": 52,
     "metadata": {},
     "output_type": "execute_result"
    }
   ],
   "source": [
    "data = data.drop(columns = ['ID','Customer_ID','Month','Name','SSN'])\n",
    "data"
   ]
  },
  {
   "cell_type": "markdown",
   "id": "2da71ade-7520-4141-a8f1-5c00e5e25c5b",
   "metadata": {},
   "source": [
    "### **Statistical description using the Pandas function for it**"
   ]
  },
  {
   "cell_type": "code",
   "execution_count": 53,
   "id": "28b5f9b0-a6f7-4804-9ebe-31f3d669432e",
   "metadata": {},
   "outputs": [
    {
     "data": {
      "text/html": [
       "<div>\n",
       "<style scoped>\n",
       "    .dataframe tbody tr th:only-of-type {\n",
       "        vertical-align: middle;\n",
       "    }\n",
       "\n",
       "    .dataframe tbody tr th {\n",
       "        vertical-align: top;\n",
       "    }\n",
       "\n",
       "    .dataframe thead th {\n",
       "        text-align: right;\n",
       "    }\n",
       "</style>\n",
       "<table border=\"1\" class=\"dataframe\">\n",
       "  <thead>\n",
       "    <tr style=\"text-align: right;\">\n",
       "      <th></th>\n",
       "      <th>Age</th>\n",
       "      <th>Annual_Income</th>\n",
       "      <th>Monthly_Inhand_Salary</th>\n",
       "      <th>Num_Bank_Accounts</th>\n",
       "      <th>Num_Credit_Card</th>\n",
       "      <th>Interest_Rate</th>\n",
       "      <th>Num_of_Loan</th>\n",
       "      <th>Delay_from_due_date</th>\n",
       "      <th>Num_of_Delayed_Payment</th>\n",
       "      <th>Changed_Credit_Limit</th>\n",
       "      <th>Num_Credit_Inquiries</th>\n",
       "      <th>Outstanding_Debt</th>\n",
       "      <th>Credit_Utilization_Ratio</th>\n",
       "      <th>Total_EMI_per_month</th>\n",
       "      <th>Amount_invested_monthly</th>\n",
       "      <th>Monthly_Balance</th>\n",
       "    </tr>\n",
       "  </thead>\n",
       "  <tbody>\n",
       "    <tr>\n",
       "      <th>count</th>\n",
       "      <td>83240.000000</td>\n",
       "      <td>8.324000e+04</td>\n",
       "      <td>83240.000000</td>\n",
       "      <td>83240.000000</td>\n",
       "      <td>83240.000000</td>\n",
       "      <td>83240.000000</td>\n",
       "      <td>83240.000000</td>\n",
       "      <td>83240.000000</td>\n",
       "      <td>83240.000000</td>\n",
       "      <td>83240.000000</td>\n",
       "      <td>83240.000000</td>\n",
       "      <td>83240.000000</td>\n",
       "      <td>83240.000000</td>\n",
       "      <td>83240.000000</td>\n",
       "      <td>83240.000000</td>\n",
       "      <td>83240.000000</td>\n",
       "    </tr>\n",
       "    <tr>\n",
       "      <th>mean</th>\n",
       "      <td>33.765209</td>\n",
       "      <td>1.756911e+05</td>\n",
       "      <td>4136.370734</td>\n",
       "      <td>17.445459</td>\n",
       "      <td>22.288251</td>\n",
       "      <td>0.148980</td>\n",
       "      <td>8.138011</td>\n",
       "      <td>21.559154</td>\n",
       "      <td>31.040173</td>\n",
       "      <td>10.591766</td>\n",
       "      <td>25.138972</td>\n",
       "      <td>1472.777492</td>\n",
       "      <td>32.190649</td>\n",
       "      <td>1393.458608</td>\n",
       "      <td>644.305644</td>\n",
       "      <td>390.561747</td>\n",
       "    </tr>\n",
       "    <tr>\n",
       "      <th>std</th>\n",
       "      <td>9.962167</td>\n",
       "      <td>1.437207e+06</td>\n",
       "      <td>3164.496791</td>\n",
       "      <td>119.605070</td>\n",
       "      <td>127.832268</td>\n",
       "      <td>0.088307</td>\n",
       "      <td>63.050564</td>\n",
       "      <td>15.090021</td>\n",
       "      <td>226.248640</td>\n",
       "      <td>6.876736</td>\n",
       "      <td>184.925432</td>\n",
       "      <td>1180.993871</td>\n",
       "      <td>5.081173</td>\n",
       "      <td>8235.849069</td>\n",
       "      <td>2070.546008</td>\n",
       "      <td>204.668357</td>\n",
       "    </tr>\n",
       "    <tr>\n",
       "      <th>min</th>\n",
       "      <td>18.000000</td>\n",
       "      <td>7.006035e+03</td>\n",
       "      <td>303.645417</td>\n",
       "      <td>0.000000</td>\n",
       "      <td>0.000000</td>\n",
       "      <td>0.010000</td>\n",
       "      <td>1.000000</td>\n",
       "      <td>0.000000</td>\n",
       "      <td>0.000000</td>\n",
       "      <td>-6.430000</td>\n",
       "      <td>0.000000</td>\n",
       "      <td>0.230000</td>\n",
       "      <td>20.000000</td>\n",
       "      <td>4.462837</td>\n",
       "      <td>0.000000</td>\n",
       "      <td>0.088628</td>\n",
       "    </tr>\n",
       "    <tr>\n",
       "      <th>25%</th>\n",
       "      <td>25.000000</td>\n",
       "      <td>1.916718e+04</td>\n",
       "      <td>1602.652917</td>\n",
       "      <td>4.000000</td>\n",
       "      <td>4.000000</td>\n",
       "      <td>0.080000</td>\n",
       "      <td>2.000000</td>\n",
       "      <td>10.000000</td>\n",
       "      <td>9.000000</td>\n",
       "      <td>5.500000</td>\n",
       "      <td>2.000000</td>\n",
       "      <td>582.300000</td>\n",
       "      <td>27.983193</td>\n",
       "      <td>41.364409</td>\n",
       "      <td>72.378513</td>\n",
       "      <td>267.291707</td>\n",
       "    </tr>\n",
       "    <tr>\n",
       "      <th>50%</th>\n",
       "      <td>33.000000</td>\n",
       "      <td>3.690131e+04</td>\n",
       "      <td>3050.901667</td>\n",
       "      <td>6.000000</td>\n",
       "      <td>6.000000</td>\n",
       "      <td>0.140000</td>\n",
       "      <td>4.000000</td>\n",
       "      <td>18.000000</td>\n",
       "      <td>14.000000</td>\n",
       "      <td>9.560000</td>\n",
       "      <td>4.000000</td>\n",
       "      <td>1202.400000</td>\n",
       "      <td>32.216868</td>\n",
       "      <td>78.799975</td>\n",
       "      <td>132.662513</td>\n",
       "      <td>328.939676</td>\n",
       "    </tr>\n",
       "    <tr>\n",
       "      <th>75%</th>\n",
       "      <td>41.000000</td>\n",
       "      <td>7.160500e+04</td>\n",
       "      <td>5887.297500</td>\n",
       "      <td>8.000000</td>\n",
       "      <td>7.000000</td>\n",
       "      <td>0.200000</td>\n",
       "      <td>6.000000</td>\n",
       "      <td>28.000000</td>\n",
       "      <td>19.000000</td>\n",
       "      <td>15.210000</td>\n",
       "      <td>8.000000</td>\n",
       "      <td>2063.550000</td>\n",
       "      <td>36.399986</td>\n",
       "      <td>171.806567</td>\n",
       "      <td>260.004198</td>\n",
       "      <td>454.967142</td>\n",
       "    </tr>\n",
       "    <tr>\n",
       "      <th>max</th>\n",
       "      <td>56.000000</td>\n",
       "      <td>2.419806e+07</td>\n",
       "      <td>15204.633333</td>\n",
       "      <td>1779.000000</td>\n",
       "      <td>1499.000000</td>\n",
       "      <td>0.340000</td>\n",
       "      <td>1496.000000</td>\n",
       "      <td>67.000000</td>\n",
       "      <td>4388.000000</td>\n",
       "      <td>36.490000</td>\n",
       "      <td>2589.000000</td>\n",
       "      <td>4998.070000</td>\n",
       "      <td>49.564519</td>\n",
       "      <td>82331.000000</td>\n",
       "      <td>10000.000000</td>\n",
       "      <td>1552.946094</td>\n",
       "    </tr>\n",
       "  </tbody>\n",
       "</table>\n",
       "</div>"
      ],
      "text/plain": [
       "                Age  Annual_Income  Monthly_Inhand_Salary  Num_Bank_Accounts  \\\n",
       "count  83240.000000   8.324000e+04           83240.000000       83240.000000   \n",
       "mean      33.765209   1.756911e+05            4136.370734          17.445459   \n",
       "std        9.962167   1.437207e+06            3164.496791         119.605070   \n",
       "min       18.000000   7.006035e+03             303.645417           0.000000   \n",
       "25%       25.000000   1.916718e+04            1602.652917           4.000000   \n",
       "50%       33.000000   3.690131e+04            3050.901667           6.000000   \n",
       "75%       41.000000   7.160500e+04            5887.297500           8.000000   \n",
       "max       56.000000   2.419806e+07           15204.633333        1779.000000   \n",
       "\n",
       "       Num_Credit_Card  Interest_Rate   Num_of_Loan  Delay_from_due_date  \\\n",
       "count     83240.000000   83240.000000  83240.000000         83240.000000   \n",
       "mean         22.288251       0.148980      8.138011            21.559154   \n",
       "std         127.832268       0.088307     63.050564            15.090021   \n",
       "min           0.000000       0.010000      1.000000             0.000000   \n",
       "25%           4.000000       0.080000      2.000000            10.000000   \n",
       "50%           6.000000       0.140000      4.000000            18.000000   \n",
       "75%           7.000000       0.200000      6.000000            28.000000   \n",
       "max        1499.000000       0.340000   1496.000000            67.000000   \n",
       "\n",
       "       Num_of_Delayed_Payment  Changed_Credit_Limit  Num_Credit_Inquiries  \\\n",
       "count            83240.000000          83240.000000          83240.000000   \n",
       "mean                31.040173             10.591766             25.138972   \n",
       "std                226.248640              6.876736            184.925432   \n",
       "min                  0.000000             -6.430000              0.000000   \n",
       "25%                  9.000000              5.500000              2.000000   \n",
       "50%                 14.000000              9.560000              4.000000   \n",
       "75%                 19.000000             15.210000              8.000000   \n",
       "max               4388.000000             36.490000           2589.000000   \n",
       "\n",
       "       Outstanding_Debt  Credit_Utilization_Ratio  Total_EMI_per_month  \\\n",
       "count      83240.000000              83240.000000         83240.000000   \n",
       "mean        1472.777492                 32.190649          1393.458608   \n",
       "std         1180.993871                  5.081173          8235.849069   \n",
       "min            0.230000                 20.000000             4.462837   \n",
       "25%          582.300000                 27.983193            41.364409   \n",
       "50%         1202.400000                 32.216868            78.799975   \n",
       "75%         2063.550000                 36.399986           171.806567   \n",
       "max         4998.070000                 49.564519         82331.000000   \n",
       "\n",
       "       Amount_invested_monthly  Monthly_Balance  \n",
       "count             83240.000000     83240.000000  \n",
       "mean                644.305644       390.561747  \n",
       "std                2070.546008       204.668357  \n",
       "min                   0.000000         0.088628  \n",
       "25%                  72.378513       267.291707  \n",
       "50%                 132.662513       328.939676  \n",
       "75%                 260.004198       454.967142  \n",
       "max               10000.000000      1552.946094  "
      ]
     },
     "execution_count": 53,
     "metadata": {},
     "output_type": "execute_result"
    }
   ],
   "source": [
    "data.describe()"
   ]
  },
  {
   "cell_type": "markdown",
   "id": "7e6f20d7-0e1c-4506-baf4-daebe110a688",
   "metadata": {},
   "source": [
    "<table>\n",
    "<tr><tr><th>Feature<th>Statistical Interpretation<th<tr><tr>\n",
    "<tr><tr><th>Age<th>The average Age (in years) is 33.76 (central value), the standard deviation is 9.95 indicating that the variability in ages of the dataset is quite large. Being the maximum Age 56, the first quartile is within 25 years, the second lies in 33 years (basically matching the mean) and the third correspond to 41 years.<th><tr><tr>\n",
    "<tr><tr><th>Annual_Income<th>The average Annual_Income (in US dollars) is 175,839.80 (central value), the standard deviation is US1,438,902.00 indicating that the variability is extremely large. Being US24,198,060 the maximum Annual_Income, the first quartile is within US19,135.06, the second lies in US36,857.22 and the third correspond to US71,485.64<th><tr><tr>\n",
    "<tr><tr><th>Monthly_Inhand_Salary<th>The average Monthly_Inhand_Salary (in US dollars) is 4,122.02 (central value), the standard deviation is US3,147.89 indicating that the variability related to Monthly_Inhand_Salary of the dataset is extremely large. Being the maximum Monthly_Inhand_Salary US15,204.63, the first quartile is within US1,599.83, the second lies in US3,048.80 and the third correspond to US5,874.42.<th><tr><tr>\n",
    "<tr><tr><th>Num_Bank_Accounts<th>The average Num_Bank_Accounts is 17.46 (central value), the standard deviation is 119.70 indicating that the variability in Num_Bank_Accounts of the dataset is quite large. Being the maximum Num_Bank_Accounts 1,779, the first quartile is within 4 bank accounts, the second lies in 6 bank accounts and the third correspond to 8 bank accounts.<th><tr><tr>\n",
    "<tr><tr><th>Num_Credit_Card<th>The average Num_Credit_Card is 22.31 (central value), the standard deviation is 127.90 indicating that the variability in Num_Credit_Card of the dataset is quite large. Being the maximum Num_Credit_Card 1,499, the first quartile is within 4 credit cards, the second lies in 6 credit cards and the third correspond to 7 credit cards.<th><tr><tr>\n",
    "<tr><tr><th>Interest_Rate<th>The average Interest_Rate (percentage) is 0.15 (central value), the standard deviation is 0.09 indicating that the variability in Interest_Rate of the dataset is quite small. Being the maximum Interest_Rate 0.34, the first quartile is within 0.08, the second lies in 0.14 (basically matching the mean) and the third correspond to 0.20.<th><tr><tr>  \n",
    "<tr><tr><th>Num_of_Loan<th>The average Num_of_Loan is 8.18 (central value), the standard deviation is 63.25 indicating that the variability in Num_of_Loan of the dataset is quite large. Being the maximum Num_of_Loan 1,496, the first quartile is within 2 loans, the second lies in 4 loans and the third correspond to 6 loans.<th><tr><tr>\n",
    "<tr><tr><th>Delay_from_due_date<th>The average Delay_from_due_date (in days) is 21.63 (central value), the standard deviation is 15.10 days indicating that the variability in Delay_from_due_date of the dataset is quite large. Being the maximum Delay_from_due_date 67 days, the first quartile is within 10 days, the second lies in 19 days (close to the mean) and the third correspond to 28 days.<th><tr><tr>\n",
    "<tr><tr><th>Num_of_Delayed_Payment<th>The average Num_of_Delayed_Payment is 31.23 (central value), the standard deviation is 226.96 indicating that the variability in Num_of_Delayed_Payment of the dataset is quite large. Being the maximum Num_of_Delayed_Payment 4,388, the first quartile is within 9 delayed payments, the second lies in 14 delayed payments and the third correspond to 19 delayed payments.<th><tr><tr>\n",
    "<tr><tr><th>Changed_Credit_Limit<th>The average Changed_Credit_Limit (in US dollars) is 10.62 (central value), the standard deviation is US6.89 indicating that the variability related to Changed_Credit_Limit of the dataset is quite large. Being the maximum Changed_Credit_Limit US36.49, the first quartile is within US5.53, the second lies in US9.58 (close to the mean) and the third correspond to US15.25.<th><tr><tr>\n",
    "<tr><tr><th>Num_Credit_Inquiries<th>The average Num_Credit_Inquiries is 24.99 (central value), the standard deviation is 184.15 indicating that the variability in Num_Credit_Inquiries of the dataset is quite large. Being the maximum Num_Credit_Inquiries 2,589, the first quartile is within 2 credit inquiries, the second lies in 4 credit inquiries and the third correspond to 8 credit inquiries.<th><tr><tr>\n",
    "<tr><tr><th>Outstanding_Debt<th>The average Outstanding_Debt (in US dollars) is 1,477.95 (central value), the standard deviation is US1,182.44 indicating that the variability related to Monthly_Inhand_Salary of the dataset is extremely large. Being the maximum Outstanding_Debt US4,998.07, the first quartile is within US584.86, the second lies in US1,208.29 and the third correspond to US2,073.70.<th><tr><tr>\n",
    "<tr><tr><th>Credit_Utilization_Ratio<th>The average Credit_Utilization_Ratio is 32.18% (central value), the standard deviation is 5.08% indicating that the variability in Credit_Utilization_Ratio of the dataset is large. Being the maximum Credit_Utilization_Ratio 49.56%, the first quartile is within 27.98%, the second lies in 32.21% (basically matching the mean) and the third correspond to 36.39%.<th><tr><tr>\n",
    "<tr><tr><th>Total_EMI_per_month<th>The average Total_EMI_per_month (in US dollars) is 1,393.25 (central value), the standard deviation is US8,235.17 indicating that the variability related to Total_EMI_per_month of the dataset is extremely large. Being the maximum Total_EMI_per_month US82,331.00, the first quartile is within US41.46, the second lies in US78.97 and the third correspond to US171.74.<th><tr><tr>\n",
    "<tr><tr><th>Amount_invested_monthlyth><th>The average Amount_invested_monthly (in US dollars) is 646.69 (central value), the standard deviation is US2,076.82 indicating that the variability related to Amount_invested_monthly of the dataset is extremely large. Being the maximum Amount_invested_monthly US10,000.00, the first quartile is within US72.25, the second lies in US132.21 and the third correspond to US259.70.<th><tr><tr>\n",
    "</table>"
   ]
  },
  {
   "cell_type": "markdown",
   "id": "8e4d2c40-e15b-4870-8d72-4c0e82b561a0",
   "metadata": {},
   "source": [
    "### **Categorical description (displaying the count of each unique value to show their representation regarding the whole dataset, max value is displayed first while the one with the minimun count is the last listed)**"
   ]
  },
  {
   "cell_type": "code",
   "execution_count": 54,
   "id": "51d248da-8a8b-49dd-a693-d8d72eb4bfa5",
   "metadata": {},
   "outputs": [
    {
     "data": {
      "text/plain": [
       "<Axes: xlabel='count', ylabel='Occupation'>"
      ]
     },
     "execution_count": 54,
     "metadata": {},
     "output_type": "execute_result"
    },
    {
     "data": {
      "image/png": "[encoded data removed]",
      "text/plain": [
       "<Figure size 640x480 with 1 Axes>"
      ]
     },
     "metadata": {},
     "output_type": "display_data"
    }
   ],
   "source": [
    "sb.countplot(data = data, y = 'Occupation')"
   ]
  },
  {
   "cell_type": "markdown",
   "id": "5c8a7ba2-5728-43aa-a94f-b0ff22921c83",
   "metadata": {},
   "source": [
    "#### <span style='color:blue'>**There is a balance distribution in the train dataset regarding the occupation of the customers**</span>"
   ]
  },
  {
   "cell_type": "code",
   "execution_count": 55,
   "id": "3e512176-ea3c-4acb-be65-c0e45944c971",
   "metadata": {},
   "outputs": [
    {
     "data": {
      "text/plain": [
       "Type_of_Loan\n",
       "Not Specified                                                                                         1392\n",
       "Credit-Builder Loan                                                                                   1272\n",
       "Personal Loan                                                                                         1272\n",
       "Debt Consolidation Loan                                                                               1256\n",
       "Student Loan                                                                                          1232\n",
       "                                                                                                      ... \n",
       "Auto Loan, Credit-Builder Loan, Student Loan, and Student Loan                                           8\n",
       "Personal Loan, Student Loan, Not Specified, Debt Consolidation Loan, and Student Loan                    8\n",
       "Mortgage Loan, Credit-Builder Loan, Mortgage Loan, Auto Loan, Payday Loan, and Credit-Builder Loan       8\n",
       "Personal Loan, Mortgage Loan, Not Specified, Auto Loan, and Personal Loan                                8\n",
       "Personal Loan, Auto Loan, Mortgage Loan, Student Loan, and Student Loan                                  8\n",
       "Name: count, Length: 5782, dtype: int64"
      ]
     },
     "execution_count": 55,
     "metadata": {},
     "output_type": "execute_result"
    }
   ],
   "source": [
    "data['Type_of_Loan'].value_counts()"
   ]
  },
  {
   "cell_type": "markdown",
   "id": "f5287166-f735-4791-95b4-07bccc8aae84",
   "metadata": {},
   "source": [
    "#### <span style='color:blue'>**There are 5,769 unique Type of Loan values, being the one with the highest count named as 'Not Specified' and having several unique values sharing the lowest count as it is stated before**</span>"
   ]
  },
  {
   "cell_type": "code",
   "execution_count": 56,
   "id": "fbf5ceae-0aff-4766-a851-b4bff408bacf",
   "metadata": {},
   "outputs": [
    {
     "data": {
      "text/plain": [
       "<Axes: ylabel='count'>"
      ]
     },
     "execution_count": 56,
     "metadata": {},
     "output_type": "execute_result"
    },
    {
     "data": {
      "image/png": "[encoded data removed]",
      "text/plain": [
       "<Figure size 640x480 with 1 Axes>"
      ]
     },
     "metadata": {},
     "output_type": "display_data"
    }
   ],
   "source": [
    "data[\"Credit_Mix\"].value_counts().plot.pie(autopct='%1.1f%%', pctdistance = 0.75, counterclock=False, startangle=-270, wedgeprops={'width':0.5, 'edgecolor':'white', 'linewidth': 2})"
   ]
  },
  {
   "cell_type": "markdown",
   "id": "2f9a7576-6d13-4fd7-9a03-461821a459f3",
   "metadata": {},
   "source": [
    "#### <span style='color:blue'>**Most of the Credit_Mix values (around 50% of them) lies on the 'Standard' class,  almost 30% of them correspond to 'Good' while 'Bad' represents the rest 25%**</span>"
   ]
  },
  {
   "cell_type": "code",
   "execution_count": 57,
   "id": "7ce768f6-45e5-4700-bfee-d736554f1503",
   "metadata": {},
   "outputs": [
    {
     "data": {
      "text/plain": [
       "Credit_History_Age\n",
       "18 Years and 3 Months     528\n",
       "18 Years and 10 Months    496\n",
       "15 Years and 4 Months     488\n",
       "17 Years and 11 Months    488\n",
       "15 Years and 7 Months     488\n",
       "                         ... \n",
       "31 Years and 6 Months       8\n",
       "9 Years and 6 Months        8\n",
       "10 Years and 0 Months       8\n",
       "14 Years and 6 Months       8\n",
       "0 Years and 6 Months        8\n",
       "Name: count, Length: 390, dtype: int64"
      ]
     },
     "execution_count": 57,
     "metadata": {},
     "output_type": "execute_result"
    }
   ],
   "source": [
    "data['Credit_History_Age'].value_counts()"
   ]
  },
  {
   "cell_type": "markdown",
   "id": "52822e7d-9357-4048-b127-1213e01332b7",
   "metadata": {},
   "source": [
    "#### <span style='color:blue'>**There are 390 unique Credit History Age values, being the one with the highest count named as '18 Years and 3 Months' and having several unique values sharing the lowest count as it is stated before**</span>"
   ]
  },
  {
   "cell_type": "code",
   "execution_count": 58,
   "id": "1dc93175-2ba2-40ab-a5ad-edec98fd0040",
   "metadata": {},
   "outputs": [
    {
     "data": {
      "text/plain": [
       "<Axes: ylabel='count'>"
      ]
     },
     "execution_count": 58,
     "metadata": {},
     "output_type": "execute_result"
    },
    {
     "data": {
      "image/png": "[encoded data removed]",
      "text/plain": [
       "<Figure size 640x480 with 1 Axes>"
      ]
     },
     "metadata": {},
     "output_type": "display_data"
    }
   ],
   "source": [
    "data['Payment_of_Min_Amount'].value_counts().plot.pie(colors = ['turquoise', 'tan', 'blue'], autopct='%1.1f%%')"
   ]
  },
  {
   "cell_type": "markdown",
   "id": "0e6ca2e0-62c2-4b79-a139-0f17a69d1a2a",
   "metadata": {},
   "source": [
    "#### <span style='color:blue'>**More than 50% of the Payments are done based on the minimum value suggested for the credit while the rest pay more than that**</span>"
   ]
  },
  {
   "cell_type": "code",
   "execution_count": 59,
   "id": "5569b58d-e687-4a46-ad00-4ef1cf1fa907",
   "metadata": {},
   "outputs": [
    {
     "data": {
      "text/plain": [
       "<Axes: xlabel='Payment_Behaviour'>"
      ]
     },
     "execution_count": 59,
     "metadata": {},
     "output_type": "execute_result"
    },
    {
     "data": {
      "image/png": "[encoded data removed]",
      "text/plain": [
       "<Figure size 640x480 with 1 Axes>"
      ]
     },
     "metadata": {},
     "output_type": "display_data"
    }
   ],
   "source": [
    "data['Payment_Behaviour'].value_counts().plot.bar(color = ['darkblue', 'blue', 'royalblue', 'dodgerblue', 'cornflowerblue', 'lightblue'])"
   ]
  },
  {
   "cell_type": "markdown",
   "id": "0df321b1-9380-4290-90c7-62c56437cc1c",
   "metadata": {},
   "source": [
    "#### <span style='color:blue'>**The bar chart before has the possible payment behaviours organized in a descendant way, being the most popular one 'Low Spent Value Payments' and the least popular 'Low Spent Large Value Payments'**</span>"
   ]
  },
  {
   "cell_type": "markdown",
   "id": "6b88cd43-e364-4098-91ba-e9f652446040",
   "metadata": {},
   "source": [
    "### **Displaying a bar graph (countplot one) showing the count of each class**"
   ]
  },
  {
   "cell_type": "code",
   "execution_count": 60,
   "id": "70dbd0f5-bfa1-4c7c-b7ee-ae502b057c8d",
   "metadata": {},
   "outputs": [
    {
     "data": {
      "text/plain": [
       "Credit_Score\n",
       "Standard    0.526598\n",
       "Poor        0.302871\n",
       "Good        0.170531\n",
       "Name: count, dtype: float64"
      ]
     },
     "execution_count": 60,
     "metadata": {},
     "output_type": "execute_result"
    }
   ],
   "source": [
    "count = data['Credit_Score'].value_counts()\n",
    "count/count.sum()"
   ]
  },
  {
   "cell_type": "code",
   "execution_count": 61,
   "id": "aa07003e-fd4d-4cac-bee6-717cedaaec4f",
   "metadata": {},
   "outputs": [
    {
     "data": {
      "text/plain": [
       "<Axes: xlabel='count', ylabel='Credit_Score'>"
      ]
     },
     "execution_count": 61,
     "metadata": {},
     "output_type": "execute_result"
    },
    {
     "data": {
      "image/png": "[encoded data removed]",
      "text/plain": [
       "<Figure size 640x480 with 1 Axes>"
      ]
     },
     "metadata": {},
     "output_type": "display_data"
    }
   ],
   "source": [
    "sb.countplot(data = data, y = 'Credit_Score', palette = 'crest', order = data['Credit_Score'].value_counts().index)"
   ]
  },
  {
   "cell_type": "markdown",
   "id": "e5f5f003-e583-4e1e-afad-6e736d4d6aa1",
   "metadata": {},
   "source": [
    "### <div align='justify' style='color:blue'>**The dominant class in this case (the one with the highest count) is 'Standard' a bit more of half of the train dataset is within this class, the following one is 'Poor' representing the third part of the train dataset and the last one is 'Good' which doesn't have even a 20% of the dataset based on the graph. Considering the representation distribution of each class after loading the train dataset and what was left after data cleaning, it is safe to proceed with the dataset as it is, that's why the cleaned train dataset is saved in a csv file in the next cell**</div>"
   ]
  },
  {
   "cell_type": "code",
   "execution_count": 62,
   "id": "270bcdf6-aad7-4315-9c10-9fe355481617",
   "metadata": {},
   "outputs": [],
   "source": [
    "data.to_csv('train_cleaned.csv') # Saving the cleaned dataset excluding the row names (index)."
   ]
  },
  {
   "cell_type": "markdown",
   "id": "19541ea7-6427-45bf-b040-7faa708788d7",
   "metadata": {},
   "source": [
    "### <div align='justify'>**To prepare for working with features and labels, I'll handle categorical encoding, especially considering that Sklearn's Decision Tree Classification doesn't support categorical features. I'll use One Hot Encoding for features with less than 20 unique categories: Occupation, Credit_Mix, Payment_of_Min_Amount, and Payment_Behaviour. For the remaining categorical feature, Type_of_Loan, which has 5769 categories consisting of alphabetic values only, I'll employ Binary Encoding. Additionally, for the Credit_History_Age feature, I'll extract the years and month numbers to work with their sum.**</div>"
   ]
  },
  {
   "cell_type": "code",
   "execution_count": 63,
   "id": "bc81af6d-3132-4075-810e-7d12dd387cfe",
   "metadata": {},
   "outputs": [
    {
     "data": {
      "text/plain": [
       "array(['Auto Loan, Credit-Builder Loan, Personal Loan, and Home Equity Loan',\n",
       "       'Credit-Builder Loan', 'Auto Loan, Auto Loan, and Not Specified',\n",
       "       ..., 'Home Equity Loan, Auto Loan, Auto Loan, and Auto Loan',\n",
       "       'Payday Loan, Student Loan, Mortgage Loan, and Not Specified',\n",
       "       'Personal Loan, Auto Loan, Mortgage Loan, Student Loan, and Student Loan'],\n",
       "      dtype=object)"
      ]
     },
     "execution_count": 63,
     "metadata": {},
     "output_type": "execute_result"
    }
   ],
   "source": [
    "df = data\n",
    "df['Type_of_Loan'].unique() # Displaying unique values in Type_of_Loan"
   ]
  },
  {
   "cell_type": "code",
   "execution_count": 64,
   "id": "aa0719aa-9080-424c-ae54-6bcd4d34dc14",
   "metadata": {},
   "outputs": [
    {
     "data": {
      "text/html": [
       "<div>\n",
       "<style scoped>\n",
       "    .dataframe tbody tr th:only-of-type {\n",
       "        vertical-align: middle;\n",
       "    }\n",
       "\n",
       "    .dataframe tbody tr th {\n",
       "        vertical-align: top;\n",
       "    }\n",
       "\n",
       "    .dataframe thead th {\n",
       "        text-align: right;\n",
       "    }\n",
       "</style>\n",
       "<table border=\"1\" class=\"dataframe\">\n",
       "  <thead>\n",
       "    <tr style=\"text-align: right;\">\n",
       "      <th></th>\n",
       "      <th>Type_of_Loan_0</th>\n",
       "      <th>Type_of_Loan_1</th>\n",
       "      <th>Type_of_Loan_2</th>\n",
       "      <th>Type_of_Loan_3</th>\n",
       "      <th>Type_of_Loan_4</th>\n",
       "      <th>Type_of_Loan_5</th>\n",
       "      <th>Type_of_Loan_6</th>\n",
       "      <th>Type_of_Loan_7</th>\n",
       "      <th>Type_of_Loan_8</th>\n",
       "      <th>Type_of_Loan_9</th>\n",
       "      <th>Type_of_Loan_10</th>\n",
       "      <th>Type_of_Loan_11</th>\n",
       "      <th>Type_of_Loan_12</th>\n",
       "    </tr>\n",
       "  </thead>\n",
       "  <tbody>\n",
       "    <tr>\n",
       "      <th>0</th>\n",
       "      <td>0</td>\n",
       "      <td>0</td>\n",
       "      <td>0</td>\n",
       "      <td>0</td>\n",
       "      <td>0</td>\n",
       "      <td>0</td>\n",
       "      <td>0</td>\n",
       "      <td>0</td>\n",
       "      <td>0</td>\n",
       "      <td>0</td>\n",
       "      <td>0</td>\n",
       "      <td>0</td>\n",
       "      <td>1</td>\n",
       "    </tr>\n",
       "    <tr>\n",
       "      <th>1</th>\n",
       "      <td>0</td>\n",
       "      <td>0</td>\n",
       "      <td>0</td>\n",
       "      <td>0</td>\n",
       "      <td>0</td>\n",
       "      <td>0</td>\n",
       "      <td>0</td>\n",
       "      <td>0</td>\n",
       "      <td>0</td>\n",
       "      <td>0</td>\n",
       "      <td>0</td>\n",
       "      <td>0</td>\n",
       "      <td>1</td>\n",
       "    </tr>\n",
       "    <tr>\n",
       "      <th>2</th>\n",
       "      <td>0</td>\n",
       "      <td>0</td>\n",
       "      <td>0</td>\n",
       "      <td>0</td>\n",
       "      <td>0</td>\n",
       "      <td>0</td>\n",
       "      <td>0</td>\n",
       "      <td>0</td>\n",
       "      <td>0</td>\n",
       "      <td>0</td>\n",
       "      <td>0</td>\n",
       "      <td>0</td>\n",
       "      <td>1</td>\n",
       "    </tr>\n",
       "    <tr>\n",
       "      <th>3</th>\n",
       "      <td>0</td>\n",
       "      <td>0</td>\n",
       "      <td>0</td>\n",
       "      <td>0</td>\n",
       "      <td>0</td>\n",
       "      <td>0</td>\n",
       "      <td>0</td>\n",
       "      <td>0</td>\n",
       "      <td>0</td>\n",
       "      <td>0</td>\n",
       "      <td>0</td>\n",
       "      <td>0</td>\n",
       "      <td>1</td>\n",
       "    </tr>\n",
       "    <tr>\n",
       "      <th>4</th>\n",
       "      <td>0</td>\n",
       "      <td>0</td>\n",
       "      <td>0</td>\n",
       "      <td>0</td>\n",
       "      <td>0</td>\n",
       "      <td>0</td>\n",
       "      <td>0</td>\n",
       "      <td>0</td>\n",
       "      <td>0</td>\n",
       "      <td>0</td>\n",
       "      <td>0</td>\n",
       "      <td>0</td>\n",
       "      <td>1</td>\n",
       "    </tr>\n",
       "    <tr>\n",
       "      <th>...</th>\n",
       "      <td>...</td>\n",
       "      <td>...</td>\n",
       "      <td>...</td>\n",
       "      <td>...</td>\n",
       "      <td>...</td>\n",
       "      <td>...</td>\n",
       "      <td>...</td>\n",
       "      <td>...</td>\n",
       "      <td>...</td>\n",
       "      <td>...</td>\n",
       "      <td>...</td>\n",
       "      <td>...</td>\n",
       "      <td>...</td>\n",
       "    </tr>\n",
       "    <tr>\n",
       "      <th>99995</th>\n",
       "      <td>0</td>\n",
       "      <td>0</td>\n",
       "      <td>0</td>\n",
       "      <td>0</td>\n",
       "      <td>0</td>\n",
       "      <td>1</td>\n",
       "      <td>0</td>\n",
       "      <td>1</td>\n",
       "      <td>1</td>\n",
       "      <td>0</td>\n",
       "      <td>1</td>\n",
       "      <td>1</td>\n",
       "      <td>1</td>\n",
       "    </tr>\n",
       "    <tr>\n",
       "      <th>99996</th>\n",
       "      <td>0</td>\n",
       "      <td>0</td>\n",
       "      <td>0</td>\n",
       "      <td>0</td>\n",
       "      <td>0</td>\n",
       "      <td>1</td>\n",
       "      <td>0</td>\n",
       "      <td>1</td>\n",
       "      <td>1</td>\n",
       "      <td>0</td>\n",
       "      <td>1</td>\n",
       "      <td>1</td>\n",
       "      <td>1</td>\n",
       "    </tr>\n",
       "    <tr>\n",
       "      <th>99997</th>\n",
       "      <td>0</td>\n",
       "      <td>0</td>\n",
       "      <td>0</td>\n",
       "      <td>0</td>\n",
       "      <td>0</td>\n",
       "      <td>1</td>\n",
       "      <td>0</td>\n",
       "      <td>1</td>\n",
       "      <td>1</td>\n",
       "      <td>0</td>\n",
       "      <td>1</td>\n",
       "      <td>1</td>\n",
       "      <td>1</td>\n",
       "    </tr>\n",
       "    <tr>\n",
       "      <th>99998</th>\n",
       "      <td>0</td>\n",
       "      <td>0</td>\n",
       "      <td>0</td>\n",
       "      <td>0</td>\n",
       "      <td>0</td>\n",
       "      <td>1</td>\n",
       "      <td>0</td>\n",
       "      <td>1</td>\n",
       "      <td>1</td>\n",
       "      <td>0</td>\n",
       "      <td>1</td>\n",
       "      <td>1</td>\n",
       "      <td>1</td>\n",
       "    </tr>\n",
       "    <tr>\n",
       "      <th>99999</th>\n",
       "      <td>0</td>\n",
       "      <td>0</td>\n",
       "      <td>0</td>\n",
       "      <td>0</td>\n",
       "      <td>0</td>\n",
       "      <td>1</td>\n",
       "      <td>0</td>\n",
       "      <td>1</td>\n",
       "      <td>1</td>\n",
       "      <td>0</td>\n",
       "      <td>1</td>\n",
       "      <td>1</td>\n",
       "      <td>1</td>\n",
       "    </tr>\n",
       "  </tbody>\n",
       "</table>\n",
       "<p>83240 rows × 13 columns</p>\n",
       "</div>"
      ],
      "text/plain": [
       "       Type_of_Loan_0  Type_of_Loan_1  Type_of_Loan_2  Type_of_Loan_3  \\\n",
       "0                   0               0               0               0   \n",
       "1                   0               0               0               0   \n",
       "2                   0               0               0               0   \n",
       "3                   0               0               0               0   \n",
       "4                   0               0               0               0   \n",
       "...               ...             ...             ...             ...   \n",
       "99995               0               0               0               0   \n",
       "99996               0               0               0               0   \n",
       "99997               0               0               0               0   \n",
       "99998               0               0               0               0   \n",
       "99999               0               0               0               0   \n",
       "\n",
       "       Type_of_Loan_4  Type_of_Loan_5  Type_of_Loan_6  Type_of_Loan_7  \\\n",
       "0                   0               0               0               0   \n",
       "1                   0               0               0               0   \n",
       "2                   0               0               0               0   \n",
       "3                   0               0               0               0   \n",
       "4                   0               0               0               0   \n",
       "...               ...             ...             ...             ...   \n",
       "99995               0               1               0               1   \n",
       "99996               0               1               0               1   \n",
       "99997               0               1               0               1   \n",
       "99998               0               1               0               1   \n",
       "99999               0               1               0               1   \n",
       "\n",
       "       Type_of_Loan_8  Type_of_Loan_9  Type_of_Loan_10  Type_of_Loan_11  \\\n",
       "0                   0               0                0                0   \n",
       "1                   0               0                0                0   \n",
       "2                   0               0                0                0   \n",
       "3                   0               0                0                0   \n",
       "4                   0               0                0                0   \n",
       "...               ...             ...              ...              ...   \n",
       "99995               1               0                1                1   \n",
       "99996               1               0                1                1   \n",
       "99997               1               0                1                1   \n",
       "99998               1               0                1                1   \n",
       "99999               1               0                1                1   \n",
       "\n",
       "       Type_of_Loan_12  \n",
       "0                    1  \n",
       "1                    1  \n",
       "2                    1  \n",
       "3                    1  \n",
       "4                    1  \n",
       "...                ...  \n",
       "99995                1  \n",
       "99996                1  \n",
       "99997                1  \n",
       "99998                1  \n",
       "99999                1  \n",
       "\n",
       "[83240 rows x 13 columns]"
      ]
     },
     "execution_count": 64,
     "metadata": {},
     "output_type": "execute_result"
    }
   ],
   "source": [
    "binary_encoder = BinaryEncoder(cols= 'Type_of_Loan') # Created a binary encoder to encode Type_of_Loan values\n",
    "# Fitting binary encoded created to the data so it calculates how many binary variables it needs, creating the variable-to-binary code representation\n",
    "encoded_type_of_loan = binary_encoder.transform(df['Type_of_Loan']) \n",
    "binary_encoder.fit(df['Type_of_Loan']) \n",
    "encoded_type_of_loan"
   ]
  },
  {
   "cell_type": "code",
   "execution_count": 65,
   "id": "1984a64f-011a-454f-b1c9-8daeb72ba4c7",
   "metadata": {},
   "outputs": [
    {
     "data": {
      "text/html": [
       "<div>\n",
       "<style scoped>\n",
       "    .dataframe tbody tr th:only-of-type {\n",
       "        vertical-align: middle;\n",
       "    }\n",
       "\n",
       "    .dataframe tbody tr th {\n",
       "        vertical-align: top;\n",
       "    }\n",
       "\n",
       "    .dataframe thead th {\n",
       "        text-align: right;\n",
       "    }\n",
       "</style>\n",
       "<table border=\"1\" class=\"dataframe\">\n",
       "  <thead>\n",
       "    <tr style=\"text-align: right;\">\n",
       "      <th></th>\n",
       "      <th>Age</th>\n",
       "      <th>Occupation</th>\n",
       "      <th>Annual_Income</th>\n",
       "      <th>Monthly_Inhand_Salary</th>\n",
       "      <th>Num_Bank_Accounts</th>\n",
       "      <th>Num_Credit_Card</th>\n",
       "      <th>Interest_Rate</th>\n",
       "      <th>Num_of_Loan</th>\n",
       "      <th>Delay_from_due_date</th>\n",
       "      <th>Num_of_Delayed_Payment</th>\n",
       "      <th>...</th>\n",
       "      <th>Type_of_Loan_3</th>\n",
       "      <th>Type_of_Loan_4</th>\n",
       "      <th>Type_of_Loan_5</th>\n",
       "      <th>Type_of_Loan_6</th>\n",
       "      <th>Type_of_Loan_7</th>\n",
       "      <th>Type_of_Loan_8</th>\n",
       "      <th>Type_of_Loan_9</th>\n",
       "      <th>Type_of_Loan_10</th>\n",
       "      <th>Type_of_Loan_11</th>\n",
       "      <th>Type_of_Loan_12</th>\n",
       "    </tr>\n",
       "  </thead>\n",
       "  <tbody>\n",
       "    <tr>\n",
       "      <th>0</th>\n",
       "      <td>23.0</td>\n",
       "      <td>Scientist</td>\n",
       "      <td>19114.12</td>\n",
       "      <td>1824.843333</td>\n",
       "      <td>3.0</td>\n",
       "      <td>4</td>\n",
       "      <td>0.03</td>\n",
       "      <td>4.0</td>\n",
       "      <td>3.0</td>\n",
       "      <td>7.0</td>\n",
       "      <td>...</td>\n",
       "      <td>0</td>\n",
       "      <td>0</td>\n",
       "      <td>0</td>\n",
       "      <td>0</td>\n",
       "      <td>0</td>\n",
       "      <td>0</td>\n",
       "      <td>0</td>\n",
       "      <td>0</td>\n",
       "      <td>0</td>\n",
       "      <td>1</td>\n",
       "    </tr>\n",
       "    <tr>\n",
       "      <th>1</th>\n",
       "      <td>23.0</td>\n",
       "      <td>Scientist</td>\n",
       "      <td>19114.12</td>\n",
       "      <td>1824.843333</td>\n",
       "      <td>3.0</td>\n",
       "      <td>4</td>\n",
       "      <td>0.03</td>\n",
       "      <td>4.0</td>\n",
       "      <td>3.0</td>\n",
       "      <td>7.0</td>\n",
       "      <td>...</td>\n",
       "      <td>0</td>\n",
       "      <td>0</td>\n",
       "      <td>0</td>\n",
       "      <td>0</td>\n",
       "      <td>0</td>\n",
       "      <td>0</td>\n",
       "      <td>0</td>\n",
       "      <td>0</td>\n",
       "      <td>0</td>\n",
       "      <td>1</td>\n",
       "    </tr>\n",
       "    <tr>\n",
       "      <th>2</th>\n",
       "      <td>23.0</td>\n",
       "      <td>Scientist</td>\n",
       "      <td>19114.12</td>\n",
       "      <td>1824.843333</td>\n",
       "      <td>3.0</td>\n",
       "      <td>4</td>\n",
       "      <td>0.03</td>\n",
       "      <td>4.0</td>\n",
       "      <td>3.0</td>\n",
       "      <td>7.0</td>\n",
       "      <td>...</td>\n",
       "      <td>0</td>\n",
       "      <td>0</td>\n",
       "      <td>0</td>\n",
       "      <td>0</td>\n",
       "      <td>0</td>\n",
       "      <td>0</td>\n",
       "      <td>0</td>\n",
       "      <td>0</td>\n",
       "      <td>0</td>\n",
       "      <td>1</td>\n",
       "    </tr>\n",
       "    <tr>\n",
       "      <th>3</th>\n",
       "      <td>23.0</td>\n",
       "      <td>Scientist</td>\n",
       "      <td>19114.12</td>\n",
       "      <td>1824.843333</td>\n",
       "      <td>3.0</td>\n",
       "      <td>4</td>\n",
       "      <td>0.03</td>\n",
       "      <td>4.0</td>\n",
       "      <td>3.0</td>\n",
       "      <td>7.0</td>\n",
       "      <td>...</td>\n",
       "      <td>0</td>\n",
       "      <td>0</td>\n",
       "      <td>0</td>\n",
       "      <td>0</td>\n",
       "      <td>0</td>\n",
       "      <td>0</td>\n",
       "      <td>0</td>\n",
       "      <td>0</td>\n",
       "      <td>0</td>\n",
       "      <td>1</td>\n",
       "    </tr>\n",
       "    <tr>\n",
       "      <th>4</th>\n",
       "      <td>23.0</td>\n",
       "      <td>Scientist</td>\n",
       "      <td>19114.12</td>\n",
       "      <td>1824.843333</td>\n",
       "      <td>3.0</td>\n",
       "      <td>4</td>\n",
       "      <td>0.03</td>\n",
       "      <td>4.0</td>\n",
       "      <td>3.0</td>\n",
       "      <td>7.0</td>\n",
       "      <td>...</td>\n",
       "      <td>0</td>\n",
       "      <td>0</td>\n",
       "      <td>0</td>\n",
       "      <td>0</td>\n",
       "      <td>0</td>\n",
       "      <td>0</td>\n",
       "      <td>0</td>\n",
       "      <td>0</td>\n",
       "      <td>0</td>\n",
       "      <td>1</td>\n",
       "    </tr>\n",
       "    <tr>\n",
       "      <th>...</th>\n",
       "      <td>...</td>\n",
       "      <td>...</td>\n",
       "      <td>...</td>\n",
       "      <td>...</td>\n",
       "      <td>...</td>\n",
       "      <td>...</td>\n",
       "      <td>...</td>\n",
       "      <td>...</td>\n",
       "      <td>...</td>\n",
       "      <td>...</td>\n",
       "      <td>...</td>\n",
       "      <td>...</td>\n",
       "      <td>...</td>\n",
       "      <td>...</td>\n",
       "      <td>...</td>\n",
       "      <td>...</td>\n",
       "      <td>...</td>\n",
       "      <td>...</td>\n",
       "      <td>...</td>\n",
       "      <td>...</td>\n",
       "      <td>...</td>\n",
       "    </tr>\n",
       "    <tr>\n",
       "      <th>99995</th>\n",
       "      <td>24.0</td>\n",
       "      <td>Mechanic</td>\n",
       "      <td>39628.99</td>\n",
       "      <td>3359.415833</td>\n",
       "      <td>4.0</td>\n",
       "      <td>6</td>\n",
       "      <td>0.07</td>\n",
       "      <td>2.0</td>\n",
       "      <td>23.0</td>\n",
       "      <td>6.0</td>\n",
       "      <td>...</td>\n",
       "      <td>0</td>\n",
       "      <td>0</td>\n",
       "      <td>1</td>\n",
       "      <td>0</td>\n",
       "      <td>1</td>\n",
       "      <td>1</td>\n",
       "      <td>0</td>\n",
       "      <td>1</td>\n",
       "      <td>1</td>\n",
       "      <td>1</td>\n",
       "    </tr>\n",
       "    <tr>\n",
       "      <th>99996</th>\n",
       "      <td>24.0</td>\n",
       "      <td>Mechanic</td>\n",
       "      <td>39628.99</td>\n",
       "      <td>3359.415833</td>\n",
       "      <td>4.0</td>\n",
       "      <td>6</td>\n",
       "      <td>0.07</td>\n",
       "      <td>2.0</td>\n",
       "      <td>23.0</td>\n",
       "      <td>6.0</td>\n",
       "      <td>...</td>\n",
       "      <td>0</td>\n",
       "      <td>0</td>\n",
       "      <td>1</td>\n",
       "      <td>0</td>\n",
       "      <td>1</td>\n",
       "      <td>1</td>\n",
       "      <td>0</td>\n",
       "      <td>1</td>\n",
       "      <td>1</td>\n",
       "      <td>1</td>\n",
       "    </tr>\n",
       "    <tr>\n",
       "      <th>99997</th>\n",
       "      <td>24.0</td>\n",
       "      <td>Mechanic</td>\n",
       "      <td>39628.99</td>\n",
       "      <td>3359.415833</td>\n",
       "      <td>4.0</td>\n",
       "      <td>6</td>\n",
       "      <td>0.07</td>\n",
       "      <td>2.0</td>\n",
       "      <td>23.0</td>\n",
       "      <td>6.0</td>\n",
       "      <td>...</td>\n",
       "      <td>0</td>\n",
       "      <td>0</td>\n",
       "      <td>1</td>\n",
       "      <td>0</td>\n",
       "      <td>1</td>\n",
       "      <td>1</td>\n",
       "      <td>0</td>\n",
       "      <td>1</td>\n",
       "      <td>1</td>\n",
       "      <td>1</td>\n",
       "    </tr>\n",
       "    <tr>\n",
       "      <th>99998</th>\n",
       "      <td>24.0</td>\n",
       "      <td>Mechanic</td>\n",
       "      <td>39628.99</td>\n",
       "      <td>3359.415833</td>\n",
       "      <td>4.0</td>\n",
       "      <td>6</td>\n",
       "      <td>0.07</td>\n",
       "      <td>2.0</td>\n",
       "      <td>23.0</td>\n",
       "      <td>6.0</td>\n",
       "      <td>...</td>\n",
       "      <td>0</td>\n",
       "      <td>0</td>\n",
       "      <td>1</td>\n",
       "      <td>0</td>\n",
       "      <td>1</td>\n",
       "      <td>1</td>\n",
       "      <td>0</td>\n",
       "      <td>1</td>\n",
       "      <td>1</td>\n",
       "      <td>1</td>\n",
       "    </tr>\n",
       "    <tr>\n",
       "      <th>99999</th>\n",
       "      <td>24.0</td>\n",
       "      <td>Mechanic</td>\n",
       "      <td>39628.99</td>\n",
       "      <td>3359.415833</td>\n",
       "      <td>4.0</td>\n",
       "      <td>6</td>\n",
       "      <td>0.07</td>\n",
       "      <td>2.0</td>\n",
       "      <td>23.0</td>\n",
       "      <td>6.0</td>\n",
       "      <td>...</td>\n",
       "      <td>0</td>\n",
       "      <td>0</td>\n",
       "      <td>1</td>\n",
       "      <td>0</td>\n",
       "      <td>1</td>\n",
       "      <td>1</td>\n",
       "      <td>0</td>\n",
       "      <td>1</td>\n",
       "      <td>1</td>\n",
       "      <td>1</td>\n",
       "    </tr>\n",
       "  </tbody>\n",
       "</table>\n",
       "<p>83240 rows × 35 columns</p>\n",
       "</div>"
      ],
      "text/plain": [
       "        Age Occupation  Annual_Income  Monthly_Inhand_Salary  \\\n",
       "0      23.0  Scientist       19114.12            1824.843333   \n",
       "1      23.0  Scientist       19114.12            1824.843333   \n",
       "2      23.0  Scientist       19114.12            1824.843333   \n",
       "3      23.0  Scientist       19114.12            1824.843333   \n",
       "4      23.0  Scientist       19114.12            1824.843333   \n",
       "...     ...        ...            ...                    ...   \n",
       "99995  24.0   Mechanic       39628.99            3359.415833   \n",
       "99996  24.0   Mechanic       39628.99            3359.415833   \n",
       "99997  24.0   Mechanic       39628.99            3359.415833   \n",
       "99998  24.0   Mechanic       39628.99            3359.415833   \n",
       "99999  24.0   Mechanic       39628.99            3359.415833   \n",
       "\n",
       "       Num_Bank_Accounts  Num_Credit_Card  Interest_Rate  Num_of_Loan  \\\n",
       "0                    3.0                4           0.03          4.0   \n",
       "1                    3.0                4           0.03          4.0   \n",
       "2                    3.0                4           0.03          4.0   \n",
       "3                    3.0                4           0.03          4.0   \n",
       "4                    3.0                4           0.03          4.0   \n",
       "...                  ...              ...            ...          ...   \n",
       "99995                4.0                6           0.07          2.0   \n",
       "99996                4.0                6           0.07          2.0   \n",
       "99997                4.0                6           0.07          2.0   \n",
       "99998                4.0                6           0.07          2.0   \n",
       "99999                4.0                6           0.07          2.0   \n",
       "\n",
       "       Delay_from_due_date  Num_of_Delayed_Payment  ...  Type_of_Loan_3  \\\n",
       "0                      3.0                     7.0  ...               0   \n",
       "1                      3.0                     7.0  ...               0   \n",
       "2                      3.0                     7.0  ...               0   \n",
       "3                      3.0                     7.0  ...               0   \n",
       "4                      3.0                     7.0  ...               0   \n",
       "...                    ...                     ...  ...             ...   \n",
       "99995                 23.0                     6.0  ...               0   \n",
       "99996                 23.0                     6.0  ...               0   \n",
       "99997                 23.0                     6.0  ...               0   \n",
       "99998                 23.0                     6.0  ...               0   \n",
       "99999                 23.0                     6.0  ...               0   \n",
       "\n",
       "       Type_of_Loan_4 Type_of_Loan_5  Type_of_Loan_6  Type_of_Loan_7  \\\n",
       "0                   0              0               0               0   \n",
       "1                   0              0               0               0   \n",
       "2                   0              0               0               0   \n",
       "3                   0              0               0               0   \n",
       "4                   0              0               0               0   \n",
       "...               ...            ...             ...             ...   \n",
       "99995               0              1               0               1   \n",
       "99996               0              1               0               1   \n",
       "99997               0              1               0               1   \n",
       "99998               0              1               0               1   \n",
       "99999               0              1               0               1   \n",
       "\n",
       "      Type_of_Loan_8 Type_of_Loan_9  Type_of_Loan_10  Type_of_Loan_11  \\\n",
       "0                  0              0                0                0   \n",
       "1                  0              0                0                0   \n",
       "2                  0              0                0                0   \n",
       "3                  0              0                0                0   \n",
       "4                  0              0                0                0   \n",
       "...              ...            ...              ...              ...   \n",
       "99995              1              0                1                1   \n",
       "99996              1              0                1                1   \n",
       "99997              1              0                1                1   \n",
       "99998              1              0                1                1   \n",
       "99999              1              0                1                1   \n",
       "\n",
       "      Type_of_Loan_12  \n",
       "0                   1  \n",
       "1                   1  \n",
       "2                   1  \n",
       "3                   1  \n",
       "4                   1  \n",
       "...               ...  \n",
       "99995               1  \n",
       "99996               1  \n",
       "99997               1  \n",
       "99998               1  \n",
       "99999               1  \n",
       "\n",
       "[83240 rows x 35 columns]"
      ]
     },
     "execution_count": 65,
     "metadata": {},
     "output_type": "execute_result"
    }
   ],
   "source": [
    "df = pd.concat([df, encoded_type_of_loan], axis = 1) # Concatenate the previous encoded data (df) and the encoded_type_of_loan using pandas\n",
    "df = df.drop(columns = ['Type_of_Loan']) # Dropping the not enconded Type_of_Loan feature\n",
    "df"
   ]
  },
  {
   "cell_type": "code",
   "execution_count": 66,
   "id": "0bc787e1-db7f-44dd-8e72-55651c5fa088",
   "metadata": {},
   "outputs": [
    {
     "data": {
      "text/html": [
       "<div>\n",
       "<style scoped>\n",
       "    .dataframe tbody tr th:only-of-type {\n",
       "        vertical-align: middle;\n",
       "    }\n",
       "\n",
       "    .dataframe tbody tr th {\n",
       "        vertical-align: top;\n",
       "    }\n",
       "\n",
       "    .dataframe thead th {\n",
       "        text-align: right;\n",
       "    }\n",
       "</style>\n",
       "<table border=\"1\" class=\"dataframe\">\n",
       "  <thead>\n",
       "    <tr style=\"text-align: right;\">\n",
       "      <th></th>\n",
       "      <th>0</th>\n",
       "      <th>1</th>\n",
       "    </tr>\n",
       "  </thead>\n",
       "  <tbody>\n",
       "    <tr>\n",
       "      <th>0</th>\n",
       "      <td>22</td>\n",
       "      <td>1</td>\n",
       "    </tr>\n",
       "    <tr>\n",
       "      <th>1</th>\n",
       "      <td>22</td>\n",
       "      <td>1</td>\n",
       "    </tr>\n",
       "    <tr>\n",
       "      <th>2</th>\n",
       "      <td>22</td>\n",
       "      <td>1</td>\n",
       "    </tr>\n",
       "    <tr>\n",
       "      <th>3</th>\n",
       "      <td>22</td>\n",
       "      <td>1</td>\n",
       "    </tr>\n",
       "    <tr>\n",
       "      <th>4</th>\n",
       "      <td>22</td>\n",
       "      <td>1</td>\n",
       "    </tr>\n",
       "    <tr>\n",
       "      <th>...</th>\n",
       "      <td>...</td>\n",
       "      <td>...</td>\n",
       "    </tr>\n",
       "    <tr>\n",
       "      <th>99995</th>\n",
       "      <td>31</td>\n",
       "      <td>3</td>\n",
       "    </tr>\n",
       "    <tr>\n",
       "      <th>99996</th>\n",
       "      <td>31</td>\n",
       "      <td>3</td>\n",
       "    </tr>\n",
       "    <tr>\n",
       "      <th>99997</th>\n",
       "      <td>31</td>\n",
       "      <td>3</td>\n",
       "    </tr>\n",
       "    <tr>\n",
       "      <th>99998</th>\n",
       "      <td>31</td>\n",
       "      <td>3</td>\n",
       "    </tr>\n",
       "    <tr>\n",
       "      <th>99999</th>\n",
       "      <td>31</td>\n",
       "      <td>3</td>\n",
       "    </tr>\n",
       "  </tbody>\n",
       "</table>\n",
       "<p>83240 rows × 2 columns</p>\n",
       "</div>"
      ],
      "text/plain": [
       "        0  1\n",
       "0      22  1\n",
       "1      22  1\n",
       "2      22  1\n",
       "3      22  1\n",
       "4      22  1\n",
       "...    .. ..\n",
       "99995  31  3\n",
       "99996  31  3\n",
       "99997  31  3\n",
       "99998  31  3\n",
       "99999  31  3\n",
       "\n",
       "[83240 rows x 2 columns]"
      ]
     },
     "execution_count": 66,
     "metadata": {},
     "output_type": "execute_result"
    }
   ],
   "source": [
    "credit_age = df['Credit_History_Age'].str.extract(r'(\\d+) Years ? and (\\d+)') # Extracting years and month number from Credit_History_Age\n",
    "credit_age"
   ]
  },
  {
   "cell_type": "code",
   "execution_count": 67,
   "id": "ab63fe3a-0084-4d7f-b84e-a52f28a7e1a1",
   "metadata": {},
   "outputs": [
    {
     "name": "stdout",
     "output_type": "stream",
     "text": [
      "<class 'pandas.core.frame.DataFrame'>\n",
      "Index: 83240 entries, 0 to 99999\n",
      "Data columns (total 2 columns):\n",
      " #   Column  Non-Null Count  Dtype\n",
      "---  ------  --------------  -----\n",
      " 0   0       83240 non-null  int64\n",
      " 1   1       83240 non-null  int64\n",
      "dtypes: int64(2)\n",
      "memory usage: 1.9 MB\n"
     ]
    }
   ],
   "source": [
    "credit_age = credit_age.apply(pd.to_numeric) # Converting to numeric\n",
    "credit_age.info() # Validation conversion was succesfull"
   ]
  },
  {
   "cell_type": "code",
   "execution_count": 68,
   "id": "6024fe64-e836-4762-afe5-5989a322e3d8",
   "metadata": {},
   "outputs": [],
   "source": [
    "df['Credit_History_Age'] = credit_age[0] * 12 + credit_age[1] # Credit_History_Age now storing on a number of months basis"
   ]
  },
  {
   "cell_type": "code",
   "execution_count": 69,
   "id": "cdc2c385-343a-474a-8e49-15b0de08224c",
   "metadata": {},
   "outputs": [],
   "source": [
    "one_hot_encoder = OneHotEncoder(sparse=False) # Storing OneHotEncoder method\n",
    "encoded_occupation = one_hot_encoder.fit_transform(df[['Occupation']])\n",
    "encoded_credit_mix = one_hot_encoder.fit_transform(df[['Credit_Mix']])\n",
    "encoded_payment_min = one_hot_encoder.fit_transform(df[['Payment_of_Min_Amount']])\n",
    "encoded_payment_behaviour = one_hot_encoder.fit_transform(df[['Payment_Behaviour']])"
   ]
  },
  {
   "cell_type": "code",
   "execution_count": 70,
   "id": "e90843d1-44c3-45e0-b08e-e6bda6c0f837",
   "metadata": {},
   "outputs": [],
   "source": [
    "y = df['Credit_Score'].values\n",
    "X = df.drop(['Occupation', 'Credit_Mix', 'Payment_of_Min_Amount', 'Payment_Behaviour', 'Credit_Score'], axis = 1)\n",
    "X = np.concatenate((X.values, encoded_occupation, encoded_credit_mix , encoded_payment_min, encoded_payment_behaviour), axis = 1)"
   ]
  },
  {
   "cell_type": "markdown",
   "id": "b3b9ed60-82d5-43b1-84b2-f291aea6257e",
   "metadata": {},
   "source": [
    "### **Using sklearn train_test_split to split the data into testing and validating data, trying different proportions**"
   ]
  },
  {
   "cell_type": "code",
   "execution_count": 71,
   "id": "72a7ad97-529c-447d-bf41-7981c921a0dc",
   "metadata": {},
   "outputs": [],
   "source": [
    "x_train, x_test, y_train, y_test = train_test_split(X,\n",
    "                                                    y,\n",
    "                                                    test_size = 0.20)\n",
    "x_train, x_val, y_train, y_val = train_test_split(x_train,\n",
    "                                                  y_train,\n",
    "                                                  test_size= 0.13,\n",
    "                                                  random_state = 13) "
   ]
  },
  {
   "cell_type": "code",
   "execution_count": 72,
   "id": "51f176a6-98a3-4e33-b56c-62a842078202",
   "metadata": {},
   "outputs": [
    {
     "name": "stdout",
     "output_type": "stream",
     "text": [
      "x_train length: 57935 \n",
      "y_train length: 57935\n",
      "x_test length: 16648 \n",
      "y_test length: 16648\n",
      "x_val length: 8657 \n",
      "y_val length: 8657\n"
     ]
    }
   ],
   "source": [
    "# Printing the train, test and validation dataaset length\n",
    "print(f'x_train length: {len(x_train)} \\ny_train length: {len(y_train)}')\n",
    "print(f'x_test length: {len(x_test)} \\ny_test length: {len(y_test)}')\n",
    "print(f'x_val length: {len(x_val)} \\ny_val length: {len(y_val)}')"
   ]
  },
  {
   "cell_type": "code",
   "execution_count": 73,
   "id": "5318f653-c225-43c2-8666-86a25cc80624",
   "metadata": {},
   "outputs": [],
   "source": [
    "x_train, x_test, y_train, y_test = train_test_split(X,\n",
    "                                                    y,\n",
    "                                                    test_size = 0.10,\n",
    "                                                    random_state = 13)\n",
    "x_train, x_val, y_train, y_val = train_test_split(x_train,\n",
    "                                                  y_train,\n",
    "                                                  test_size= 0.12,\n",
    "                                                  random_state = 13) "
   ]
  },
  {
   "cell_type": "code",
   "execution_count": 74,
   "id": "e52571b5-7119-4af6-8ee6-b647f6259e23",
   "metadata": {},
   "outputs": [
    {
     "name": "stdout",
     "output_type": "stream",
     "text": [
      "x_train length: 65926 \n",
      "y_train length: 65926\n",
      "x_test length: 8324 \n",
      "y_test length: 8324\n",
      "x_val length: 8990 \n",
      "y_val length: 8990\n"
     ]
    }
   ],
   "source": [
    "# Printing the train, test and validation dataaset length\n",
    "print(f'x_train length: {len(x_train)} \\ny_train length: {len(y_train)}')\n",
    "print(f'x_test length: {len(x_test)} \\ny_test length: {len(y_test)}')\n",
    "print(f'x_val length: {len(x_val)} \\ny_val length: {len(y_val)}')"
   ]
  },
  {
   "cell_type": "code",
   "execution_count": 75,
   "id": "f6da711f-6a9e-4fc4-9f53-a6265653ff47",
   "metadata": {},
   "outputs": [],
   "source": [
    "x_train, x_test, y_train, y_test = train_test_split(X,\n",
    "                                                    y,\n",
    "                                                    test_size=0.15,\n",
    "                                                    random_state = 13)\n",
    "x_train, x_val, y_train, y_val = train_test_split(x_train,\n",
    "                                                  y_train,\n",
    "                                                  test_size=0.17,\n",
    "                                                  random_state = 13)  "
   ]
  },
  {
   "cell_type": "code",
   "execution_count": 76,
   "id": "b6417bf9-2906-46d3-a6c6-f26339dd5078",
   "metadata": {},
   "outputs": [
    {
     "name": "stdout",
     "output_type": "stream",
     "text": [
      "x_train length: 58725 \n",
      "y_train length: 58725\n",
      "x_test length: 12486 \n",
      "y_test length: 12486\n",
      "x_val length: 12029 \n",
      "y_val length: 12029\n"
     ]
    }
   ],
   "source": [
    "# Printing the train, test and validation dataaset length\n",
    "print(f'x_train length: {len(x_train)} \\ny_train length: {len(y_train)}')\n",
    "print(f'x_test length: {len(x_test)} \\ny_test length: {len(y_test)}')\n",
    "print(f'x_val length: {len(x_val)} \\ny_val length: {len(y_val)}')"
   ]
  },
  {
   "cell_type": "code",
   "execution_count": 77,
   "id": "124cc8a6-9fd0-4a5f-8ec8-1d65bff5a43f",
   "metadata": {},
   "outputs": [
    {
     "name": "stdout",
     "output_type": "stream",
     "text": [
      "x_train length: 58725 \n",
      "y_train length: 58725\n",
      "x_test length: 12486 \n",
      "y_test length: 12486\n",
      "x_val length: 12029 \n",
      "y_val length: 12029\n"
     ]
    }
   ],
   "source": [
    "# Printing the train, test and validation dataaset length\n",
    "print(f'x_train length: {len(x_train)} \\ny_train length: {len(y_train)}')\n",
    "print(f'x_test length: {len(x_test)} \\ny_test length: {len(y_test)}')\n",
    "print(f'x_val length: {len(x_val)} \\ny_val length: {len(y_val)}')"
   ]
  },
  {
   "cell_type": "code",
   "execution_count": 78,
   "id": "54ead057-e7ba-41e0-8340-0acbbec6b6b5",
   "metadata": {},
   "outputs": [],
   "source": [
    "x_train, x_test, y_train, y_test = train_test_split(X,\n",
    "                                                    y,\n",
    "                                                    test_size = 0.20)\n",
    "x_train, x_val, y_train, y_val = train_test_split(x_train,\n",
    "                                                  y_train,\n",
    "                                                  test_size= 0.25,\n",
    "                                                  random_state = 13) "
   ]
  },
  {
   "cell_type": "markdown",
   "id": "e817a000-cfd9-42aa-9f6a-3d576229ccc8",
   "metadata": {},
   "source": [
    "### <div align='justify' style='color:blue'>**Considering that best practices recommend allocating 60% to 80% of the data to the training dataset, with the test and validation datasets each comprising around 10% to 20%, I explored various combinations for their distribution. However, given that SVM models take time to build and might strain resources, especially with datasets exceeding 10,000 records, I opted for a 60% allocation for the training dataset (this ensures ample data for pattern search). For the validation and test datasets, I adhered to a 20% allocation for each against the entire dataset (this allocation provides a balanced number of records for tuning and evaluating model performance). I made some adjustments to ensure that the validation set constituted around 20% of the entire dataset, considering the functionality of the train_test_split method.**</div> "
   ]
  },
  {
   "cell_type": "markdown",
   "id": "dd9ad22c-3b5d-4364-92bc-874968bc75bd",
   "metadata": {},
   "source": [
    "### **Creating models with different values for the hyperparameters:**\n",
    "* **kernel, being the options available: 'rbf' (default value), 'poly', 'linear', 'sigmoid' and 'precomputed', but for this exercise the focus will be the on the first three.**\n",
    "* **C, float value expected being the default value 1.0.**\n",
    "* **degree, int value expected being the deafult value '3' (used in case kernel is set to 'poly' otherwise it is ignored).**\n",
    "* **gamma, being the options available: 'auto' and 'sclae', being the last one the default value. Used in case kernel is 'rbf', 'poly' or 'sigmoid'**\n",
    "* **default_function_shape, available values: 'ovo' and 'ovr' being the last one the deault value.**"
   ]
  },
  {
   "cell_type": "markdown",
   "id": "040eb79c-610a-412b-92c3-03a74e33a9cf",
   "metadata": {},
   "source": [
    "### **Developing Support Vector Machine models using the sci-kit learn module for it. Experimenting with different values of the C parameter and trying out various kernels such as linear, RBF (with different choices of gamma), and polynomial (with different degrees). Additionally, exploring both options for decision_function_shape. For each required kernel, there is a pair of models with default or customized values for the hyperparameters mentioned earlier.**"
   ]
  },
  {
   "cell_type": "code",
   "execution_count": 79,
   "id": "8ec824ce-9796-4a6b-b339-b53a5b7af9db",
   "metadata": {},
   "outputs": [],
   "source": [
    "model_1 = SVC(C = 0.001, kernel = 'rbf', gamma = 'auto', decision_function_shape = 'ovo')"
   ]
  },
  {
   "cell_type": "code",
   "execution_count": 80,
   "id": "9cbbfc4e-ca91-4a4b-8e14-232b8b425ab3",
   "metadata": {},
   "outputs": [
    {
     "data": {
      "text/html": [
       "<style>#sk-container-id-1 {color: black;background-color: white;}#sk-container-id-1 pre{padding: 0;}#sk-container-id-1 div.sk-toggleable {background-color: white;}#sk-container-id-1 label.sk-toggleable__label {cursor: pointer;display: block;width: 100%;margin-bottom: 0;padding: 0.3em;box-sizing: border-box;text-align: center;}#sk-container-id-1 label.sk-toggleable__label-arrow:before {content: \"▸\";float: left;margin-right: 0.25em;color: #696969;}#sk-container-id-1 label.sk-toggleable__label-arrow:hover:before {color: black;}#sk-container-id-1 div.sk-estimator:hover label.sk-toggleable__label-arrow:before {color: black;}#sk-container-id-1 div.sk-toggleable__content {max-height: 0;max-width: 0;overflow: hidden;text-align: left;background-color: #f0f8ff;}#sk-container-id-1 div.sk-toggleable__content pre {margin: 0.2em;color: black;border-radius: 0.25em;background-color: #f0f8ff;}#sk-container-id-1 input.sk-toggleable__control:checked~div.sk-toggleable__content {max-height: 200px;max-width: 100%;overflow: auto;}#sk-container-id-1 input.sk-toggleable__control:checked~label.sk-toggleable__label-arrow:before {content: \"▾\";}#sk-container-id-1 div.sk-estimator input.sk-toggleable__control:checked~label.sk-toggleable__label {background-color: #d4ebff;}#sk-container-id-1 div.sk-label input.sk-toggleable__control:checked~label.sk-toggleable__label {background-color: #d4ebff;}#sk-container-id-1 input.sk-hidden--visually {border: 0;clip: rect(1px 1px 1px 1px);clip: rect(1px, 1px, 1px, 1px);height: 1px;margin: -1px;overflow: hidden;padding: 0;position: absolute;width: 1px;}#sk-container-id-1 div.sk-estimator {font-family: monospace;background-color: #f0f8ff;border: 1px dotted black;border-radius: 0.25em;box-sizing: border-box;margin-bottom: 0.5em;}#sk-container-id-1 div.sk-estimator:hover {background-color: #d4ebff;}#sk-container-id-1 div.sk-parallel-item::after {content: \"\";width: 100%;border-bottom: 1px solid gray;flex-grow: 1;}#sk-container-id-1 div.sk-label:hover label.sk-toggleable__label {background-color: #d4ebff;}#sk-container-id-1 div.sk-serial::before {content: \"\";position: absolute;border-left: 1px solid gray;box-sizing: border-box;top: 0;bottom: 0;left: 50%;z-index: 0;}#sk-container-id-1 div.sk-serial {display: flex;flex-direction: column;align-items: center;background-color: white;padding-right: 0.2em;padding-left: 0.2em;position: relative;}#sk-container-id-1 div.sk-item {position: relative;z-index: 1;}#sk-container-id-1 div.sk-parallel {display: flex;align-items: stretch;justify-content: center;background-color: white;position: relative;}#sk-container-id-1 div.sk-item::before, #sk-container-id-1 div.sk-parallel-item::before {content: \"\";position: absolute;border-left: 1px solid gray;box-sizing: border-box;top: 0;bottom: 0;left: 50%;z-index: -1;}#sk-container-id-1 div.sk-parallel-item {display: flex;flex-direction: column;z-index: 1;position: relative;background-color: white;}#sk-container-id-1 div.sk-parallel-item:first-child::after {align-self: flex-end;width: 50%;}#sk-container-id-1 div.sk-parallel-item:last-child::after {align-self: flex-start;width: 50%;}#sk-container-id-1 div.sk-parallel-item:only-child::after {width: 0;}#sk-container-id-1 div.sk-dashed-wrapped {border: 1px dashed gray;margin: 0 0.4em 0.5em 0.4em;box-sizing: border-box;padding-bottom: 0.4em;background-color: white;}#sk-container-id-1 div.sk-label label {font-family: monospace;font-weight: bold;display: inline-block;line-height: 1.2em;}#sk-container-id-1 div.sk-label-container {text-align: center;}#sk-container-id-1 div.sk-container {/* jupyter's `normalize.less` sets `[hidden] { display: none; }` but bootstrap.min.css set `[hidden] { display: none !important; }` so we also need the `!important` here to be able to override the default hidden behavior on the sphinx rendered scikit-learn.org. See: https://github.com/scikit-learn/scikit-learn/issues/21755 */display: inline-block !important;position: relative;}#sk-container-id-1 div.sk-text-repr-fallback {display: none;}</style><div id=\"sk-container-id-1\" class=\"sk-top-container\"><div class=\"sk-text-repr-fallback\"><pre>SVC(C=0.001, decision_function_shape=&#x27;ovo&#x27;, gamma=&#x27;auto&#x27;)</pre><b>In a Jupyter environment, please rerun this cell to show the HTML representation or trust the notebook. <br />On GitHub, the HTML representation is unable to render, please try loading this page with nbviewer.org.</b></div><div class=\"sk-container\" hidden><div class=\"sk-item\"><div class=\"sk-estimator sk-toggleable\"><input class=\"sk-toggleable__control sk-hidden--visually\" id=\"sk-estimator-id-1\" type=\"checkbox\" checked><label for=\"sk-estimator-id-1\" class=\"sk-toggleable__label sk-toggleable__label-arrow\">SVC</label><div class=\"sk-toggleable__content\"><pre>SVC(C=0.001, decision_function_shape=&#x27;ovo&#x27;, gamma=&#x27;auto&#x27;)</pre></div></div></div></div></div>"
      ],
      "text/plain": [
       "SVC(C=0.001, decision_function_shape='ovo', gamma='auto')"
      ]
     },
     "execution_count": 80,
     "metadata": {},
     "output_type": "execute_result"
    }
   ],
   "source": [
    "model_1.fit(x_train, y_train)"
   ]
  },
  {
   "cell_type": "code",
   "execution_count": 81,
   "id": "e5f0bfa0-b0fb-4443-8c28-e003e099c247",
   "metadata": {},
   "outputs": [
    {
     "data": {
      "text/html": [
       "<style>#sk-container-id-2 {color: black;background-color: white;}#sk-container-id-2 pre{padding: 0;}#sk-container-id-2 div.sk-toggleable {background-color: white;}#sk-container-id-2 label.sk-toggleable__label {cursor: pointer;display: block;width: 100%;margin-bottom: 0;padding: 0.3em;box-sizing: border-box;text-align: center;}#sk-container-id-2 label.sk-toggleable__label-arrow:before {content: \"▸\";float: left;margin-right: 0.25em;color: #696969;}#sk-container-id-2 label.sk-toggleable__label-arrow:hover:before {color: black;}#sk-container-id-2 div.sk-estimator:hover label.sk-toggleable__label-arrow:before {color: black;}#sk-container-id-2 div.sk-toggleable__content {max-height: 0;max-width: 0;overflow: hidden;text-align: left;background-color: #f0f8ff;}#sk-container-id-2 div.sk-toggleable__content pre {margin: 0.2em;color: black;border-radius: 0.25em;background-color: #f0f8ff;}#sk-container-id-2 input.sk-toggleable__control:checked~div.sk-toggleable__content {max-height: 200px;max-width: 100%;overflow: auto;}#sk-container-id-2 input.sk-toggleable__control:checked~label.sk-toggleable__label-arrow:before {content: \"▾\";}#sk-container-id-2 div.sk-estimator input.sk-toggleable__control:checked~label.sk-toggleable__label {background-color: #d4ebff;}#sk-container-id-2 div.sk-label input.sk-toggleable__control:checked~label.sk-toggleable__label {background-color: #d4ebff;}#sk-container-id-2 input.sk-hidden--visually {border: 0;clip: rect(1px 1px 1px 1px);clip: rect(1px, 1px, 1px, 1px);height: 1px;margin: -1px;overflow: hidden;padding: 0;position: absolute;width: 1px;}#sk-container-id-2 div.sk-estimator {font-family: monospace;background-color: #f0f8ff;border: 1px dotted black;border-radius: 0.25em;box-sizing: border-box;margin-bottom: 0.5em;}#sk-container-id-2 div.sk-estimator:hover {background-color: #d4ebff;}#sk-container-id-2 div.sk-parallel-item::after {content: \"\";width: 100%;border-bottom: 1px solid gray;flex-grow: 1;}#sk-container-id-2 div.sk-label:hover label.sk-toggleable__label {background-color: #d4ebff;}#sk-container-id-2 div.sk-serial::before {content: \"\";position: absolute;border-left: 1px solid gray;box-sizing: border-box;top: 0;bottom: 0;left: 50%;z-index: 0;}#sk-container-id-2 div.sk-serial {display: flex;flex-direction: column;align-items: center;background-color: white;padding-right: 0.2em;padding-left: 0.2em;position: relative;}#sk-container-id-2 div.sk-item {position: relative;z-index: 1;}#sk-container-id-2 div.sk-parallel {display: flex;align-items: stretch;justify-content: center;background-color: white;position: relative;}#sk-container-id-2 div.sk-item::before, #sk-container-id-2 div.sk-parallel-item::before {content: \"\";position: absolute;border-left: 1px solid gray;box-sizing: border-box;top: 0;bottom: 0;left: 50%;z-index: -1;}#sk-container-id-2 div.sk-parallel-item {display: flex;flex-direction: column;z-index: 1;position: relative;background-color: white;}#sk-container-id-2 div.sk-parallel-item:first-child::after {align-self: flex-end;width: 50%;}#sk-container-id-2 div.sk-parallel-item:last-child::after {align-self: flex-start;width: 50%;}#sk-container-id-2 div.sk-parallel-item:only-child::after {width: 0;}#sk-container-id-2 div.sk-dashed-wrapped {border: 1px dashed gray;margin: 0 0.4em 0.5em 0.4em;box-sizing: border-box;padding-bottom: 0.4em;background-color: white;}#sk-container-id-2 div.sk-label label {font-family: monospace;font-weight: bold;display: inline-block;line-height: 1.2em;}#sk-container-id-2 div.sk-label-container {text-align: center;}#sk-container-id-2 div.sk-container {/* jupyter's `normalize.less` sets `[hidden] { display: none; }` but bootstrap.min.css set `[hidden] { display: none !important; }` so we also need the `!important` here to be able to override the default hidden behavior on the sphinx rendered scikit-learn.org. See: https://github.com/scikit-learn/scikit-learn/issues/21755 */display: inline-block !important;position: relative;}#sk-container-id-2 div.sk-text-repr-fallback {display: none;}</style><div id=\"sk-container-id-2\" class=\"sk-top-container\"><div class=\"sk-text-repr-fallback\"><pre>SVC(C=0.001, decision_function_shape=&#x27;ovo&#x27;, gamma=&#x27;auto&#x27;)</pre><b>In a Jupyter environment, please rerun this cell to show the HTML representation or trust the notebook. <br />On GitHub, the HTML representation is unable to render, please try loading this page with nbviewer.org.</b></div><div class=\"sk-container\" hidden><div class=\"sk-item\"><div class=\"sk-estimator sk-toggleable\"><input class=\"sk-toggleable__control sk-hidden--visually\" id=\"sk-estimator-id-2\" type=\"checkbox\" checked><label for=\"sk-estimator-id-2\" class=\"sk-toggleable__label sk-toggleable__label-arrow\">SVC</label><div class=\"sk-toggleable__content\"><pre>SVC(C=0.001, decision_function_shape=&#x27;ovo&#x27;, gamma=&#x27;auto&#x27;)</pre></div></div></div></div></div>"
      ],
      "text/plain": [
       "SVC(C=0.001, decision_function_shape='ovo', gamma='auto')"
      ]
     },
     "execution_count": 81,
     "metadata": {},
     "output_type": "execute_result"
    }
   ],
   "source": [
    "model_1.fit(x_val, y_val)"
   ]
  },
  {
   "cell_type": "code",
   "execution_count": 82,
   "id": "c0bdec24-39fd-4291-8eab-ac5baa5c50f4",
   "metadata": {},
   "outputs": [],
   "source": [
    "model_2 = SVC(kernel = 'rbf')"
   ]
  },
  {
   "cell_type": "code",
   "execution_count": 83,
   "id": "8c954176-913d-41e0-b14e-0a0e07032a3b",
   "metadata": {},
   "outputs": [
    {
     "data": {
      "text/html": [
       "<style>#sk-container-id-3 {color: black;background-color: white;}#sk-container-id-3 pre{padding: 0;}#sk-container-id-3 div.sk-toggleable {background-color: white;}#sk-container-id-3 label.sk-toggleable__label {cursor: pointer;display: block;width: 100%;margin-bottom: 0;padding: 0.3em;box-sizing: border-box;text-align: center;}#sk-container-id-3 label.sk-toggleable__label-arrow:before {content: \"▸\";float: left;margin-right: 0.25em;color: #696969;}#sk-container-id-3 label.sk-toggleable__label-arrow:hover:before {color: black;}#sk-container-id-3 div.sk-estimator:hover label.sk-toggleable__label-arrow:before {color: black;}#sk-container-id-3 div.sk-toggleable__content {max-height: 0;max-width: 0;overflow: hidden;text-align: left;background-color: #f0f8ff;}#sk-container-id-3 div.sk-toggleable__content pre {margin: 0.2em;color: black;border-radius: 0.25em;background-color: #f0f8ff;}#sk-container-id-3 input.sk-toggleable__control:checked~div.sk-toggleable__content {max-height: 200px;max-width: 100%;overflow: auto;}#sk-container-id-3 input.sk-toggleable__control:checked~label.sk-toggleable__label-arrow:before {content: \"▾\";}#sk-container-id-3 div.sk-estimator input.sk-toggleable__control:checked~label.sk-toggleable__label {background-color: #d4ebff;}#sk-container-id-3 div.sk-label input.sk-toggleable__control:checked~label.sk-toggleable__label {background-color: #d4ebff;}#sk-container-id-3 input.sk-hidden--visually {border: 0;clip: rect(1px 1px 1px 1px);clip: rect(1px, 1px, 1px, 1px);height: 1px;margin: -1px;overflow: hidden;padding: 0;position: absolute;width: 1px;}#sk-container-id-3 div.sk-estimator {font-family: monospace;background-color: #f0f8ff;border: 1px dotted black;border-radius: 0.25em;box-sizing: border-box;margin-bottom: 0.5em;}#sk-container-id-3 div.sk-estimator:hover {background-color: #d4ebff;}#sk-container-id-3 div.sk-parallel-item::after {content: \"\";width: 100%;border-bottom: 1px solid gray;flex-grow: 1;}#sk-container-id-3 div.sk-label:hover label.sk-toggleable__label {background-color: #d4ebff;}#sk-container-id-3 div.sk-serial::before {content: \"\";position: absolute;border-left: 1px solid gray;box-sizing: border-box;top: 0;bottom: 0;left: 50%;z-index: 0;}#sk-container-id-3 div.sk-serial {display: flex;flex-direction: column;align-items: center;background-color: white;padding-right: 0.2em;padding-left: 0.2em;position: relative;}#sk-container-id-3 div.sk-item {position: relative;z-index: 1;}#sk-container-id-3 div.sk-parallel {display: flex;align-items: stretch;justify-content: center;background-color: white;position: relative;}#sk-container-id-3 div.sk-item::before, #sk-container-id-3 div.sk-parallel-item::before {content: \"\";position: absolute;border-left: 1px solid gray;box-sizing: border-box;top: 0;bottom: 0;left: 50%;z-index: -1;}#sk-container-id-3 div.sk-parallel-item {display: flex;flex-direction: column;z-index: 1;position: relative;background-color: white;}#sk-container-id-3 div.sk-parallel-item:first-child::after {align-self: flex-end;width: 50%;}#sk-container-id-3 div.sk-parallel-item:last-child::after {align-self: flex-start;width: 50%;}#sk-container-id-3 div.sk-parallel-item:only-child::after {width: 0;}#sk-container-id-3 div.sk-dashed-wrapped {border: 1px dashed gray;margin: 0 0.4em 0.5em 0.4em;box-sizing: border-box;padding-bottom: 0.4em;background-color: white;}#sk-container-id-3 div.sk-label label {font-family: monospace;font-weight: bold;display: inline-block;line-height: 1.2em;}#sk-container-id-3 div.sk-label-container {text-align: center;}#sk-container-id-3 div.sk-container {/* jupyter's `normalize.less` sets `[hidden] { display: none; }` but bootstrap.min.css set `[hidden] { display: none !important; }` so we also need the `!important` here to be able to override the default hidden behavior on the sphinx rendered scikit-learn.org. See: https://github.com/scikit-learn/scikit-learn/issues/21755 */display: inline-block !important;position: relative;}#sk-container-id-3 div.sk-text-repr-fallback {display: none;}</style><div id=\"sk-container-id-3\" class=\"sk-top-container\"><div class=\"sk-text-repr-fallback\"><pre>SVC()</pre><b>In a Jupyter environment, please rerun this cell to show the HTML representation or trust the notebook. <br />On GitHub, the HTML representation is unable to render, please try loading this page with nbviewer.org.</b></div><div class=\"sk-container\" hidden><div class=\"sk-item\"><div class=\"sk-estimator sk-toggleable\"><input class=\"sk-toggleable__control sk-hidden--visually\" id=\"sk-estimator-id-3\" type=\"checkbox\" checked><label for=\"sk-estimator-id-3\" class=\"sk-toggleable__label sk-toggleable__label-arrow\">SVC</label><div class=\"sk-toggleable__content\"><pre>SVC()</pre></div></div></div></div></div>"
      ],
      "text/plain": [
       "SVC()"
      ]
     },
     "execution_count": 83,
     "metadata": {},
     "output_type": "execute_result"
    }
   ],
   "source": [
    "model_2.fit(x_train, y_train)"
   ]
  },
  {
   "cell_type": "code",
   "execution_count": 84,
   "id": "65c90511-f834-4b19-8b3c-f14946827203",
   "metadata": {},
   "outputs": [
    {
     "data": {
      "text/html": [
       "<style>#sk-container-id-4 {color: black;background-color: white;}#sk-container-id-4 pre{padding: 0;}#sk-container-id-4 div.sk-toggleable {background-color: white;}#sk-container-id-4 label.sk-toggleable__label {cursor: pointer;display: block;width: 100%;margin-bottom: 0;padding: 0.3em;box-sizing: border-box;text-align: center;}#sk-container-id-4 label.sk-toggleable__label-arrow:before {content: \"▸\";float: left;margin-right: 0.25em;color: #696969;}#sk-container-id-4 label.sk-toggleable__label-arrow:hover:before {color: black;}#sk-container-id-4 div.sk-estimator:hover label.sk-toggleable__label-arrow:before {color: black;}#sk-container-id-4 div.sk-toggleable__content {max-height: 0;max-width: 0;overflow: hidden;text-align: left;background-color: #f0f8ff;}#sk-container-id-4 div.sk-toggleable__content pre {margin: 0.2em;color: black;border-radius: 0.25em;background-color: #f0f8ff;}#sk-container-id-4 input.sk-toggleable__control:checked~div.sk-toggleable__content {max-height: 200px;max-width: 100%;overflow: auto;}#sk-container-id-4 input.sk-toggleable__control:checked~label.sk-toggleable__label-arrow:before {content: \"▾\";}#sk-container-id-4 div.sk-estimator input.sk-toggleable__control:checked~label.sk-toggleable__label {background-color: #d4ebff;}#sk-container-id-4 div.sk-label input.sk-toggleable__control:checked~label.sk-toggleable__label {background-color: #d4ebff;}#sk-container-id-4 input.sk-hidden--visually {border: 0;clip: rect(1px 1px 1px 1px);clip: rect(1px, 1px, 1px, 1px);height: 1px;margin: -1px;overflow: hidden;padding: 0;position: absolute;width: 1px;}#sk-container-id-4 div.sk-estimator {font-family: monospace;background-color: #f0f8ff;border: 1px dotted black;border-radius: 0.25em;box-sizing: border-box;margin-bottom: 0.5em;}#sk-container-id-4 div.sk-estimator:hover {background-color: #d4ebff;}#sk-container-id-4 div.sk-parallel-item::after {content: \"\";width: 100%;border-bottom: 1px solid gray;flex-grow: 1;}#sk-container-id-4 div.sk-label:hover label.sk-toggleable__label {background-color: #d4ebff;}#sk-container-id-4 div.sk-serial::before {content: \"\";position: absolute;border-left: 1px solid gray;box-sizing: border-box;top: 0;bottom: 0;left: 50%;z-index: 0;}#sk-container-id-4 div.sk-serial {display: flex;flex-direction: column;align-items: center;background-color: white;padding-right: 0.2em;padding-left: 0.2em;position: relative;}#sk-container-id-4 div.sk-item {position: relative;z-index: 1;}#sk-container-id-4 div.sk-parallel {display: flex;align-items: stretch;justify-content: center;background-color: white;position: relative;}#sk-container-id-4 div.sk-item::before, #sk-container-id-4 div.sk-parallel-item::before {content: \"\";position: absolute;border-left: 1px solid gray;box-sizing: border-box;top: 0;bottom: 0;left: 50%;z-index: -1;}#sk-container-id-4 div.sk-parallel-item {display: flex;flex-direction: column;z-index: 1;position: relative;background-color: white;}#sk-container-id-4 div.sk-parallel-item:first-child::after {align-self: flex-end;width: 50%;}#sk-container-id-4 div.sk-parallel-item:last-child::after {align-self: flex-start;width: 50%;}#sk-container-id-4 div.sk-parallel-item:only-child::after {width: 0;}#sk-container-id-4 div.sk-dashed-wrapped {border: 1px dashed gray;margin: 0 0.4em 0.5em 0.4em;box-sizing: border-box;padding-bottom: 0.4em;background-color: white;}#sk-container-id-4 div.sk-label label {font-family: monospace;font-weight: bold;display: inline-block;line-height: 1.2em;}#sk-container-id-4 div.sk-label-container {text-align: center;}#sk-container-id-4 div.sk-container {/* jupyter's `normalize.less` sets `[hidden] { display: none; }` but bootstrap.min.css set `[hidden] { display: none !important; }` so we also need the `!important` here to be able to override the default hidden behavior on the sphinx rendered scikit-learn.org. See: https://github.com/scikit-learn/scikit-learn/issues/21755 */display: inline-block !important;position: relative;}#sk-container-id-4 div.sk-text-repr-fallback {display: none;}</style><div id=\"sk-container-id-4\" class=\"sk-top-container\"><div class=\"sk-text-repr-fallback\"><pre>SVC()</pre><b>In a Jupyter environment, please rerun this cell to show the HTML representation or trust the notebook. <br />On GitHub, the HTML representation is unable to render, please try loading this page with nbviewer.org.</b></div><div class=\"sk-container\" hidden><div class=\"sk-item\"><div class=\"sk-estimator sk-toggleable\"><input class=\"sk-toggleable__control sk-hidden--visually\" id=\"sk-estimator-id-4\" type=\"checkbox\" checked><label for=\"sk-estimator-id-4\" class=\"sk-toggleable__label sk-toggleable__label-arrow\">SVC</label><div class=\"sk-toggleable__content\"><pre>SVC()</pre></div></div></div></div></div>"
      ],
      "text/plain": [
       "SVC()"
      ]
     },
     "execution_count": 84,
     "metadata": {},
     "output_type": "execute_result"
    }
   ],
   "source": [
    "model_2.fit(x_val, y_val)"
   ]
  },
  {
   "cell_type": "markdown",
   "id": "e8979c55-13fa-4d86-a8bd-dc2a96fb016f",
   "metadata": {},
   "source": [
    "### **Standardizing features by removing the mean and scaling to unit variance can prevent SVC from taking too long, assuming it doesn't hang in the process. In fact, documentation states that \"Support Vector Machine algorithms are not scale invariant, so it is highly recommended to scale your data.\" During trials, when creating the model using either a linear or polynomial kernel, the data must be scaled beforehand to actually build the model. Moreover, to have diverse models, I decided to create some with scaled data while others not.**"
   ]
  },
  {
   "cell_type": "code",
   "execution_count": 85,
   "id": "58854611-7eca-45cc-b056-355933a8b6d1",
   "metadata": {},
   "outputs": [],
   "source": [
    "sc = StandardScaler() # Creating the Standard_Scaler object\n",
    "x_train_scaled = sc.fit_transform(x_train) # Scaling x_train data\n",
    "x_val_scaled = sc.fit_transform(x_val) # Scaling x_val data"
   ]
  },
  {
   "cell_type": "code",
   "execution_count": 86,
   "id": "a1597828-d2b9-451c-967f-366b7d313a30",
   "metadata": {},
   "outputs": [],
   "source": [
    "model_3 = SVC(C = 0.001, kernel = 'linear', decision_function_shape = 'ovo')"
   ]
  },
  {
   "cell_type": "code",
   "execution_count": 87,
   "id": "08fc7a5b-97e3-4267-9ae3-f6cbc679cc59",
   "metadata": {},
   "outputs": [
    {
     "data": {
      "text/html": [
       "<style>#sk-container-id-5 {color: black;background-color: white;}#sk-container-id-5 pre{padding: 0;}#sk-container-id-5 div.sk-toggleable {background-color: white;}#sk-container-id-5 label.sk-toggleable__label {cursor: pointer;display: block;width: 100%;margin-bottom: 0;padding: 0.3em;box-sizing: border-box;text-align: center;}#sk-container-id-5 label.sk-toggleable__label-arrow:before {content: \"▸\";float: left;margin-right: 0.25em;color: #696969;}#sk-container-id-5 label.sk-toggleable__label-arrow:hover:before {color: black;}#sk-container-id-5 div.sk-estimator:hover label.sk-toggleable__label-arrow:before {color: black;}#sk-container-id-5 div.sk-toggleable__content {max-height: 0;max-width: 0;overflow: hidden;text-align: left;background-color: #f0f8ff;}#sk-container-id-5 div.sk-toggleable__content pre {margin: 0.2em;color: black;border-radius: 0.25em;background-color: #f0f8ff;}#sk-container-id-5 input.sk-toggleable__control:checked~div.sk-toggleable__content {max-height: 200px;max-width: 100%;overflow: auto;}#sk-container-id-5 input.sk-toggleable__control:checked~label.sk-toggleable__label-arrow:before {content: \"▾\";}#sk-container-id-5 div.sk-estimator input.sk-toggleable__control:checked~label.sk-toggleable__label {background-color: #d4ebff;}#sk-container-id-5 div.sk-label input.sk-toggleable__control:checked~label.sk-toggleable__label {background-color: #d4ebff;}#sk-container-id-5 input.sk-hidden--visually {border: 0;clip: rect(1px 1px 1px 1px);clip: rect(1px, 1px, 1px, 1px);height: 1px;margin: -1px;overflow: hidden;padding: 0;position: absolute;width: 1px;}#sk-container-id-5 div.sk-estimator {font-family: monospace;background-color: #f0f8ff;border: 1px dotted black;border-radius: 0.25em;box-sizing: border-box;margin-bottom: 0.5em;}#sk-container-id-5 div.sk-estimator:hover {background-color: #d4ebff;}#sk-container-id-5 div.sk-parallel-item::after {content: \"\";width: 100%;border-bottom: 1px solid gray;flex-grow: 1;}#sk-container-id-5 div.sk-label:hover label.sk-toggleable__label {background-color: #d4ebff;}#sk-container-id-5 div.sk-serial::before {content: \"\";position: absolute;border-left: 1px solid gray;box-sizing: border-box;top: 0;bottom: 0;left: 50%;z-index: 0;}#sk-container-id-5 div.sk-serial {display: flex;flex-direction: column;align-items: center;background-color: white;padding-right: 0.2em;padding-left: 0.2em;position: relative;}#sk-container-id-5 div.sk-item {position: relative;z-index: 1;}#sk-container-id-5 div.sk-parallel {display: flex;align-items: stretch;justify-content: center;background-color: white;position: relative;}#sk-container-id-5 div.sk-item::before, #sk-container-id-5 div.sk-parallel-item::before {content: \"\";position: absolute;border-left: 1px solid gray;box-sizing: border-box;top: 0;bottom: 0;left: 50%;z-index: -1;}#sk-container-id-5 div.sk-parallel-item {display: flex;flex-direction: column;z-index: 1;position: relative;background-color: white;}#sk-container-id-5 div.sk-parallel-item:first-child::after {align-self: flex-end;width: 50%;}#sk-container-id-5 div.sk-parallel-item:last-child::after {align-self: flex-start;width: 50%;}#sk-container-id-5 div.sk-parallel-item:only-child::after {width: 0;}#sk-container-id-5 div.sk-dashed-wrapped {border: 1px dashed gray;margin: 0 0.4em 0.5em 0.4em;box-sizing: border-box;padding-bottom: 0.4em;background-color: white;}#sk-container-id-5 div.sk-label label {font-family: monospace;font-weight: bold;display: inline-block;line-height: 1.2em;}#sk-container-id-5 div.sk-label-container {text-align: center;}#sk-container-id-5 div.sk-container {/* jupyter's `normalize.less` sets `[hidden] { display: none; }` but bootstrap.min.css set `[hidden] { display: none !important; }` so we also need the `!important` here to be able to override the default hidden behavior on the sphinx rendered scikit-learn.org. See: https://github.com/scikit-learn/scikit-learn/issues/21755 */display: inline-block !important;position: relative;}#sk-container-id-5 div.sk-text-repr-fallback {display: none;}</style><div id=\"sk-container-id-5\" class=\"sk-top-container\"><div class=\"sk-text-repr-fallback\"><pre>SVC(C=0.001, decision_function_shape=&#x27;ovo&#x27;, kernel=&#x27;linear&#x27;)</pre><b>In a Jupyter environment, please rerun this cell to show the HTML representation or trust the notebook. <br />On GitHub, the HTML representation is unable to render, please try loading this page with nbviewer.org.</b></div><div class=\"sk-container\" hidden><div class=\"sk-item\"><div class=\"sk-estimator sk-toggleable\"><input class=\"sk-toggleable__control sk-hidden--visually\" id=\"sk-estimator-id-5\" type=\"checkbox\" checked><label for=\"sk-estimator-id-5\" class=\"sk-toggleable__label sk-toggleable__label-arrow\">SVC</label><div class=\"sk-toggleable__content\"><pre>SVC(C=0.001, decision_function_shape=&#x27;ovo&#x27;, kernel=&#x27;linear&#x27;)</pre></div></div></div></div></div>"
      ],
      "text/plain": [
       "SVC(C=0.001, decision_function_shape='ovo', kernel='linear')"
      ]
     },
     "execution_count": 87,
     "metadata": {},
     "output_type": "execute_result"
    }
   ],
   "source": [
    "model_3.fit(x_train_scaled, y_train)"
   ]
  },
  {
   "cell_type": "code",
   "execution_count": 88,
   "id": "7602870d-4112-4fb7-81ee-3fdb28444492",
   "metadata": {},
   "outputs": [
    {
     "data": {
      "text/html": [
       "<style>#sk-container-id-6 {color: black;background-color: white;}#sk-container-id-6 pre{padding: 0;}#sk-container-id-6 div.sk-toggleable {background-color: white;}#sk-container-id-6 label.sk-toggleable__label {cursor: pointer;display: block;width: 100%;margin-bottom: 0;padding: 0.3em;box-sizing: border-box;text-align: center;}#sk-container-id-6 label.sk-toggleable__label-arrow:before {content: \"▸\";float: left;margin-right: 0.25em;color: #696969;}#sk-container-id-6 label.sk-toggleable__label-arrow:hover:before {color: black;}#sk-container-id-6 div.sk-estimator:hover label.sk-toggleable__label-arrow:before {color: black;}#sk-container-id-6 div.sk-toggleable__content {max-height: 0;max-width: 0;overflow: hidden;text-align: left;background-color: #f0f8ff;}#sk-container-id-6 div.sk-toggleable__content pre {margin: 0.2em;color: black;border-radius: 0.25em;background-color: #f0f8ff;}#sk-container-id-6 input.sk-toggleable__control:checked~div.sk-toggleable__content {max-height: 200px;max-width: 100%;overflow: auto;}#sk-container-id-6 input.sk-toggleable__control:checked~label.sk-toggleable__label-arrow:before {content: \"▾\";}#sk-container-id-6 div.sk-estimator input.sk-toggleable__control:checked~label.sk-toggleable__label {background-color: #d4ebff;}#sk-container-id-6 div.sk-label input.sk-toggleable__control:checked~label.sk-toggleable__label {background-color: #d4ebff;}#sk-container-id-6 input.sk-hidden--visually {border: 0;clip: rect(1px 1px 1px 1px);clip: rect(1px, 1px, 1px, 1px);height: 1px;margin: -1px;overflow: hidden;padding: 0;position: absolute;width: 1px;}#sk-container-id-6 div.sk-estimator {font-family: monospace;background-color: #f0f8ff;border: 1px dotted black;border-radius: 0.25em;box-sizing: border-box;margin-bottom: 0.5em;}#sk-container-id-6 div.sk-estimator:hover {background-color: #d4ebff;}#sk-container-id-6 div.sk-parallel-item::after {content: \"\";width: 100%;border-bottom: 1px solid gray;flex-grow: 1;}#sk-container-id-6 div.sk-label:hover label.sk-toggleable__label {background-color: #d4ebff;}#sk-container-id-6 div.sk-serial::before {content: \"\";position: absolute;border-left: 1px solid gray;box-sizing: border-box;top: 0;bottom: 0;left: 50%;z-index: 0;}#sk-container-id-6 div.sk-serial {display: flex;flex-direction: column;align-items: center;background-color: white;padding-right: 0.2em;padding-left: 0.2em;position: relative;}#sk-container-id-6 div.sk-item {position: relative;z-index: 1;}#sk-container-id-6 div.sk-parallel {display: flex;align-items: stretch;justify-content: center;background-color: white;position: relative;}#sk-container-id-6 div.sk-item::before, #sk-container-id-6 div.sk-parallel-item::before {content: \"\";position: absolute;border-left: 1px solid gray;box-sizing: border-box;top: 0;bottom: 0;left: 50%;z-index: -1;}#sk-container-id-6 div.sk-parallel-item {display: flex;flex-direction: column;z-index: 1;position: relative;background-color: white;}#sk-container-id-6 div.sk-parallel-item:first-child::after {align-self: flex-end;width: 50%;}#sk-container-id-6 div.sk-parallel-item:last-child::after {align-self: flex-start;width: 50%;}#sk-container-id-6 div.sk-parallel-item:only-child::after {width: 0;}#sk-container-id-6 div.sk-dashed-wrapped {border: 1px dashed gray;margin: 0 0.4em 0.5em 0.4em;box-sizing: border-box;padding-bottom: 0.4em;background-color: white;}#sk-container-id-6 div.sk-label label {font-family: monospace;font-weight: bold;display: inline-block;line-height: 1.2em;}#sk-container-id-6 div.sk-label-container {text-align: center;}#sk-container-id-6 div.sk-container {/* jupyter's `normalize.less` sets `[hidden] { display: none; }` but bootstrap.min.css set `[hidden] { display: none !important; }` so we also need the `!important` here to be able to override the default hidden behavior on the sphinx rendered scikit-learn.org. See: https://github.com/scikit-learn/scikit-learn/issues/21755 */display: inline-block !important;position: relative;}#sk-container-id-6 div.sk-text-repr-fallback {display: none;}</style><div id=\"sk-container-id-6\" class=\"sk-top-container\"><div class=\"sk-text-repr-fallback\"><pre>SVC(C=0.001, decision_function_shape=&#x27;ovo&#x27;, kernel=&#x27;linear&#x27;)</pre><b>In a Jupyter environment, please rerun this cell to show the HTML representation or trust the notebook. <br />On GitHub, the HTML representation is unable to render, please try loading this page with nbviewer.org.</b></div><div class=\"sk-container\" hidden><div class=\"sk-item\"><div class=\"sk-estimator sk-toggleable\"><input class=\"sk-toggleable__control sk-hidden--visually\" id=\"sk-estimator-id-6\" type=\"checkbox\" checked><label for=\"sk-estimator-id-6\" class=\"sk-toggleable__label sk-toggleable__label-arrow\">SVC</label><div class=\"sk-toggleable__content\"><pre>SVC(C=0.001, decision_function_shape=&#x27;ovo&#x27;, kernel=&#x27;linear&#x27;)</pre></div></div></div></div></div>"
      ],
      "text/plain": [
       "SVC(C=0.001, decision_function_shape='ovo', kernel='linear')"
      ]
     },
     "execution_count": 88,
     "metadata": {},
     "output_type": "execute_result"
    }
   ],
   "source": [
    "model_3.fit(x_val_scaled, y_val)"
   ]
  },
  {
   "cell_type": "code",
   "execution_count": 89,
   "id": "97537074-e091-4a7f-bfb4-9797615ed9b2",
   "metadata": {},
   "outputs": [],
   "source": [
    "model_4 = SVC(C = 0.1, kernel = 'linear')"
   ]
  },
  {
   "cell_type": "code",
   "execution_count": 90,
   "id": "47bc643b-ac06-49a9-b3f4-594f3fe7facc",
   "metadata": {},
   "outputs": [
    {
     "data": {
      "text/html": [
       "<style>#sk-container-id-7 {color: black;background-color: white;}#sk-container-id-7 pre{padding: 0;}#sk-container-id-7 div.sk-toggleable {background-color: white;}#sk-container-id-7 label.sk-toggleable__label {cursor: pointer;display: block;width: 100%;margin-bottom: 0;padding: 0.3em;box-sizing: border-box;text-align: center;}#sk-container-id-7 label.sk-toggleable__label-arrow:before {content: \"▸\";float: left;margin-right: 0.25em;color: #696969;}#sk-container-id-7 label.sk-toggleable__label-arrow:hover:before {color: black;}#sk-container-id-7 div.sk-estimator:hover label.sk-toggleable__label-arrow:before {color: black;}#sk-container-id-7 div.sk-toggleable__content {max-height: 0;max-width: 0;overflow: hidden;text-align: left;background-color: #f0f8ff;}#sk-container-id-7 div.sk-toggleable__content pre {margin: 0.2em;color: black;border-radius: 0.25em;background-color: #f0f8ff;}#sk-container-id-7 input.sk-toggleable__control:checked~div.sk-toggleable__content {max-height: 200px;max-width: 100%;overflow: auto;}#sk-container-id-7 input.sk-toggleable__control:checked~label.sk-toggleable__label-arrow:before {content: \"▾\";}#sk-container-id-7 div.sk-estimator input.sk-toggleable__control:checked~label.sk-toggleable__label {background-color: #d4ebff;}#sk-container-id-7 div.sk-label input.sk-toggleable__control:checked~label.sk-toggleable__label {background-color: #d4ebff;}#sk-container-id-7 input.sk-hidden--visually {border: 0;clip: rect(1px 1px 1px 1px);clip: rect(1px, 1px, 1px, 1px);height: 1px;margin: -1px;overflow: hidden;padding: 0;position: absolute;width: 1px;}#sk-container-id-7 div.sk-estimator {font-family: monospace;background-color: #f0f8ff;border: 1px dotted black;border-radius: 0.25em;box-sizing: border-box;margin-bottom: 0.5em;}#sk-container-id-7 div.sk-estimator:hover {background-color: #d4ebff;}#sk-container-id-7 div.sk-parallel-item::after {content: \"\";width: 100%;border-bottom: 1px solid gray;flex-grow: 1;}#sk-container-id-7 div.sk-label:hover label.sk-toggleable__label {background-color: #d4ebff;}#sk-container-id-7 div.sk-serial::before {content: \"\";position: absolute;border-left: 1px solid gray;box-sizing: border-box;top: 0;bottom: 0;left: 50%;z-index: 0;}#sk-container-id-7 div.sk-serial {display: flex;flex-direction: column;align-items: center;background-color: white;padding-right: 0.2em;padding-left: 0.2em;position: relative;}#sk-container-id-7 div.sk-item {position: relative;z-index: 1;}#sk-container-id-7 div.sk-parallel {display: flex;align-items: stretch;justify-content: center;background-color: white;position: relative;}#sk-container-id-7 div.sk-item::before, #sk-container-id-7 div.sk-parallel-item::before {content: \"\";position: absolute;border-left: 1px solid gray;box-sizing: border-box;top: 0;bottom: 0;left: 50%;z-index: -1;}#sk-container-id-7 div.sk-parallel-item {display: flex;flex-direction: column;z-index: 1;position: relative;background-color: white;}#sk-container-id-7 div.sk-parallel-item:first-child::after {align-self: flex-end;width: 50%;}#sk-container-id-7 div.sk-parallel-item:last-child::after {align-self: flex-start;width: 50%;}#sk-container-id-7 div.sk-parallel-item:only-child::after {width: 0;}#sk-container-id-7 div.sk-dashed-wrapped {border: 1px dashed gray;margin: 0 0.4em 0.5em 0.4em;box-sizing: border-box;padding-bottom: 0.4em;background-color: white;}#sk-container-id-7 div.sk-label label {font-family: monospace;font-weight: bold;display: inline-block;line-height: 1.2em;}#sk-container-id-7 div.sk-label-container {text-align: center;}#sk-container-id-7 div.sk-container {/* jupyter's `normalize.less` sets `[hidden] { display: none; }` but bootstrap.min.css set `[hidden] { display: none !important; }` so we also need the `!important` here to be able to override the default hidden behavior on the sphinx rendered scikit-learn.org. See: https://github.com/scikit-learn/scikit-learn/issues/21755 */display: inline-block !important;position: relative;}#sk-container-id-7 div.sk-text-repr-fallback {display: none;}</style><div id=\"sk-container-id-7\" class=\"sk-top-container\"><div class=\"sk-text-repr-fallback\"><pre>SVC(C=0.1, kernel=&#x27;linear&#x27;)</pre><b>In a Jupyter environment, please rerun this cell to show the HTML representation or trust the notebook. <br />On GitHub, the HTML representation is unable to render, please try loading this page with nbviewer.org.</b></div><div class=\"sk-container\" hidden><div class=\"sk-item\"><div class=\"sk-estimator sk-toggleable\"><input class=\"sk-toggleable__control sk-hidden--visually\" id=\"sk-estimator-id-7\" type=\"checkbox\" checked><label for=\"sk-estimator-id-7\" class=\"sk-toggleable__label sk-toggleable__label-arrow\">SVC</label><div class=\"sk-toggleable__content\"><pre>SVC(C=0.1, kernel=&#x27;linear&#x27;)</pre></div></div></div></div></div>"
      ],
      "text/plain": [
       "SVC(C=0.1, kernel='linear')"
      ]
     },
     "execution_count": 90,
     "metadata": {},
     "output_type": "execute_result"
    }
   ],
   "source": [
    "model_4.fit(x_train_scaled, y_train)"
   ]
  },
  {
   "cell_type": "code",
   "execution_count": 91,
   "id": "1a4bfeab-2a12-4b09-a785-6ffbb911d111",
   "metadata": {},
   "outputs": [
    {
     "data": {
      "text/html": [
       "<style>#sk-container-id-8 {color: black;background-color: white;}#sk-container-id-8 pre{padding: 0;}#sk-container-id-8 div.sk-toggleable {background-color: white;}#sk-container-id-8 label.sk-toggleable__label {cursor: pointer;display: block;width: 100%;margin-bottom: 0;padding: 0.3em;box-sizing: border-box;text-align: center;}#sk-container-id-8 label.sk-toggleable__label-arrow:before {content: \"▸\";float: left;margin-right: 0.25em;color: #696969;}#sk-container-id-8 label.sk-toggleable__label-arrow:hover:before {color: black;}#sk-container-id-8 div.sk-estimator:hover label.sk-toggleable__label-arrow:before {color: black;}#sk-container-id-8 div.sk-toggleable__content {max-height: 0;max-width: 0;overflow: hidden;text-align: left;background-color: #f0f8ff;}#sk-container-id-8 div.sk-toggleable__content pre {margin: 0.2em;color: black;border-radius: 0.25em;background-color: #f0f8ff;}#sk-container-id-8 input.sk-toggleable__control:checked~div.sk-toggleable__content {max-height: 200px;max-width: 100%;overflow: auto;}#sk-container-id-8 input.sk-toggleable__control:checked~label.sk-toggleable__label-arrow:before {content: \"▾\";}#sk-container-id-8 div.sk-estimator input.sk-toggleable__control:checked~label.sk-toggleable__label {background-color: #d4ebff;}#sk-container-id-8 div.sk-label input.sk-toggleable__control:checked~label.sk-toggleable__label {background-color: #d4ebff;}#sk-container-id-8 input.sk-hidden--visually {border: 0;clip: rect(1px 1px 1px 1px);clip: rect(1px, 1px, 1px, 1px);height: 1px;margin: -1px;overflow: hidden;padding: 0;position: absolute;width: 1px;}#sk-container-id-8 div.sk-estimator {font-family: monospace;background-color: #f0f8ff;border: 1px dotted black;border-radius: 0.25em;box-sizing: border-box;margin-bottom: 0.5em;}#sk-container-id-8 div.sk-estimator:hover {background-color: #d4ebff;}#sk-container-id-8 div.sk-parallel-item::after {content: \"\";width: 100%;border-bottom: 1px solid gray;flex-grow: 1;}#sk-container-id-8 div.sk-label:hover label.sk-toggleable__label {background-color: #d4ebff;}#sk-container-id-8 div.sk-serial::before {content: \"\";position: absolute;border-left: 1px solid gray;box-sizing: border-box;top: 0;bottom: 0;left: 50%;z-index: 0;}#sk-container-id-8 div.sk-serial {display: flex;flex-direction: column;align-items: center;background-color: white;padding-right: 0.2em;padding-left: 0.2em;position: relative;}#sk-container-id-8 div.sk-item {position: relative;z-index: 1;}#sk-container-id-8 div.sk-parallel {display: flex;align-items: stretch;justify-content: center;background-color: white;position: relative;}#sk-container-id-8 div.sk-item::before, #sk-container-id-8 div.sk-parallel-item::before {content: \"\";position: absolute;border-left: 1px solid gray;box-sizing: border-box;top: 0;bottom: 0;left: 50%;z-index: -1;}#sk-container-id-8 div.sk-parallel-item {display: flex;flex-direction: column;z-index: 1;position: relative;background-color: white;}#sk-container-id-8 div.sk-parallel-item:first-child::after {align-self: flex-end;width: 50%;}#sk-container-id-8 div.sk-parallel-item:last-child::after {align-self: flex-start;width: 50%;}#sk-container-id-8 div.sk-parallel-item:only-child::after {width: 0;}#sk-container-id-8 div.sk-dashed-wrapped {border: 1px dashed gray;margin: 0 0.4em 0.5em 0.4em;box-sizing: border-box;padding-bottom: 0.4em;background-color: white;}#sk-container-id-8 div.sk-label label {font-family: monospace;font-weight: bold;display: inline-block;line-height: 1.2em;}#sk-container-id-8 div.sk-label-container {text-align: center;}#sk-container-id-8 div.sk-container {/* jupyter's `normalize.less` sets `[hidden] { display: none; }` but bootstrap.min.css set `[hidden] { display: none !important; }` so we also need the `!important` here to be able to override the default hidden behavior on the sphinx rendered scikit-learn.org. See: https://github.com/scikit-learn/scikit-learn/issues/21755 */display: inline-block !important;position: relative;}#sk-container-id-8 div.sk-text-repr-fallback {display: none;}</style><div id=\"sk-container-id-8\" class=\"sk-top-container\"><div class=\"sk-text-repr-fallback\"><pre>SVC(C=0.1, kernel=&#x27;linear&#x27;)</pre><b>In a Jupyter environment, please rerun this cell to show the HTML representation or trust the notebook. <br />On GitHub, the HTML representation is unable to render, please try loading this page with nbviewer.org.</b></div><div class=\"sk-container\" hidden><div class=\"sk-item\"><div class=\"sk-estimator sk-toggleable\"><input class=\"sk-toggleable__control sk-hidden--visually\" id=\"sk-estimator-id-8\" type=\"checkbox\" checked><label for=\"sk-estimator-id-8\" class=\"sk-toggleable__label sk-toggleable__label-arrow\">SVC</label><div class=\"sk-toggleable__content\"><pre>SVC(C=0.1, kernel=&#x27;linear&#x27;)</pre></div></div></div></div></div>"
      ],
      "text/plain": [
       "SVC(C=0.1, kernel='linear')"
      ]
     },
     "execution_count": 91,
     "metadata": {},
     "output_type": "execute_result"
    }
   ],
   "source": [
    "model_4.fit(x_val_scaled, y_val)"
   ]
  },
  {
   "cell_type": "code",
   "execution_count": 92,
   "id": "b6ccd6cb-dbba-49b8-bad8-b41b1c90e22a",
   "metadata": {},
   "outputs": [],
   "source": [
    "model_5 = SVC(C = 0.001, kernel = 'poly', degree = 2, decision_function_shape = 'ovo')"
   ]
  },
  {
   "cell_type": "code",
   "execution_count": 93,
   "id": "9cbac08f-5bc6-4168-aa09-b4360e9988ca",
   "metadata": {},
   "outputs": [
    {
     "data": {
      "text/html": [
       "<style>#sk-container-id-9 {color: black;background-color: white;}#sk-container-id-9 pre{padding: 0;}#sk-container-id-9 div.sk-toggleable {background-color: white;}#sk-container-id-9 label.sk-toggleable__label {cursor: pointer;display: block;width: 100%;margin-bottom: 0;padding: 0.3em;box-sizing: border-box;text-align: center;}#sk-container-id-9 label.sk-toggleable__label-arrow:before {content: \"▸\";float: left;margin-right: 0.25em;color: #696969;}#sk-container-id-9 label.sk-toggleable__label-arrow:hover:before {color: black;}#sk-container-id-9 div.sk-estimator:hover label.sk-toggleable__label-arrow:before {color: black;}#sk-container-id-9 div.sk-toggleable__content {max-height: 0;max-width: 0;overflow: hidden;text-align: left;background-color: #f0f8ff;}#sk-container-id-9 div.sk-toggleable__content pre {margin: 0.2em;color: black;border-radius: 0.25em;background-color: #f0f8ff;}#sk-container-id-9 input.sk-toggleable__control:checked~div.sk-toggleable__content {max-height: 200px;max-width: 100%;overflow: auto;}#sk-container-id-9 input.sk-toggleable__control:checked~label.sk-toggleable__label-arrow:before {content: \"▾\";}#sk-container-id-9 div.sk-estimator input.sk-toggleable__control:checked~label.sk-toggleable__label {background-color: #d4ebff;}#sk-container-id-9 div.sk-label input.sk-toggleable__control:checked~label.sk-toggleable__label {background-color: #d4ebff;}#sk-container-id-9 input.sk-hidden--visually {border: 0;clip: rect(1px 1px 1px 1px);clip: rect(1px, 1px, 1px, 1px);height: 1px;margin: -1px;overflow: hidden;padding: 0;position: absolute;width: 1px;}#sk-container-id-9 div.sk-estimator {font-family: monospace;background-color: #f0f8ff;border: 1px dotted black;border-radius: 0.25em;box-sizing: border-box;margin-bottom: 0.5em;}#sk-container-id-9 div.sk-estimator:hover {background-color: #d4ebff;}#sk-container-id-9 div.sk-parallel-item::after {content: \"\";width: 100%;border-bottom: 1px solid gray;flex-grow: 1;}#sk-container-id-9 div.sk-label:hover label.sk-toggleable__label {background-color: #d4ebff;}#sk-container-id-9 div.sk-serial::before {content: \"\";position: absolute;border-left: 1px solid gray;box-sizing: border-box;top: 0;bottom: 0;left: 50%;z-index: 0;}#sk-container-id-9 div.sk-serial {display: flex;flex-direction: column;align-items: center;background-color: white;padding-right: 0.2em;padding-left: 0.2em;position: relative;}#sk-container-id-9 div.sk-item {position: relative;z-index: 1;}#sk-container-id-9 div.sk-parallel {display: flex;align-items: stretch;justify-content: center;background-color: white;position: relative;}#sk-container-id-9 div.sk-item::before, #sk-container-id-9 div.sk-parallel-item::before {content: \"\";position: absolute;border-left: 1px solid gray;box-sizing: border-box;top: 0;bottom: 0;left: 50%;z-index: -1;}#sk-container-id-9 div.sk-parallel-item {display: flex;flex-direction: column;z-index: 1;position: relative;background-color: white;}#sk-container-id-9 div.sk-parallel-item:first-child::after {align-self: flex-end;width: 50%;}#sk-container-id-9 div.sk-parallel-item:last-child::after {align-self: flex-start;width: 50%;}#sk-container-id-9 div.sk-parallel-item:only-child::after {width: 0;}#sk-container-id-9 div.sk-dashed-wrapped {border: 1px dashed gray;margin: 0 0.4em 0.5em 0.4em;box-sizing: border-box;padding-bottom: 0.4em;background-color: white;}#sk-container-id-9 div.sk-label label {font-family: monospace;font-weight: bold;display: inline-block;line-height: 1.2em;}#sk-container-id-9 div.sk-label-container {text-align: center;}#sk-container-id-9 div.sk-container {/* jupyter's `normalize.less` sets `[hidden] { display: none; }` but bootstrap.min.css set `[hidden] { display: none !important; }` so we also need the `!important` here to be able to override the default hidden behavior on the sphinx rendered scikit-learn.org. See: https://github.com/scikit-learn/scikit-learn/issues/21755 */display: inline-block !important;position: relative;}#sk-container-id-9 div.sk-text-repr-fallback {display: none;}</style><div id=\"sk-container-id-9\" class=\"sk-top-container\"><div class=\"sk-text-repr-fallback\"><pre>SVC(C=0.001, decision_function_shape=&#x27;ovo&#x27;, degree=2, kernel=&#x27;poly&#x27;)</pre><b>In a Jupyter environment, please rerun this cell to show the HTML representation or trust the notebook. <br />On GitHub, the HTML representation is unable to render, please try loading this page with nbviewer.org.</b></div><div class=\"sk-container\" hidden><div class=\"sk-item\"><div class=\"sk-estimator sk-toggleable\"><input class=\"sk-toggleable__control sk-hidden--visually\" id=\"sk-estimator-id-9\" type=\"checkbox\" checked><label for=\"sk-estimator-id-9\" class=\"sk-toggleable__label sk-toggleable__label-arrow\">SVC</label><div class=\"sk-toggleable__content\"><pre>SVC(C=0.001, decision_function_shape=&#x27;ovo&#x27;, degree=2, kernel=&#x27;poly&#x27;)</pre></div></div></div></div></div>"
      ],
      "text/plain": [
       "SVC(C=0.001, decision_function_shape='ovo', degree=2, kernel='poly')"
      ]
     },
     "execution_count": 93,
     "metadata": {},
     "output_type": "execute_result"
    }
   ],
   "source": [
    "model_5.fit(x_train_scaled, y_train)"
   ]
  },
  {
   "cell_type": "code",
   "execution_count": 94,
   "id": "b2c42bc4-b43e-4037-8d76-08d2466960a9",
   "metadata": {},
   "outputs": [
    {
     "data": {
      "text/html": [
       "<style>#sk-container-id-10 {color: black;background-color: white;}#sk-container-id-10 pre{padding: 0;}#sk-container-id-10 div.sk-toggleable {background-color: white;}#sk-container-id-10 label.sk-toggleable__label {cursor: pointer;display: block;width: 100%;margin-bottom: 0;padding: 0.3em;box-sizing: border-box;text-align: center;}#sk-container-id-10 label.sk-toggleable__label-arrow:before {content: \"▸\";float: left;margin-right: 0.25em;color: #696969;}#sk-container-id-10 label.sk-toggleable__label-arrow:hover:before {color: black;}#sk-container-id-10 div.sk-estimator:hover label.sk-toggleable__label-arrow:before {color: black;}#sk-container-id-10 div.sk-toggleable__content {max-height: 0;max-width: 0;overflow: hidden;text-align: left;background-color: #f0f8ff;}#sk-container-id-10 div.sk-toggleable__content pre {margin: 0.2em;color: black;border-radius: 0.25em;background-color: #f0f8ff;}#sk-container-id-10 input.sk-toggleable__control:checked~div.sk-toggleable__content {max-height: 200px;max-width: 100%;overflow: auto;}#sk-container-id-10 input.sk-toggleable__control:checked~label.sk-toggleable__label-arrow:before {content: \"▾\";}#sk-container-id-10 div.sk-estimator input.sk-toggleable__control:checked~label.sk-toggleable__label {background-color: #d4ebff;}#sk-container-id-10 div.sk-label input.sk-toggleable__control:checked~label.sk-toggleable__label {background-color: #d4ebff;}#sk-container-id-10 input.sk-hidden--visually {border: 0;clip: rect(1px 1px 1px 1px);clip: rect(1px, 1px, 1px, 1px);height: 1px;margin: -1px;overflow: hidden;padding: 0;position: absolute;width: 1px;}#sk-container-id-10 div.sk-estimator {font-family: monospace;background-color: #f0f8ff;border: 1px dotted black;border-radius: 0.25em;box-sizing: border-box;margin-bottom: 0.5em;}#sk-container-id-10 div.sk-estimator:hover {background-color: #d4ebff;}#sk-container-id-10 div.sk-parallel-item::after {content: \"\";width: 100%;border-bottom: 1px solid gray;flex-grow: 1;}#sk-container-id-10 div.sk-label:hover label.sk-toggleable__label {background-color: #d4ebff;}#sk-container-id-10 div.sk-serial::before {content: \"\";position: absolute;border-left: 1px solid gray;box-sizing: border-box;top: 0;bottom: 0;left: 50%;z-index: 0;}#sk-container-id-10 div.sk-serial {display: flex;flex-direction: column;align-items: center;background-color: white;padding-right: 0.2em;padding-left: 0.2em;position: relative;}#sk-container-id-10 div.sk-item {position: relative;z-index: 1;}#sk-container-id-10 div.sk-parallel {display: flex;align-items: stretch;justify-content: center;background-color: white;position: relative;}#sk-container-id-10 div.sk-item::before, #sk-container-id-10 div.sk-parallel-item::before {content: \"\";position: absolute;border-left: 1px solid gray;box-sizing: border-box;top: 0;bottom: 0;left: 50%;z-index: -1;}#sk-container-id-10 div.sk-parallel-item {display: flex;flex-direction: column;z-index: 1;position: relative;background-color: white;}#sk-container-id-10 div.sk-parallel-item:first-child::after {align-self: flex-end;width: 50%;}#sk-container-id-10 div.sk-parallel-item:last-child::after {align-self: flex-start;width: 50%;}#sk-container-id-10 div.sk-parallel-item:only-child::after {width: 0;}#sk-container-id-10 div.sk-dashed-wrapped {border: 1px dashed gray;margin: 0 0.4em 0.5em 0.4em;box-sizing: border-box;padding-bottom: 0.4em;background-color: white;}#sk-container-id-10 div.sk-label label {font-family: monospace;font-weight: bold;display: inline-block;line-height: 1.2em;}#sk-container-id-10 div.sk-label-container {text-align: center;}#sk-container-id-10 div.sk-container {/* jupyter's `normalize.less` sets `[hidden] { display: none; }` but bootstrap.min.css set `[hidden] { display: none !important; }` so we also need the `!important` here to be able to override the default hidden behavior on the sphinx rendered scikit-learn.org. See: https://github.com/scikit-learn/scikit-learn/issues/21755 */display: inline-block !important;position: relative;}#sk-container-id-10 div.sk-text-repr-fallback {display: none;}</style><div id=\"sk-container-id-10\" class=\"sk-top-container\"><div class=\"sk-text-repr-fallback\"><pre>SVC(C=0.001, decision_function_shape=&#x27;ovo&#x27;, degree=2, kernel=&#x27;poly&#x27;)</pre><b>In a Jupyter environment, please rerun this cell to show the HTML representation or trust the notebook. <br />On GitHub, the HTML representation is unable to render, please try loading this page with nbviewer.org.</b></div><div class=\"sk-container\" hidden><div class=\"sk-item\"><div class=\"sk-estimator sk-toggleable\"><input class=\"sk-toggleable__control sk-hidden--visually\" id=\"sk-estimator-id-10\" type=\"checkbox\" checked><label for=\"sk-estimator-id-10\" class=\"sk-toggleable__label sk-toggleable__label-arrow\">SVC</label><div class=\"sk-toggleable__content\"><pre>SVC(C=0.001, decision_function_shape=&#x27;ovo&#x27;, degree=2, kernel=&#x27;poly&#x27;)</pre></div></div></div></div></div>"
      ],
      "text/plain": [
       "SVC(C=0.001, decision_function_shape='ovo', degree=2, kernel='poly')"
      ]
     },
     "execution_count": 94,
     "metadata": {},
     "output_type": "execute_result"
    }
   ],
   "source": [
    "model_5.fit(x_val, y_val)"
   ]
  },
  {
   "cell_type": "code",
   "execution_count": 95,
   "id": "8516942d-2b8f-4c49-925b-5a56214640eb",
   "metadata": {},
   "outputs": [],
   "source": [
    "model_6 = SVC(C = 0.001, kernel = 'poly')"
   ]
  },
  {
   "cell_type": "code",
   "execution_count": 96,
   "id": "bf3d8c5d-56c2-4639-a0fc-c989559473b3",
   "metadata": {},
   "outputs": [
    {
     "data": {
      "text/html": [
       "<style>#sk-container-id-11 {color: black;background-color: white;}#sk-container-id-11 pre{padding: 0;}#sk-container-id-11 div.sk-toggleable {background-color: white;}#sk-container-id-11 label.sk-toggleable__label {cursor: pointer;display: block;width: 100%;margin-bottom: 0;padding: 0.3em;box-sizing: border-box;text-align: center;}#sk-container-id-11 label.sk-toggleable__label-arrow:before {content: \"▸\";float: left;margin-right: 0.25em;color: #696969;}#sk-container-id-11 label.sk-toggleable__label-arrow:hover:before {color: black;}#sk-container-id-11 div.sk-estimator:hover label.sk-toggleable__label-arrow:before {color: black;}#sk-container-id-11 div.sk-toggleable__content {max-height: 0;max-width: 0;overflow: hidden;text-align: left;background-color: #f0f8ff;}#sk-container-id-11 div.sk-toggleable__content pre {margin: 0.2em;color: black;border-radius: 0.25em;background-color: #f0f8ff;}#sk-container-id-11 input.sk-toggleable__control:checked~div.sk-toggleable__content {max-height: 200px;max-width: 100%;overflow: auto;}#sk-container-id-11 input.sk-toggleable__control:checked~label.sk-toggleable__label-arrow:before {content: \"▾\";}#sk-container-id-11 div.sk-estimator input.sk-toggleable__control:checked~label.sk-toggleable__label {background-color: #d4ebff;}#sk-container-id-11 div.sk-label input.sk-toggleable__control:checked~label.sk-toggleable__label {background-color: #d4ebff;}#sk-container-id-11 input.sk-hidden--visually {border: 0;clip: rect(1px 1px 1px 1px);clip: rect(1px, 1px, 1px, 1px);height: 1px;margin: -1px;overflow: hidden;padding: 0;position: absolute;width: 1px;}#sk-container-id-11 div.sk-estimator {font-family: monospace;background-color: #f0f8ff;border: 1px dotted black;border-radius: 0.25em;box-sizing: border-box;margin-bottom: 0.5em;}#sk-container-id-11 div.sk-estimator:hover {background-color: #d4ebff;}#sk-container-id-11 div.sk-parallel-item::after {content: \"\";width: 100%;border-bottom: 1px solid gray;flex-grow: 1;}#sk-container-id-11 div.sk-label:hover label.sk-toggleable__label {background-color: #d4ebff;}#sk-container-id-11 div.sk-serial::before {content: \"\";position: absolute;border-left: 1px solid gray;box-sizing: border-box;top: 0;bottom: 0;left: 50%;z-index: 0;}#sk-container-id-11 div.sk-serial {display: flex;flex-direction: column;align-items: center;background-color: white;padding-right: 0.2em;padding-left: 0.2em;position: relative;}#sk-container-id-11 div.sk-item {position: relative;z-index: 1;}#sk-container-id-11 div.sk-parallel {display: flex;align-items: stretch;justify-content: center;background-color: white;position: relative;}#sk-container-id-11 div.sk-item::before, #sk-container-id-11 div.sk-parallel-item::before {content: \"\";position: absolute;border-left: 1px solid gray;box-sizing: border-box;top: 0;bottom: 0;left: 50%;z-index: -1;}#sk-container-id-11 div.sk-parallel-item {display: flex;flex-direction: column;z-index: 1;position: relative;background-color: white;}#sk-container-id-11 div.sk-parallel-item:first-child::after {align-self: flex-end;width: 50%;}#sk-container-id-11 div.sk-parallel-item:last-child::after {align-self: flex-start;width: 50%;}#sk-container-id-11 div.sk-parallel-item:only-child::after {width: 0;}#sk-container-id-11 div.sk-dashed-wrapped {border: 1px dashed gray;margin: 0 0.4em 0.5em 0.4em;box-sizing: border-box;padding-bottom: 0.4em;background-color: white;}#sk-container-id-11 div.sk-label label {font-family: monospace;font-weight: bold;display: inline-block;line-height: 1.2em;}#sk-container-id-11 div.sk-label-container {text-align: center;}#sk-container-id-11 div.sk-container {/* jupyter's `normalize.less` sets `[hidden] { display: none; }` but bootstrap.min.css set `[hidden] { display: none !important; }` so we also need the `!important` here to be able to override the default hidden behavior on the sphinx rendered scikit-learn.org. See: https://github.com/scikit-learn/scikit-learn/issues/21755 */display: inline-block !important;position: relative;}#sk-container-id-11 div.sk-text-repr-fallback {display: none;}</style><div id=\"sk-container-id-11\" class=\"sk-top-container\"><div class=\"sk-text-repr-fallback\"><pre>SVC(C=0.001, kernel=&#x27;poly&#x27;)</pre><b>In a Jupyter environment, please rerun this cell to show the HTML representation or trust the notebook. <br />On GitHub, the HTML representation is unable to render, please try loading this page with nbviewer.org.</b></div><div class=\"sk-container\" hidden><div class=\"sk-item\"><div class=\"sk-estimator sk-toggleable\"><input class=\"sk-toggleable__control sk-hidden--visually\" id=\"sk-estimator-id-11\" type=\"checkbox\" checked><label for=\"sk-estimator-id-11\" class=\"sk-toggleable__label sk-toggleable__label-arrow\">SVC</label><div class=\"sk-toggleable__content\"><pre>SVC(C=0.001, kernel=&#x27;poly&#x27;)</pre></div></div></div></div></div>"
      ],
      "text/plain": [
       "SVC(C=0.001, kernel='poly')"
      ]
     },
     "execution_count": 96,
     "metadata": {},
     "output_type": "execute_result"
    }
   ],
   "source": [
    "model_6.fit(x_train, y_train)"
   ]
  },
  {
   "cell_type": "code",
   "execution_count": 97,
   "id": "6b25b2d4-55c9-47bd-9b0a-8b83f86f88a0",
   "metadata": {},
   "outputs": [
    {
     "data": {
      "text/html": [
       "<style>#sk-container-id-12 {color: black;background-color: white;}#sk-container-id-12 pre{padding: 0;}#sk-container-id-12 div.sk-toggleable {background-color: white;}#sk-container-id-12 label.sk-toggleable__label {cursor: pointer;display: block;width: 100%;margin-bottom: 0;padding: 0.3em;box-sizing: border-box;text-align: center;}#sk-container-id-12 label.sk-toggleable__label-arrow:before {content: \"▸\";float: left;margin-right: 0.25em;color: #696969;}#sk-container-id-12 label.sk-toggleable__label-arrow:hover:before {color: black;}#sk-container-id-12 div.sk-estimator:hover label.sk-toggleable__label-arrow:before {color: black;}#sk-container-id-12 div.sk-toggleable__content {max-height: 0;max-width: 0;overflow: hidden;text-align: left;background-color: #f0f8ff;}#sk-container-id-12 div.sk-toggleable__content pre {margin: 0.2em;color: black;border-radius: 0.25em;background-color: #f0f8ff;}#sk-container-id-12 input.sk-toggleable__control:checked~div.sk-toggleable__content {max-height: 200px;max-width: 100%;overflow: auto;}#sk-container-id-12 input.sk-toggleable__control:checked~label.sk-toggleable__label-arrow:before {content: \"▾\";}#sk-container-id-12 div.sk-estimator input.sk-toggleable__control:checked~label.sk-toggleable__label {background-color: #d4ebff;}#sk-container-id-12 div.sk-label input.sk-toggleable__control:checked~label.sk-toggleable__label {background-color: #d4ebff;}#sk-container-id-12 input.sk-hidden--visually {border: 0;clip: rect(1px 1px 1px 1px);clip: rect(1px, 1px, 1px, 1px);height: 1px;margin: -1px;overflow: hidden;padding: 0;position: absolute;width: 1px;}#sk-container-id-12 div.sk-estimator {font-family: monospace;background-color: #f0f8ff;border: 1px dotted black;border-radius: 0.25em;box-sizing: border-box;margin-bottom: 0.5em;}#sk-container-id-12 div.sk-estimator:hover {background-color: #d4ebff;}#sk-container-id-12 div.sk-parallel-item::after {content: \"\";width: 100%;border-bottom: 1px solid gray;flex-grow: 1;}#sk-container-id-12 div.sk-label:hover label.sk-toggleable__label {background-color: #d4ebff;}#sk-container-id-12 div.sk-serial::before {content: \"\";position: absolute;border-left: 1px solid gray;box-sizing: border-box;top: 0;bottom: 0;left: 50%;z-index: 0;}#sk-container-id-12 div.sk-serial {display: flex;flex-direction: column;align-items: center;background-color: white;padding-right: 0.2em;padding-left: 0.2em;position: relative;}#sk-container-id-12 div.sk-item {position: relative;z-index: 1;}#sk-container-id-12 div.sk-parallel {display: flex;align-items: stretch;justify-content: center;background-color: white;position: relative;}#sk-container-id-12 div.sk-item::before, #sk-container-id-12 div.sk-parallel-item::before {content: \"\";position: absolute;border-left: 1px solid gray;box-sizing: border-box;top: 0;bottom: 0;left: 50%;z-index: -1;}#sk-container-id-12 div.sk-parallel-item {display: flex;flex-direction: column;z-index: 1;position: relative;background-color: white;}#sk-container-id-12 div.sk-parallel-item:first-child::after {align-self: flex-end;width: 50%;}#sk-container-id-12 div.sk-parallel-item:last-child::after {align-self: flex-start;width: 50%;}#sk-container-id-12 div.sk-parallel-item:only-child::after {width: 0;}#sk-container-id-12 div.sk-dashed-wrapped {border: 1px dashed gray;margin: 0 0.4em 0.5em 0.4em;box-sizing: border-box;padding-bottom: 0.4em;background-color: white;}#sk-container-id-12 div.sk-label label {font-family: monospace;font-weight: bold;display: inline-block;line-height: 1.2em;}#sk-container-id-12 div.sk-label-container {text-align: center;}#sk-container-id-12 div.sk-container {/* jupyter's `normalize.less` sets `[hidden] { display: none; }` but bootstrap.min.css set `[hidden] { display: none !important; }` so we also need the `!important` here to be able to override the default hidden behavior on the sphinx rendered scikit-learn.org. See: https://github.com/scikit-learn/scikit-learn/issues/21755 */display: inline-block !important;position: relative;}#sk-container-id-12 div.sk-text-repr-fallback {display: none;}</style><div id=\"sk-container-id-12\" class=\"sk-top-container\"><div class=\"sk-text-repr-fallback\"><pre>SVC(C=0.001, kernel=&#x27;poly&#x27;)</pre><b>In a Jupyter environment, please rerun this cell to show the HTML representation or trust the notebook. <br />On GitHub, the HTML representation is unable to render, please try loading this page with nbviewer.org.</b></div><div class=\"sk-container\" hidden><div class=\"sk-item\"><div class=\"sk-estimator sk-toggleable\"><input class=\"sk-toggleable__control sk-hidden--visually\" id=\"sk-estimator-id-12\" type=\"checkbox\" checked><label for=\"sk-estimator-id-12\" class=\"sk-toggleable__label sk-toggleable__label-arrow\">SVC</label><div class=\"sk-toggleable__content\"><pre>SVC(C=0.001, kernel=&#x27;poly&#x27;)</pre></div></div></div></div></div>"
      ],
      "text/plain": [
       "SVC(C=0.001, kernel='poly')"
      ]
     },
     "execution_count": 97,
     "metadata": {},
     "output_type": "execute_result"
    }
   ],
   "source": [
    "model_6.fit(x_val, y_val)"
   ]
  },
  {
   "cell_type": "markdown",
   "id": "ebf496b7-0807-4c1d-98dd-15ca999309d8",
   "metadata": {},
   "source": [
    "### **Generating predictions, classification reports and confusion matrix for each model using train and validation data**"
   ]
  },
  {
   "cell_type": "code",
   "execution_count": 138,
   "id": "c6021adb-be97-4027-bb1f-3980ddc85ceb",
   "metadata": {},
   "outputs": [
    {
     "data": {
      "text/plain": [
       "array(['Standard', 'Standard', 'Standard', ..., 'Standard', 'Standard',\n",
       "       'Standard'], dtype=object)"
      ]
     },
     "execution_count": 138,
     "metadata": {},
     "output_type": "execute_result"
    }
   ],
   "source": [
    "y_pred_train_model_1 = model_1.predict(x_train)\n",
    "y_pred_train_model_1"
   ]
  },
  {
   "cell_type": "code",
   "execution_count": 139,
   "id": "56e70fe4-0a0d-48d5-bc5d-d4c63d3e9e0e",
   "metadata": {},
   "outputs": [
    {
     "data": {
      "text/plain": [
       "array(['Standard', 'Standard', 'Standard', ..., 'Standard', 'Standard',\n",
       "       'Standard'], dtype=object)"
      ]
     },
     "execution_count": 139,
     "metadata": {},
     "output_type": "execute_result"
    }
   ],
   "source": [
    "y_pred_val_model_1 = model_1.predict(x_val)\n",
    "y_pred_val_model_1"
   ]
  },
  {
   "cell_type": "code",
   "execution_count": 140,
   "id": "ee5a5773-f01f-46cd-ba72-35a28720fd20",
   "metadata": {},
   "outputs": [
    {
     "data": {
      "text/plain": [
       "array(['Standard', 'Standard', 'Standard', ..., 'Standard', 'Standard',\n",
       "       'Standard'], dtype=object)"
      ]
     },
     "execution_count": 140,
     "metadata": {},
     "output_type": "execute_result"
    }
   ],
   "source": [
    "y_pred_train_model_2 = model_2.predict(x_train)\n",
    "y_pred_train_model_2"
   ]
  },
  {
   "cell_type": "code",
   "execution_count": 141,
   "id": "a7bf91d5-c317-4476-8f76-e335532fa675",
   "metadata": {},
   "outputs": [
    {
     "data": {
      "text/plain": [
       "array(['Standard', 'Standard', 'Standard', ..., 'Standard', 'Standard',\n",
       "       'Standard'], dtype=object)"
      ]
     },
     "execution_count": 141,
     "metadata": {},
     "output_type": "execute_result"
    }
   ],
   "source": [
    "y_pred_val_model_2 = model_2.predict(x_val)\n",
    "y_pred_val_model_2"
   ]
  },
  {
   "cell_type": "code",
   "execution_count": 142,
   "id": "dd9256db-fc37-44a7-aa69-75bfcecc1460",
   "metadata": {},
   "outputs": [
    {
     "data": {
      "text/plain": [
       "array(['Standard', 'Good', 'Standard', ..., 'Good', 'Standard',\n",
       "       'Standard'], dtype=object)"
      ]
     },
     "execution_count": 142,
     "metadata": {},
     "output_type": "execute_result"
    }
   ],
   "source": [
    "y_pred_train_model_3 = model_3.predict(x_train_scaled)\n",
    "y_pred_train_model_3"
   ]
  },
  {
   "cell_type": "code",
   "execution_count": 143,
   "id": "967c9867-4f4d-4be8-bf55-6d7ace4eb700",
   "metadata": {},
   "outputs": [
    {
     "data": {
      "text/plain": [
       "array(['Standard', 'Standard', 'Good', ..., 'Standard', 'Good', 'Poor'],\n",
       "      dtype=object)"
      ]
     },
     "execution_count": 143,
     "metadata": {},
     "output_type": "execute_result"
    }
   ],
   "source": [
    "y_pred_val_model_3 = model_3.predict(x_val_scaled)\n",
    "y_pred_val_model_3"
   ]
  },
  {
   "cell_type": "code",
   "execution_count": 144,
   "id": "c5c2419b-7a71-49e5-a8c0-fb8af01b2b52",
   "metadata": {},
   "outputs": [
    {
     "data": {
      "text/plain": [
       "array(['Standard', 'Good', 'Standard', ..., 'Good', 'Standard',\n",
       "       'Standard'], dtype=object)"
      ]
     },
     "execution_count": 144,
     "metadata": {},
     "output_type": "execute_result"
    }
   ],
   "source": [
    "y_pred_train_model_4 = model_4.predict(x_train_scaled)\n",
    "y_pred_train_model_4"
   ]
  },
  {
   "cell_type": "code",
   "execution_count": 145,
   "id": "179c1404-b8cb-458a-8c1b-6ecd19070e40",
   "metadata": {},
   "outputs": [
    {
     "data": {
      "text/plain": [
       "array(['Standard', 'Standard', 'Good', ..., 'Standard', 'Good', 'Poor'],\n",
       "      dtype=object)"
      ]
     },
     "execution_count": 145,
     "metadata": {},
     "output_type": "execute_result"
    }
   ],
   "source": [
    "y_pred_val_model_4 = model_4.predict(x_val_scaled)\n",
    "y_pred_val_model_4"
   ]
  },
  {
   "cell_type": "code",
   "execution_count": 146,
   "id": "a847a290-66ed-4f31-adab-e39c3b11e042",
   "metadata": {},
   "outputs": [
    {
     "data": {
      "text/plain": [
       "array(['Standard', 'Standard', 'Standard', ..., 'Standard', 'Standard',\n",
       "       'Standard'], dtype=object)"
      ]
     },
     "execution_count": 146,
     "metadata": {},
     "output_type": "execute_result"
    }
   ],
   "source": [
    "y_pred_train_model_5 = model_5.predict(x_train_scaled)\n",
    "y_pred_train_model_5"
   ]
  },
  {
   "cell_type": "code",
   "execution_count": 147,
   "id": "59146c2d-f79a-4cb5-b1ca-ce88ced0b306",
   "metadata": {},
   "outputs": [
    {
     "data": {
      "text/plain": [
       "array(['Standard', 'Standard', 'Standard', ..., 'Standard', 'Standard',\n",
       "       'Standard'], dtype=object)"
      ]
     },
     "execution_count": 147,
     "metadata": {},
     "output_type": "execute_result"
    }
   ],
   "source": [
    "y_pred_val_model_5 = model_5.predict(x_val)\n",
    "y_pred_val_model_5"
   ]
  },
  {
   "cell_type": "code",
   "execution_count": 148,
   "id": "074d78c5-a49f-48ba-b10c-cf10e5ac2652",
   "metadata": {},
   "outputs": [
    {
     "data": {
      "text/plain": [
       "array(['Standard', 'Standard', 'Standard', ..., 'Standard', 'Standard',\n",
       "       'Standard'], dtype=object)"
      ]
     },
     "execution_count": 148,
     "metadata": {},
     "output_type": "execute_result"
    }
   ],
   "source": [
    "y_pred_train_model_6 = model_6.predict(x_train)\n",
    "y_pred_train_model_6"
   ]
  },
  {
   "cell_type": "code",
   "execution_count": 149,
   "id": "dd7eefce-58f9-4773-bd2b-ac84c8106206",
   "metadata": {},
   "outputs": [
    {
     "data": {
      "text/plain": [
       "array(['Standard', 'Standard', 'Standard', ..., 'Standard', 'Standard',\n",
       "       'Standard'], dtype=object)"
      ]
     },
     "execution_count": 149,
     "metadata": {},
     "output_type": "execute_result"
    }
   ],
   "source": [
    "y_pred_val_model_6 = model_6.predict(x_val)\n",
    "y_pred_val_model_6"
   ]
  },
  {
   "cell_type": "code",
   "execution_count": 150,
   "id": "9e346326-9664-4e0e-bd90-09d9065aa1c2",
   "metadata": {},
   "outputs": [
    {
     "name": "stdout",
     "output_type": "stream",
     "text": [
      "              precision    recall  f1-score   support\n",
      "\n",
      "        Good       0.00      0.00      0.00      8604\n",
      "        Poor       0.00      0.00      0.00     15111\n",
      "    Standard       0.53      1.00      0.69     26229\n",
      "\n",
      "    accuracy                           0.53     49944\n",
      "   macro avg       0.18      0.33      0.23     49944\n",
      "weighted avg       0.28      0.53      0.36     49944\n",
      "\n"
     ]
    }
   ],
   "source": [
    "print(classification_report(y_train, y_pred_train_model_1, zero_division = 0))"
   ]
  },
  {
   "cell_type": "code",
   "execution_count": 151,
   "id": "8b44e463-6102-4570-8bc6-f00b8eaca0ad",
   "metadata": {},
   "outputs": [
    {
     "name": "stdout",
     "output_type": "stream",
     "text": [
      "              precision    recall  f1-score   support\n",
      "\n",
      "        Good       0.00      0.00      0.00      2753\n",
      "        Poor       0.00      0.00      0.00      5155\n",
      "    Standard       0.52      1.00      0.69      8740\n",
      "\n",
      "    accuracy                           0.52     16648\n",
      "   macro avg       0.17      0.33      0.23     16648\n",
      "weighted avg       0.28      0.52      0.36     16648\n",
      "\n"
     ]
    }
   ],
   "source": [
    "print(classification_report(y_val, y_pred_val_model_1, zero_division = 0))"
   ]
  },
  {
   "cell_type": "code",
   "execution_count": 152,
   "id": "128c0b15-ec1a-48ca-92e1-b4199c34362d",
   "metadata": {},
   "outputs": [
    {
     "name": "stdout",
     "output_type": "stream",
     "text": [
      "              precision    recall  f1-score   support\n",
      "\n",
      "        Good       0.00      0.00      0.00      8604\n",
      "        Poor       0.00      0.00      0.00     15111\n",
      "    Standard       0.53      1.00      0.69     26229\n",
      "\n",
      "    accuracy                           0.53     49944\n",
      "   macro avg       0.18      0.33      0.23     49944\n",
      "weighted avg       0.28      0.53      0.36     49944\n",
      "\n"
     ]
    }
   ],
   "source": [
    "print(classification_report(y_train, y_pred_train_model_2, zero_division = 0))"
   ]
  },
  {
   "cell_type": "code",
   "execution_count": 153,
   "id": "449d2ac1-d3f0-4b21-bd02-bbb05e8992e9",
   "metadata": {},
   "outputs": [
    {
     "name": "stdout",
     "output_type": "stream",
     "text": [
      "              precision    recall  f1-score   support\n",
      "\n",
      "        Good       0.00      0.00      0.00      2753\n",
      "        Poor       0.00      0.00      0.00      5155\n",
      "    Standard       0.52      1.00      0.69      8740\n",
      "\n",
      "    accuracy                           0.52     16648\n",
      "   macro avg       0.17      0.33      0.23     16648\n",
      "weighted avg       0.28      0.52      0.36     16648\n",
      "\n"
     ]
    }
   ],
   "source": [
    "print(classification_report(y_val, y_pred_val_model_2, zero_division = 0))"
   ]
  },
  {
   "cell_type": "code",
   "execution_count": 154,
   "id": "222b4cde-e48a-4e71-9895-1801bbbe6038",
   "metadata": {},
   "outputs": [
    {
     "name": "stdout",
     "output_type": "stream",
     "text": [
      "              precision    recall  f1-score   support\n",
      "\n",
      "        Good       0.49      0.84      0.62      8604\n",
      "        Poor       0.61      0.52      0.56     15111\n",
      "    Standard       0.72      0.62      0.67     26229\n",
      "\n",
      "    accuracy                           0.63     49944\n",
      "   macro avg       0.61      0.66      0.62     49944\n",
      "weighted avg       0.65      0.63      0.63     49944\n",
      "\n"
     ]
    }
   ],
   "source": [
    "print(classification_report(y_train, y_pred_train_model_3, zero_division = 0))"
   ]
  },
  {
   "cell_type": "code",
   "execution_count": 155,
   "id": "af2cb084-b503-4264-a952-0ca006113658",
   "metadata": {},
   "outputs": [
    {
     "name": "stdout",
     "output_type": "stream",
     "text": [
      "              precision    recall  f1-score   support\n",
      "\n",
      "        Good       0.49      0.84      0.62      2753\n",
      "        Poor       0.61      0.51      0.56      5155\n",
      "    Standard       0.72      0.62      0.67      8740\n",
      "\n",
      "    accuracy                           0.63     16648\n",
      "   macro avg       0.61      0.66      0.61     16648\n",
      "weighted avg       0.65      0.63      0.63     16648\n",
      "\n"
     ]
    }
   ],
   "source": [
    "print(classification_report(y_val, y_pred_val_model_3, zero_division = 0))"
   ]
  },
  {
   "cell_type": "code",
   "execution_count": 156,
   "id": "4a2cb521-009e-4e15-8910-46e497e6e8c1",
   "metadata": {},
   "outputs": [
    {
     "name": "stdout",
     "output_type": "stream",
     "text": [
      "              precision    recall  f1-score   support\n",
      "\n",
      "        Good       0.49      0.84      0.62      8604\n",
      "        Poor       0.64      0.59      0.62     15111\n",
      "    Standard       0.76      0.62      0.68     26229\n",
      "\n",
      "    accuracy                           0.65     49944\n",
      "   macro avg       0.63      0.68      0.64     49944\n",
      "weighted avg       0.68      0.65      0.65     49944\n",
      "\n"
     ]
    }
   ],
   "source": [
    "print(classification_report(y_train, y_pred_train_model_4, zero_division = 0))"
   ]
  },
  {
   "cell_type": "code",
   "execution_count": 157,
   "id": "32285c9d-61f5-42e4-9d6f-5f647ce6dcdb",
   "metadata": {},
   "outputs": [
    {
     "name": "stdout",
     "output_type": "stream",
     "text": [
      "              precision    recall  f1-score   support\n",
      "\n",
      "        Good       0.49      0.84      0.62      2753\n",
      "        Poor       0.64      0.57      0.61      5155\n",
      "    Standard       0.75      0.63      0.68      8740\n",
      "\n",
      "    accuracy                           0.65     16648\n",
      "   macro avg       0.63      0.68      0.64     16648\n",
      "weighted avg       0.67      0.65      0.65     16648\n",
      "\n"
     ]
    }
   ],
   "source": [
    "print(classification_report(y_val, y_pred_val_model_4, zero_division = 0))"
   ]
  },
  {
   "cell_type": "code",
   "execution_count": 158,
   "id": "ec9708e7-95d6-48b8-ad5f-cee2fbf554cb",
   "metadata": {},
   "outputs": [
    {
     "name": "stdout",
     "output_type": "stream",
     "text": [
      "              precision    recall  f1-score   support\n",
      "\n",
      "        Good       0.00      0.00      0.00      8604\n",
      "        Poor       0.00      0.00      0.00     15111\n",
      "    Standard       0.53      1.00      0.69     26229\n",
      "\n",
      "    accuracy                           0.53     49944\n",
      "   macro avg       0.18      0.33      0.23     49944\n",
      "weighted avg       0.28      0.53      0.36     49944\n",
      "\n"
     ]
    }
   ],
   "source": [
    "print(classification_report(y_train, y_pred_train_model_5, zero_division = 0))"
   ]
  },
  {
   "cell_type": "code",
   "execution_count": 159,
   "id": "7aebe86c-18ff-4075-84cc-c8e9ef2ac22a",
   "metadata": {},
   "outputs": [
    {
     "name": "stdout",
     "output_type": "stream",
     "text": [
      "              precision    recall  f1-score   support\n",
      "\n",
      "        Good       0.00      0.00      0.00      2753\n",
      "        Poor       0.00      0.00      0.00      5155\n",
      "    Standard       0.52      1.00      0.69      8740\n",
      "\n",
      "    accuracy                           0.52     16648\n",
      "   macro avg       0.17      0.33      0.23     16648\n",
      "weighted avg       0.28      0.52      0.36     16648\n",
      "\n"
     ]
    }
   ],
   "source": [
    "print(classification_report(y_val, y_pred_val_model_5, zero_division = 0))"
   ]
  },
  {
   "cell_type": "code",
   "execution_count": 160,
   "id": "3099ac44-7ee3-4891-b2e9-bd92844acda7",
   "metadata": {},
   "outputs": [
    {
     "name": "stdout",
     "output_type": "stream",
     "text": [
      "              precision    recall  f1-score   support\n",
      "\n",
      "        Good       0.00      0.00      0.00      8604\n",
      "        Poor       0.00      0.00      0.00     15111\n",
      "    Standard       0.53      1.00      0.69     26229\n",
      "\n",
      "    accuracy                           0.53     49944\n",
      "   macro avg       0.18      0.33      0.23     49944\n",
      "weighted avg       0.28      0.53      0.36     49944\n",
      "\n"
     ]
    }
   ],
   "source": [
    "print(classification_report(y_train, y_pred_train_model_6, zero_division = 0))"
   ]
  },
  {
   "cell_type": "code",
   "execution_count": 161,
   "id": "5ac20b2c-8e78-4239-8d00-215bbd143ea8",
   "metadata": {},
   "outputs": [
    {
     "name": "stdout",
     "output_type": "stream",
     "text": [
      "              precision    recall  f1-score   support\n",
      "\n",
      "        Good       0.00      0.00      0.00      2753\n",
      "        Poor       0.00      0.00      0.00      5155\n",
      "    Standard       0.52      1.00      0.69      8740\n",
      "\n",
      "    accuracy                           0.52     16648\n",
      "   macro avg       0.17      0.33      0.23     16648\n",
      "weighted avg       0.28      0.52      0.36     16648\n",
      "\n"
     ]
    }
   ],
   "source": [
    "print(classification_report(y_val, y_pred_val_model_6, zero_division = 0))"
   ]
  },
  {
   "cell_type": "code",
   "execution_count": 162,
   "id": "5b6f3085-7709-4fe2-8f57-d647ec264bd2",
   "metadata": {},
   "outputs": [
    {
     "name": "stdout",
     "output_type": "stream",
     "text": [
      "[[    0     0  8604]\n",
      " [    0     0 15111]\n",
      " [    0     0 26229]]\n"
     ]
    }
   ],
   "source": [
    "print(confusion_matrix(y_train, y_pred_train_model_1))"
   ]
  },
  {
   "cell_type": "code",
   "execution_count": 163,
   "id": "381061f4-74c5-4f33-b5d6-6083447df216",
   "metadata": {},
   "outputs": [
    {
     "name": "stdout",
     "output_type": "stream",
     "text": [
      "[[   0    0 2753]\n",
      " [   0    0 5155]\n",
      " [   0    0 8740]]\n"
     ]
    }
   ],
   "source": [
    "print(confusion_matrix(y_val, y_pred_val_model_1))"
   ]
  },
  {
   "cell_type": "code",
   "execution_count": 164,
   "id": "114e90e9-9d14-4865-bbf8-edabcfd2e602",
   "metadata": {},
   "outputs": [
    {
     "name": "stdout",
     "output_type": "stream",
     "text": [
      "[[    0     0  8604]\n",
      " [    0     0 15111]\n",
      " [    0     0 26229]]\n"
     ]
    }
   ],
   "source": [
    "print(confusion_matrix(y_train, y_pred_train_model_2))"
   ]
  },
  {
   "cell_type": "code",
   "execution_count": 165,
   "id": "e4e0e4c3-ad47-4df1-920e-442d0aa240ed",
   "metadata": {},
   "outputs": [
    {
     "name": "stdout",
     "output_type": "stream",
     "text": [
      "[[   0    0 2753]\n",
      " [   0    0 5155]\n",
      " [   0    0 8740]]\n"
     ]
    }
   ],
   "source": [
    "print(confusion_matrix(y_val, y_pred_val_model_2))"
   ]
  },
  {
   "cell_type": "code",
   "execution_count": 166,
   "id": "e954ce79-84bb-435a-8103-8298699b8cc7",
   "metadata": {},
   "outputs": [
    {
     "name": "stdout",
     "output_type": "stream",
     "text": [
      "[[ 7209   178  1217]\n",
      " [ 2278  7858  4975]\n",
      " [ 5102  4899 16228]]\n"
     ]
    }
   ],
   "source": [
    "print(confusion_matrix(y_train, y_pred_train_model_3))"
   ]
  },
  {
   "cell_type": "code",
   "execution_count": 167,
   "id": "9c2b433b-2619-469f-a78f-517b59a2732c",
   "metadata": {},
   "outputs": [
    {
     "name": "stdout",
     "output_type": "stream",
     "text": [
      "[[2312   60  381]\n",
      " [ 762 2651 1742]\n",
      " [1651 1635 5454]]\n"
     ]
    }
   ],
   "source": [
    "print(confusion_matrix(y_val, y_pred_val_model_3))"
   ]
  },
  {
   "cell_type": "code",
   "execution_count": 168,
   "id": "8e97f303-9112-4b20-b3c8-0d42f6a4c30a",
   "metadata": {},
   "outputs": [
    {
     "name": "stdout",
     "output_type": "stream",
     "text": [
      "[[ 7209   155  1240]\n",
      " [ 2278  8937  3896]\n",
      " [ 5102  4826 16301]]\n"
     ]
    }
   ],
   "source": [
    "print(confusion_matrix(y_train, y_pred_train_model_4))"
   ]
  },
  {
   "cell_type": "code",
   "execution_count": 169,
   "id": "64c448ed-e986-4f42-9138-717209d0979d",
   "metadata": {},
   "outputs": [
    {
     "name": "stdout",
     "output_type": "stream",
     "text": [
      "[[2312   50  391]\n",
      " [ 762 2961 1432]\n",
      " [1651 1601 5488]]\n"
     ]
    }
   ],
   "source": [
    "print(confusion_matrix(y_val, y_pred_val_model_4))"
   ]
  },
  {
   "cell_type": "code",
   "execution_count": 170,
   "id": "fe26a1f5-141b-4e94-a499-8caa77777052",
   "metadata": {},
   "outputs": [
    {
     "name": "stdout",
     "output_type": "stream",
     "text": [
      "[[    0     0  8604]\n",
      " [    0     0 15111]\n",
      " [    0     0 26229]]\n"
     ]
    }
   ],
   "source": [
    "print(confusion_matrix(y_train, y_pred_train_model_5))"
   ]
  },
  {
   "cell_type": "code",
   "execution_count": 171,
   "id": "4cebd000-eb8b-482a-bccc-307bcd830d43",
   "metadata": {},
   "outputs": [
    {
     "name": "stdout",
     "output_type": "stream",
     "text": [
      "[[   0    0 2753]\n",
      " [   0    0 5155]\n",
      " [   0    0 8740]]\n"
     ]
    }
   ],
   "source": [
    "print(confusion_matrix(y_val, y_pred_val_model_5))"
   ]
  },
  {
   "cell_type": "code",
   "execution_count": 172,
   "id": "2f6ae7be-e867-499d-a372-09a583d3cd6b",
   "metadata": {},
   "outputs": [
    {
     "name": "stdout",
     "output_type": "stream",
     "text": [
      "[[    0     0  8604]\n",
      " [    0     0 15111]\n",
      " [    0     0 26229]]\n"
     ]
    }
   ],
   "source": [
    "print(confusion_matrix(y_train, y_pred_train_model_6))"
   ]
  },
  {
   "cell_type": "code",
   "execution_count": 173,
   "id": "0ae6e2dd-635e-4a1b-aaa0-6b5c2a659d7e",
   "metadata": {},
   "outputs": [
    {
     "name": "stdout",
     "output_type": "stream",
     "text": [
      "[[   0    0 2753]\n",
      " [   0    0 5155]\n",
      " [   0    0 8740]]\n"
     ]
    }
   ],
   "source": [
    "print(confusion_matrix(y_val, y_pred_val_model_6))"
   ]
  },
  {
   "cell_type": "markdown",
   "id": "22998f58-3398-41ad-b280-ffa5b327f1cc",
   "metadata": {},
   "source": [
    "### <div align='justify' style='color:blue'>**Based on the obtained results, it appears that there isn't an appropriate model. However, among the explored models, model 4 demonstrates better metrics, especially considering its consistency between the values derived from training and validation datasets, suggesting that the model isn't overfitting. A notable aspect to mention is the decision_function_shape parameter, which for model 4 is set to 'ovr' (one vs. rest), a more suitable choice for multiclass classification. This contrasts with model 3, which was created using 'ovo' (one versus one), making it less favorable in this context.**</div>"
   ]
  },
  {
   "cell_type": "markdown",
   "id": "1b74a231-89ec-4c6d-a79f-b7fb39258952",
   "metadata": {},
   "source": [
    "### **Using model 4 to make prediction, generate classification report and confusion matrix based on test data**"
   ]
  },
  {
   "cell_type": "code",
   "execution_count": 175,
   "id": "404af866-3674-4b5e-aedd-5ae8fa4b06ac",
   "metadata": {},
   "outputs": [
    {
     "data": {
      "text/plain": [
       "array(['Poor', 'Standard', 'Poor', ..., 'Standard', 'Good', 'Standard'],\n",
       "      dtype=object)"
      ]
     },
     "execution_count": 175,
     "metadata": {},
     "output_type": "execute_result"
    }
   ],
   "source": [
    "x_test_scaled = sc.fit_transform(x_test) # Scaling x_test\n",
    "y_pred_test_model_4 = model_4.predict(x_test_scaled)\n",
    "y_pred_test_model_4"
   ]
  },
  {
   "cell_type": "code",
   "execution_count": 176,
   "id": "5f274a13-7cd8-4f14-acb2-785f938a1ccc",
   "metadata": {},
   "outputs": [
    {
     "name": "stdout",
     "output_type": "stream",
     "text": [
      "              precision    recall  f1-score   support\n",
      "\n",
      "        Good       0.49      0.82      0.61      2838\n",
      "        Poor       0.63      0.59      0.61      4945\n",
      "    Standard       0.76      0.62      0.68      8865\n",
      "\n",
      "    accuracy                           0.65     16648\n",
      "   macro avg       0.63      0.68      0.64     16648\n",
      "weighted avg       0.68      0.65      0.65     16648\n",
      "\n"
     ]
    }
   ],
   "source": [
    "print(classification_report(y_test, y_pred_test_model_4, zero_division = 0))"
   ]
  },
  {
   "cell_type": "code",
   "execution_count": 177,
   "id": "e191f333-28e3-408b-b32d-13a5d51d4a6a",
   "metadata": {},
   "outputs": [
    {
     "name": "stdout",
     "output_type": "stream",
     "text": [
      "[[2335   45  458]\n",
      " [ 754 2909 1282]\n",
      " [1685 1668 5512]]\n"
     ]
    }
   ],
   "source": [
    "print(confusion_matrix(y_test, y_pred_test_model_4))"
   ]
  },
  {
   "cell_type": "code",
   "execution_count": 179,
   "id": "b05cd06c-16cc-4a22-9c1e-13f955dfdb66",
   "metadata": {},
   "outputs": [
    {
     "data": {
      "text/plain": [
       "array(['Standard', 'Standard', 'Poor', ..., 'Standard', 'Poor', 'Poor'],\n",
       "      dtype=object)"
      ]
     },
     "execution_count": 179,
     "metadata": {},
     "output_type": "execute_result"
    }
   ],
   "source": [
    "y_test # Displaying y_test data (what is expected to get as prediction \"ideal\" case)"
   ]
  },
  {
   "cell_type": "markdown",
   "id": "ba2ab3af-ac84-442f-9f2a-8eae9521858b",
   "metadata": {},
   "source": [
    "### <div align='justify' style='color:blue'>**Based on y_test and y_pred_test_model4, we can validate that the model is not 100% accurate or precise in its predictions. This leads to misclassification of the target classes, indicating that the model is not appropriate to trust or work with.**</div>"
   ]
  },
  {
   "cell_type": "markdown",
   "id": "601419de-0038-4e94-a0ee-65064f006818",
   "metadata": {},
   "source": []
  }
 ],
 "metadata": {
  "kernelspec": {
   "display_name": "Python 3 (ipykernel)",
   "language": "python",
   "name": "python3"
  },
  "language_info": {
   "codemirror_mode": {
    "name": "ipython",
    "version": 3
   },
   "file_extension": ".py",
   "mimetype": "text/x-python",
   "name": "python",
   "nbconvert_exporter": "python",
   "pygments_lexer": "ipython3",
   "version": "3.11.5"
  }
 },
 "nbformat": 4,
 "nbformat_minor": 5
}
